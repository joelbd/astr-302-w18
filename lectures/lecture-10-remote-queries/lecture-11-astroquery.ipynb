{
 "cells": [
  {
   "cell_type": "markdown",
   "metadata": {
    "slideshow": {
     "slide_type": "slide"
    }
   },
   "source": [
    "## Astroquery (continued) ##\n",
    "\n",
    "(based on https://github.com/ESO-python/ESOPythonTutorials)\n",
    "\n",
    "[Astroquery](http://astroquery.readthedocs.org) is a set of related tools for querying different astronomical database services,  e.g. SIMBAD, VizieR, and IRSA-IPAC, and for retrieving data from archives, e.g. the ESO, IRSA, and NRAO archives.  It also includes tools for querying other astronomy-related databases such as line-list servers at NIST (primarily for optical/NIR electronic transitions) and Splatalogue for mm/radio molecular transitions."
   ]
  },
  {
   "cell_type": "markdown",
   "metadata": {
    "slideshow": {
     "slide_type": "slide"
    }
   },
   "source": [
    "### Warning: Work in Progress\n",
    "\n",
    "Astroquery submodules _try_ to expose a common API (i.e., the function names, arguments, return values, should be the same from module to module). Each astroquery submodule should include a `query` method, or a set of `query_*` methods, depending on the capabilities the service offers. This is still _not_ the case universally (even if documentation says otherwise)."
   ]
  },
  {
   "cell_type": "markdown",
   "metadata": {
    "slideshow": {
     "slide_type": "slide"
    }
   },
   "source": [
    "## Examples: SIMBAD general query\n",
    "\n",
    "SIMBAD is the acronym for **S**et of **I**dentifications, **M**easurements and **B**ibliography for **A**stronomical **D**ata. The SIMBAD database is managed by the Centre de Données astronomiques de Strasbourg (CDS), France.\n",
    "\n",
    "SIMBAD supports queries by source name (`query_object`) and by region (`query_region`).  The returned values are (almost) always [astropy tables](docs.astropy.org/en/latest/tables/)."
   ]
  },
  {
   "cell_type": "code",
   "execution_count": 1,
   "metadata": {
    "collapsed": true,
    "slideshow": {
     "slide_type": "-"
    }
   },
   "outputs": [],
   "source": [
    "from astroquery.simbad import Simbad\n",
    "from astropy import coordinates\n",
    "from astropy import units as u"
   ]
  },
  {
   "cell_type": "markdown",
   "metadata": {
    "slideshow": {
     "slide_type": "slide"
    }
   },
   "source": [
    "Querying an object by name:"
   ]
  },
  {
   "cell_type": "code",
   "execution_count": 2,
   "metadata": {
    "slideshow": {
     "slide_type": "-"
    }
   },
   "outputs": [
    {
     "data": {
      "text/html": [
       "&lt;Table masked=True length=1&gt;\n",
       "<table id=\"table4489703320\" class=\"table-striped table-bordered table-condensed\">\n",
       "<thead><tr><th>MAIN_ID</th><th>RA</th><th>DEC</th><th>RA_PREC</th><th>DEC_PREC</th><th>COO_ERR_MAJA</th><th>COO_ERR_MINA</th><th>COO_ERR_ANGLE</th><th>COO_QUAL</th><th>COO_WAVELENGTH</th><th>COO_BIBCODE</th></tr></thead>\n",
       "<thead><tr><th></th><th>&quot;h:m:s&quot;</th><th>&quot;d:m:s&quot;</th><th></th><th></th><th>mas</th><th>mas</th><th>deg</th><th></th><th></th><th></th></tr></thead>\n",
       "<thead><tr><th>object</th><th>str13</th><th>str13</th><th>int16</th><th>int16</th><th>float32</th><th>float32</th><th>int16</th><th>str1</th><th>str1</th><th>object</th></tr></thead>\n",
       "<tr><td>M  31</td><td>00 42 44.330</td><td>+41 16 07.50</td><td>7</td><td>7</td><td>--</td><td>--</td><td>0</td><td>B</td><td>I</td><td>2006AJ....131.1163S</td></tr>\n",
       "</table>"
      ],
      "text/plain": [
       "<Table masked=True length=1>\n",
       "MAIN_ID      RA          DEC      ... COO_WAVELENGTH     COO_BIBCODE    \n",
       "          \"h:m:s\"      \"d:m:s\"    ...                                   \n",
       " object    str13        str13     ...      str1             object      \n",
       "------- ------------ ------------ ... -------------- -------------------\n",
       "  M  31 00 42 44.330 +41 16 07.50 ...              I 2006AJ....131.1163S"
      ]
     },
     "execution_count": 2,
     "metadata": {},
     "output_type": "execute_result"
    }
   ],
   "source": [
    "result1 = Simbad.query_object('M 31')\n",
    "result1"
   ]
  },
  {
   "cell_type": "markdown",
   "metadata": {
    "slideshow": {
     "slide_type": "slide"
    }
   },
   "source": [
    "Querying by position:"
   ]
  },
  {
   "cell_type": "code",
   "execution_count": 3,
   "metadata": {
    "slideshow": {
     "slide_type": "-"
    }
   },
   "outputs": [
    {
     "name": "stderr",
     "output_type": "stream",
     "text": [
      "/Users/mjuric/anaconda3/lib/python3.6/site-packages/astroquery/utils/commons.py:162: UserWarning: Coordinate string is being interpreted as an ICRS coordinate.\n",
      "  warnings.warn(\"Coordinate string is being interpreted as an \"\n"
     ]
    },
    {
     "data": {
      "text/html": [
       "&lt;Table masked=True length=662&gt;\n",
       "<table id=\"table4489750624\" class=\"table-striped table-bordered table-condensed\">\n",
       "<thead><tr><th>MAIN_ID</th><th>RA</th><th>DEC</th><th>RA_PREC</th><th>DEC_PREC</th><th>COO_ERR_MAJA</th><th>COO_ERR_MINA</th><th>COO_ERR_ANGLE</th><th>COO_QUAL</th><th>COO_WAVELENGTH</th><th>COO_BIBCODE</th></tr></thead>\n",
       "<thead><tr><th></th><th>&quot;h:m:s&quot;</th><th>&quot;d:m:s&quot;</th><th></th><th></th><th>mas</th><th>mas</th><th>deg</th><th></th><th></th><th></th></tr></thead>\n",
       "<thead><tr><th>object</th><th>str13</th><th>str13</th><th>int16</th><th>int16</th><th>float32</th><th>float32</th><th>int16</th><th>str1</th><th>str1</th><th>object</th></tr></thead>\n",
       "<tr><td>M  42</td><td>05 35 17.3</td><td>-05 23 28</td><td>5</td><td>5</td><td>7500.000</td><td>7500.000</td><td>90</td><td>D</td><td></td><td>1981MNRAS.194..693L</td></tr>\n",
       "<tr><td>NAME Ori Region</td><td>05 35 17.30</td><td>-05 23 28.0</td><td>6</td><td>6</td><td>--</td><td>--</td><td>0</td><td>D</td><td>O</td><td></td></tr>\n",
       "<tr><td>[OW94] 172-237</td><td>05 35 17.20</td><td>-05 23 26.8</td><td>6</td><td>6</td><td>--</td><td>--</td><td>0</td><td>D</td><td></td><td>1999AJ....117.1375S</td></tr>\n",
       "<tr><td>[OW94] 172-327</td><td>05 35 17.20</td><td>-05 23 26.8</td><td>6</td><td>6</td><td>--</td><td>--</td><td>0</td><td>D</td><td></td><td>1996AJ....111..846O</td></tr>\n",
       "<tr><td>DOH  7 175-328</td><td>05 35 17.5</td><td>-05 23 28</td><td>5</td><td>5</td><td>--</td><td>--</td><td>0</td><td>D</td><td></td><td>2004AJ....127.3456D</td></tr>\n",
       "<tr><td>MAX 126</td><td>05 35 17.11</td><td>-05 23 29.3</td><td>6</td><td>6</td><td>--</td><td>--</td><td>0</td><td>D</td><td>I</td><td>2005AJ....129.1534R</td></tr>\n",
       "<tr><td>DOH  7 171-327</td><td>05 35 17.1</td><td>-05 23 27</td><td>5</td><td>5</td><td>--</td><td>--</td><td>0</td><td>D</td><td></td><td>2004AJ....127.3456D</td></tr>\n",
       "<tr><td>MAX 125</td><td>05 35 17.11</td><td>-05 23 26.6</td><td>6</td><td>6</td><td>--</td><td>--</td><td>0</td><td>D</td><td>I</td><td>2005AJ....129.1534R</td></tr>\n",
       "<tr><td>[OW94] 171-326</td><td>05 35 17.1</td><td>-05 23 26</td><td>5</td><td>5</td><td>--</td><td>--</td><td>0</td><td>D</td><td></td><td>2004AJ....127.3456D</td></tr>\n",
       "<tr><td>...</td><td>...</td><td>...</td><td>...</td><td>...</td><td>...</td><td>...</td><td>...</td><td>...</td><td>...</td><td>...</td></tr>\n",
       "<tr><td>V* V2370 Ori</td><td>05 35 20.66</td><td>-05 22 55.7</td><td>6</td><td>6</td><td>150.000</td><td>150.000</td><td>90</td><td>C</td><td>O</td><td>2009A&amp;A...502..883R</td></tr>\n",
       "<tr><td>[OW94] 133-329</td><td>05 35 13.3</td><td>-05 23 29</td><td>5</td><td>5</td><td>--</td><td>--</td><td>0</td><td>D</td><td></td><td>2004AJ....127.3456D</td></tr>\n",
       "<tr><td>V* V1399 Ori</td><td>05 35 21.045</td><td>-05 23 49.02</td><td>7</td><td>7</td><td>60.000</td><td>60.000</td><td>0</td><td>B</td><td>N</td><td>2003yCat.2246....0C</td></tr>\n",
       "<tr><td>DOH 14 210-351</td><td>05 35 21.0</td><td>-05 23 51</td><td>5</td><td>5</td><td>--</td><td>--</td><td>0</td><td>D</td><td></td><td>2004AJ....127.3456D</td></tr>\n",
       "<tr><td>COUP J053521.2-052316</td><td>05 35 21.239</td><td>-05 23 16.95</td><td>7</td><td>7</td><td>--</td><td>--</td><td>0</td><td>D</td><td></td><td>2000ApJ...540.1016L</td></tr>\n",
       "<tr><td>[H97b] 20072</td><td>05 35 16.91</td><td>-05 22 28.4</td><td>6</td><td>6</td><td>150.000</td><td>150.000</td><td>90</td><td>C</td><td>O</td><td>2009A&amp;A...502..883R</td></tr>\n",
       "<tr><td>[OW94] 134-342</td><td>05 35 13.4</td><td>-05 23 42</td><td>5</td><td>5</td><td>--</td><td>--</td><td>0</td><td>D</td><td>O</td><td>2003AJ....125..277O</td></tr>\n",
       "<tr><td>[SCB99] 181</td><td>05 35 17.608</td><td>-05 22 28.24</td><td>7</td><td>7</td><td>--</td><td>--</td><td>0</td><td>D</td><td></td><td>1999AJ....117.1375S</td></tr>\n",
       "<tr><td>CXOONC J053518.5-052232</td><td>05 35 18.590</td><td>-05 22 31.23</td><td>7</td><td>7</td><td>--</td><td>--</td><td>0</td><td>D</td><td></td><td>2005ApJS..160..319G</td></tr>\n",
       "<tr><td>MMB G208.996-19.386</td><td>05 35 14.50</td><td>-05 22 45.0</td><td>6</td><td>6</td><td>400.000</td><td>400.000</td><td>90</td><td>C</td><td>R</td><td>2010MNRAS.404.1029C</td></tr>\n",
       "</table>"
      ],
      "text/plain": [
       "<Table masked=True length=662>\n",
       "        MAIN_ID              RA      ... COO_WAVELENGTH     COO_BIBCODE    \n",
       "                          \"h:m:s\"    ...                                   \n",
       "         object            str13     ...      str1             object      \n",
       "----------------------- ------------ ... -------------- -------------------\n",
       "                  M  42   05 35 17.3 ...                1981MNRAS.194..693L\n",
       "        NAME Ori Region  05 35 17.30 ...              O                    \n",
       "         [OW94] 172-237  05 35 17.20 ...                1999AJ....117.1375S\n",
       "         [OW94] 172-327  05 35 17.20 ...                1996AJ....111..846O\n",
       "         DOH  7 175-328   05 35 17.5 ...                2004AJ....127.3456D\n",
       "                MAX 126  05 35 17.11 ...              I 2005AJ....129.1534R\n",
       "         DOH  7 171-327   05 35 17.1 ...                2004AJ....127.3456D\n",
       "                MAX 125  05 35 17.11 ...              I 2005AJ....129.1534R\n",
       "         [OW94] 171-326   05 35 17.1 ...                2004AJ....127.3456D\n",
       "                    ...          ... ...            ...                 ...\n",
       "           V* V2370 Ori  05 35 20.66 ...              O 2009A&A...502..883R\n",
       "         [OW94] 133-329   05 35 13.3 ...                2004AJ....127.3456D\n",
       "           V* V1399 Ori 05 35 21.045 ...              N 2003yCat.2246....0C\n",
       "         DOH 14 210-351   05 35 21.0 ...                2004AJ....127.3456D\n",
       "  COUP J053521.2-052316 05 35 21.239 ...                2000ApJ...540.1016L\n",
       "           [H97b] 20072  05 35 16.91 ...              O 2009A&A...502..883R\n",
       "         [OW94] 134-342   05 35 13.4 ...              O 2003AJ....125..277O\n",
       "            [SCB99] 181 05 35 17.608 ...                1999AJ....117.1375S\n",
       "CXOONC J053518.5-052232 05 35 18.590 ...                2005ApJS..160..319G\n",
       "    MMB G208.996-19.386  05 35 14.50 ...              R 2010MNRAS.404.1029C"
      ]
     },
     "execution_count": 3,
     "metadata": {},
     "output_type": "execute_result"
    }
   ],
   "source": [
    "result2 = Simbad.query_region(\"05h35m17.3s -05d23m28s\", radius=1*u.arcmin)\n",
    "result2"
   ]
  },
  {
   "cell_type": "markdown",
   "metadata": {
    "slideshow": {
     "slide_type": "slide"
    }
   },
   "source": [
    "Better:"
   ]
  },
  {
   "cell_type": "code",
   "execution_count": 5,
   "metadata": {
    "slideshow": {
     "slide_type": "-"
    }
   },
   "outputs": [
    {
     "data": {
      "text/html": [
       "&lt;Table masked=True length=4&gt;\n",
       "<table id=\"table4363837792\" class=\"table-striped table-bordered table-condensed\">\n",
       "<thead><tr><th>MAIN_ID</th><th>RA</th><th>DEC</th><th>RA_PREC</th><th>DEC_PREC</th><th>COO_ERR_MAJA</th><th>COO_ERR_MINA</th><th>COO_ERR_ANGLE</th><th>COO_QUAL</th><th>COO_WAVELENGTH</th><th>COO_BIBCODE</th></tr></thead>\n",
       "<thead><tr><th></th><th>&quot;h:m:s&quot;</th><th>&quot;d:m:s&quot;</th><th></th><th></th><th>mas</th><th>mas</th><th>deg</th><th></th><th></th><th></th></tr></thead>\n",
       "<thead><tr><th>object</th><th>str13</th><th>str13</th><th>int16</th><th>int16</th><th>float32</th><th>float32</th><th>int16</th><th>str1</th><th>str1</th><th>object</th></tr></thead>\n",
       "<tr><td>NAME Barnard&apos;s star</td><td>17 57 48.4980</td><td>+04 41 36.207</td><td>9</td><td>9</td><td>15.100</td><td>10.720</td><td>90</td><td>A</td><td>O</td><td>2007A&amp;A...474..653V</td></tr>\n",
       "<tr><td>TYC  425-262-1</td><td>17 57 51.948</td><td>+04 42 20.25</td><td>7</td><td>7</td><td>66.000</td><td>58.000</td><td>0</td><td>B</td><td>O</td><td>2000A&amp;A...355L..27H</td></tr>\n",
       "<tr><td>1RXS J175749.5+043955</td><td>17 57 49.505</td><td>+04 39 55.01</td><td>7</td><td>7</td><td>--</td><td>--</td><td>0</td><td>D</td><td></td><td></td></tr>\n",
       "<tr><td>WISEA J175747.94+044323.8</td><td>17 57 47.94</td><td>+04 43 23.8</td><td>6</td><td>6</td><td>--</td><td>--</td><td>0</td><td>D</td><td></td><td>2014ApJ...783..122K</td></tr>\n",
       "</table>"
      ],
      "text/plain": [
       "<Table masked=True length=4>\n",
       "         MAIN_ID                RA      ... COO_WAVELENGTH     COO_BIBCODE    \n",
       "                             \"h:m:s\"    ...                                   \n",
       "          object              str13     ...      str1             object      \n",
       "------------------------- ------------- ... -------------- -------------------\n",
       "      NAME Barnard's star 17 57 48.4980 ...              O 2007A&A...474..653V\n",
       "           TYC  425-262-1  17 57 51.948 ...              O 2000A&A...355L..27H\n",
       "    1RXS J175749.5+043955  17 57 49.505 ...                                   \n",
       "WISEA J175747.94+044323.8   17 57 47.94 ...                2014ApJ...783..122K"
      ]
     },
     "execution_count": 5,
     "metadata": {},
     "output_type": "execute_result"
    }
   ],
   "source": [
    "co = coordinates.SkyCoord(l=31.0087, b=14.0627,\n",
    "                          unit=(u.deg, u.deg),\n",
    "                          frame='galactic')\n",
    "result3 = Simbad.query_region(co)\n",
    "result3"
   ]
  },
  {
   "cell_type": "markdown",
   "metadata": {
    "slideshow": {
     "slide_type": "slide"
    }
   },
   "source": [
    "### SIMBAD: Querying named catalogs"
   ]
  },
  {
   "cell_type": "markdown",
   "metadata": {
    "slideshow": {
     "slide_type": "-"
    }
   },
   "source": [
    "There are also other query tools for some services, e.g. SIMBAD has a `query_catalog` feature that allows you to query named catalogs, e.g. the NGC catalog or the ESO catalog"
   ]
  },
  {
   "cell_type": "code",
   "execution_count": 7,
   "metadata": {
    "slideshow": {
     "slide_type": "slide"
    }
   },
   "outputs": [
    {
     "data": {
      "text/html": [
       "&lt;Table masked=True length=100&gt;\n",
       "<table id=\"table4497378552\" class=\"table-striped table-bordered table-condensed\">\n",
       "<thead><tr><th>MAIN_ID</th><th>RA</th><th>DEC</th><th>RA_PREC</th><th>DEC_PREC</th><th>COO_ERR_MAJA</th><th>COO_ERR_MINA</th><th>COO_ERR_ANGLE</th><th>COO_QUAL</th><th>COO_WAVELENGTH</th><th>COO_BIBCODE</th></tr></thead>\n",
       "<thead><tr><th></th><th>&quot;h:m:s&quot;</th><th>&quot;d:m:s&quot;</th><th></th><th></th><th>mas</th><th>mas</th><th>deg</th><th></th><th></th><th></th></tr></thead>\n",
       "<thead><tr><th>object</th><th>str13</th><th>str13</th><th>int16</th><th>int16</th><th>float32</th><th>float32</th><th>int16</th><th>str1</th><th>str1</th><th>object</th></tr></thead>\n",
       "<tr><td>2MASS J08300740-4325465</td><td>08 30 07.41</td><td>-43 25 46.6</td><td>6</td><td>6</td><td>60.000</td><td>60.000</td><td>90</td><td>B</td><td>I</td><td>2003yCat.2246....0C</td></tr>\n",
       "<tr><td>NGC  2573</td><td>01 41 35.091</td><td>-89 20 04.10</td><td>7</td><td>7</td><td>--</td><td>--</td><td>0</td><td>B</td><td>I</td><td>2006AJ....131.1163S</td></tr>\n",
       "<tr><td>ESO   1-2</td><td>05 04 36.8</td><td>-87 34 19</td><td>5</td><td>5</td><td>8000.000</td><td>8000.000</td><td>90</td><td>D</td><td></td><td>1982ESO...C......0L</td></tr>\n",
       "<tr><td>ESO   1-3</td><td>05 22 36.509</td><td>-87 50 50.02</td><td>7</td><td>7</td><td>--</td><td>--</td><td>0</td><td>B</td><td>I</td><td>2006AJ....131.1163S</td></tr>\n",
       "<tr><td>ESO   1-4</td><td>07 49 28.813</td><td>-87 56 00.77</td><td>7</td><td>7</td><td>--</td><td>--</td><td>0</td><td>B</td><td>I</td><td>2006AJ....131.1163S</td></tr>\n",
       "<tr><td>ESO   1-5</td><td>08 53 05.006</td><td>-88 05 23.00</td><td>7</td><td>7</td><td>--</td><td>--</td><td>0</td><td>B</td><td>I</td><td>2006AJ....131.1163S</td></tr>\n",
       "<tr><td>ESO   1-6</td><td>14 27 20.694</td><td>-87 46 20.06</td><td>7</td><td>7</td><td>--</td><td>--</td><td>0</td><td>B</td><td>I</td><td>2006AJ....131.1163S</td></tr>\n",
       "<tr><td>ESO   1-7</td><td>17 02 45.879</td><td>-88 55 01.94</td><td>7</td><td>7</td><td>--</td><td>--</td><td>0</td><td>B</td><td>I</td><td>2006AJ....131.1163S</td></tr>\n",
       "<tr><td>ESO   1-8</td><td>23 07 33.618</td><td>-89 06 59.07</td><td>7</td><td>7</td><td>--</td><td>--</td><td>0</td><td>B</td><td>I</td><td>2006AJ....131.1163S</td></tr>\n",
       "<tr><td>...</td><td>...</td><td>...</td><td>...</td><td>...</td><td>...</td><td>...</td><td>...</td><td>...</td><td>...</td><td>...</td></tr>\n",
       "<tr><td>ESO   4-3</td><td>03 29 49.8</td><td>-87 09 41</td><td>5</td><td>5</td><td>8000.000</td><td>8000.000</td><td>90</td><td>D</td><td></td><td>1982ESO...C......0L</td></tr>\n",
       "<tr><td>ESO   4-4</td><td>03 42 06.1</td><td>-83 53 01</td><td>5</td><td>5</td><td>8000.000</td><td>8000.000</td><td>90</td><td>D</td><td></td><td>1982ESO...C......0L</td></tr>\n",
       "<tr><td>ESO   4-5</td><td>03 44 16.134</td><td>-83 09 12.17</td><td>7</td><td>7</td><td>--</td><td>--</td><td>0</td><td>B</td><td>I</td><td>2006AJ....131.1163S</td></tr>\n",
       "<tr><td>ESO   4-6</td><td>03 49 36.9</td><td>-83 57 41</td><td>5</td><td>5</td><td>8000.000</td><td>8000.000</td><td>90</td><td>D</td><td></td><td>1982ESO...C......0L</td></tr>\n",
       "<tr><td>IC 2051</td><td>03 52 00.818</td><td>-83 49 50.32</td><td>7</td><td>7</td><td>--</td><td>--</td><td>0</td><td>B</td><td>I</td><td>2006AJ....131.1163S</td></tr>\n",
       "<tr><td>ESO   4-8</td><td>03 58 49.162</td><td>-82 30 56.99</td><td>7</td><td>7</td><td>--</td><td>--</td><td>0</td><td>B</td><td>I</td><td>2006AJ....131.1163S</td></tr>\n",
       "<tr><td>ESO   4-9</td><td>03 57 53.5</td><td>-84 21 50</td><td>5</td><td>5</td><td>8000.000</td><td>8000.000</td><td>90</td><td>D</td><td></td><td>1982ESO...C......0L</td></tr>\n",
       "<tr><td>ESO   4-10</td><td>03 59 49.135</td><td>-84 05 37.88</td><td>7</td><td>7</td><td>--</td><td>--</td><td>0</td><td>B</td><td>I</td><td>2006AJ....131.1163S</td></tr>\n",
       "<tr><td>ESO   4-11</td><td>04 00 37.201</td><td>-84 22 00.20</td><td>7</td><td>7</td><td>--</td><td>--</td><td>0</td><td>B</td><td>I</td><td>2006AJ....131.1163S</td></tr>\n",
       "<tr><td>ESO   4-12</td><td>04 22 19.590</td><td>-85 22 38.98</td><td>7</td><td>7</td><td>--</td><td>--</td><td>0</td><td>B</td><td>I</td><td>2006AJ....131.1163S</td></tr>\n",
       "</table>"
      ],
      "text/plain": [
       "<Table masked=True length=100>\n",
       "        MAIN_ID              RA      ... COO_WAVELENGTH     COO_BIBCODE    \n",
       "                          \"h:m:s\"    ...                                   \n",
       "         object            str13     ...      str1             object      \n",
       "----------------------- ------------ ... -------------- -------------------\n",
       "2MASS J08300740-4325465  08 30 07.41 ...              I 2003yCat.2246....0C\n",
       "              NGC  2573 01 41 35.091 ...              I 2006AJ....131.1163S\n",
       "              ESO   1-2   05 04 36.8 ...                1982ESO...C......0L\n",
       "              ESO   1-3 05 22 36.509 ...              I 2006AJ....131.1163S\n",
       "              ESO   1-4 07 49 28.813 ...              I 2006AJ....131.1163S\n",
       "              ESO   1-5 08 53 05.006 ...              I 2006AJ....131.1163S\n",
       "              ESO   1-6 14 27 20.694 ...              I 2006AJ....131.1163S\n",
       "              ESO   1-7 17 02 45.879 ...              I 2006AJ....131.1163S\n",
       "              ESO   1-8 23 07 33.618 ...              I 2006AJ....131.1163S\n",
       "                    ...          ... ...            ...                 ...\n",
       "              ESO   4-3   03 29 49.8 ...                1982ESO...C......0L\n",
       "              ESO   4-4   03 42 06.1 ...                1982ESO...C......0L\n",
       "              ESO   4-5 03 44 16.134 ...              I 2006AJ....131.1163S\n",
       "              ESO   4-6   03 49 36.9 ...                1982ESO...C......0L\n",
       "                IC 2051 03 52 00.818 ...              I 2006AJ....131.1163S\n",
       "              ESO   4-8 03 58 49.162 ...              I 2006AJ....131.1163S\n",
       "              ESO   4-9   03 57 53.5 ...                1982ESO...C......0L\n",
       "             ESO   4-10 03 59 49.135 ...              I 2006AJ....131.1163S\n",
       "             ESO   4-11 04 00 37.201 ...              I 2006AJ....131.1163S\n",
       "             ESO   4-12 04 22 19.590 ...              I 2006AJ....131.1163S"
      ]
     },
     "execution_count": 7,
     "metadata": {},
     "output_type": "execute_result"
    }
   ],
   "source": [
    "Simbad.ROW_LIMIT = 100\n",
    "esocat = Simbad.query_catalog('eso')\n",
    "esocat"
   ]
  },
  {
   "cell_type": "code",
   "execution_count": 8,
   "metadata": {
    "slideshow": {
     "slide_type": "slide"
    }
   },
   "outputs": [
    {
     "data": {
      "text/html": [
       "&lt;Table masked=True length=100&gt;\n",
       "<table id=\"table4497382648\" class=\"table-striped table-bordered table-condensed\">\n",
       "<thead><tr><th>MAIN_ID</th><th>RA</th><th>DEC</th><th>RA_PREC</th><th>DEC_PREC</th><th>COO_ERR_MAJA</th><th>COO_ERR_MINA</th><th>COO_ERR_ANGLE</th><th>COO_QUAL</th><th>COO_WAVELENGTH</th><th>COO_BIBCODE</th></tr></thead>\n",
       "<thead><tr><th></th><th>&quot;h:m:s&quot;</th><th>&quot;d:m:s&quot;</th><th></th><th></th><th>mas</th><th>mas</th><th>deg</th><th></th><th></th><th></th></tr></thead>\n",
       "<thead><tr><th>object</th><th>str13</th><th>str13</th><th>int16</th><th>int16</th><th>float32</th><th>float32</th><th>int16</th><th>str1</th><th>str1</th><th>object</th></tr></thead>\n",
       "<tr><td>NGC     1</td><td>00 07 15.825</td><td>+27 42 29.13</td><td>7</td><td>7</td><td>--</td><td>--</td><td>0</td><td>B</td><td>I</td><td>2006AJ....131.1163S</td></tr>\n",
       "<tr><td>NGC     2</td><td>00 07 17.104</td><td>+27 40 42.13</td><td>7</td><td>7</td><td>--</td><td>--</td><td>0</td><td>B</td><td>I</td><td>2006AJ....131.1163S</td></tr>\n",
       "<tr><td>NGC     3</td><td>00 07 16.804</td><td>+08 18 05.84</td><td>7</td><td>7</td><td>--</td><td>--</td><td>0</td><td>B</td><td>I</td><td>2006AJ....131.1163S</td></tr>\n",
       "<tr><td>NGC     4</td><td>00 07 24.4</td><td>+08 22 30</td><td>5</td><td>5</td><td>--</td><td>--</td><td>0</td><td>D</td><td>O</td><td>2003A&amp;A...412...45P</td></tr>\n",
       "<tr><td>NGC     5</td><td>00 07 48.898</td><td>+35 21 44.46</td><td>7</td><td>7</td><td>--</td><td>--</td><td>0</td><td>B</td><td>I</td><td>2006AJ....131.1163S</td></tr>\n",
       "<tr><td>NGC     7</td><td>00 08 20.3</td><td>-29 55 01</td><td>5</td><td>5</td><td>--</td><td>--</td><td>0</td><td>D</td><td>O</td><td>2003A&amp;A...412...45P</td></tr>\n",
       "<tr><td>NGC     8</td><td>00 08 45.3</td><td>+23 50 19</td><td>5</td><td>5</td><td>--</td><td>--</td><td>0</td><td>D</td><td>O</td><td>2003A&amp;A...412...45P</td></tr>\n",
       "<tr><td>NGC     9</td><td>00 08 54.713</td><td>+23 49 00.92</td><td>7</td><td>7</td><td>--</td><td>--</td><td>0</td><td>B</td><td>I</td><td>2006AJ....131.1163S</td></tr>\n",
       "<tr><td>NGC    10</td><td>00 08 34.535</td><td>-33 51 29.92</td><td>7</td><td>7</td><td>--</td><td>--</td><td>0</td><td>B</td><td>I</td><td>2006AJ....131.1163S</td></tr>\n",
       "<tr><td>...</td><td>...</td><td>...</td><td>...</td><td>...</td><td>...</td><td>...</td><td>...</td><td>...</td><td>...</td><td>...</td></tr>\n",
       "<tr><td>NGC    89</td><td>00 21 24.355</td><td>-48 39 55.28</td><td>7</td><td>7</td><td>--</td><td>--</td><td>0</td><td>B</td><td>I</td><td>2006AJ....131.1163S</td></tr>\n",
       "<tr><td>NGC    90</td><td>00 21 51.409</td><td>+22 24 00.15</td><td>7</td><td>7</td><td>--</td><td>--</td><td>0</td><td>B</td><td>I</td><td>2006AJ....131.1163S</td></tr>\n",
       "<tr><td>2MASS J00215163+2222055</td><td>00 21 51.633</td><td>+22 22 05.52</td><td>7</td><td>7</td><td>70.000</td><td>60.000</td><td>90</td><td>B</td><td>I</td><td>2003yCat.2246....0C</td></tr>\n",
       "<tr><td>NGC    92</td><td>00 21 31.713</td><td>-48 37 29.23</td><td>7</td><td>7</td><td>--</td><td>--</td><td>0</td><td>B</td><td>I</td><td>2006AJ....131.1163S</td></tr>\n",
       "<tr><td>NGC    93</td><td>00 22 03.211</td><td>+22 24 29.15</td><td>7</td><td>7</td><td>--</td><td>--</td><td>0</td><td>B</td><td>I</td><td>2006AJ....131.1163S</td></tr>\n",
       "<tr><td>NGC    94</td><td>00 22 13.516</td><td>+22 28 59.22</td><td>7</td><td>7</td><td>--</td><td>--</td><td>0</td><td>B</td><td>I</td><td>2006AJ....131.1163S</td></tr>\n",
       "<tr><td>NGC    95</td><td>00 22 13.528</td><td>+10 29 29.73</td><td>7</td><td>7</td><td>--</td><td>--</td><td>0</td><td>B</td><td>I</td><td>2006AJ....131.1163S</td></tr>\n",
       "<tr><td>NGC    96</td><td>00 22 17.697</td><td>+22 32 46.24</td><td>7</td><td>7</td><td>--</td><td>--</td><td>0</td><td>B</td><td>I</td><td>2006AJ....131.1163S</td></tr>\n",
       "<tr><td>NGC    97</td><td>00 22 29.988</td><td>+29 44 43.34</td><td>7</td><td>7</td><td>--</td><td>--</td><td>0</td><td>B</td><td>I</td><td>2006AJ....131.1163S</td></tr>\n",
       "<tr><td>NGC    98</td><td>00 22 49.518</td><td>-45 16 08.43</td><td>7</td><td>7</td><td>--</td><td>--</td><td>0</td><td>B</td><td>I</td><td>2006AJ....131.1163S</td></tr>\n",
       "</table>"
      ],
      "text/plain": [
       "<Table masked=True length=100>\n",
       "        MAIN_ID              RA      ... COO_WAVELENGTH     COO_BIBCODE    \n",
       "                          \"h:m:s\"    ...                                   \n",
       "         object            str13     ...      str1             object      \n",
       "----------------------- ------------ ... -------------- -------------------\n",
       "              NGC     1 00 07 15.825 ...              I 2006AJ....131.1163S\n",
       "              NGC     2 00 07 17.104 ...              I 2006AJ....131.1163S\n",
       "              NGC     3 00 07 16.804 ...              I 2006AJ....131.1163S\n",
       "              NGC     4   00 07 24.4 ...              O 2003A&A...412...45P\n",
       "              NGC     5 00 07 48.898 ...              I 2006AJ....131.1163S\n",
       "              NGC     7   00 08 20.3 ...              O 2003A&A...412...45P\n",
       "              NGC     8   00 08 45.3 ...              O 2003A&A...412...45P\n",
       "              NGC     9 00 08 54.713 ...              I 2006AJ....131.1163S\n",
       "              NGC    10 00 08 34.535 ...              I 2006AJ....131.1163S\n",
       "                    ...          ... ...            ...                 ...\n",
       "              NGC    89 00 21 24.355 ...              I 2006AJ....131.1163S\n",
       "              NGC    90 00 21 51.409 ...              I 2006AJ....131.1163S\n",
       "2MASS J00215163+2222055 00 21 51.633 ...              I 2003yCat.2246....0C\n",
       "              NGC    92 00 21 31.713 ...              I 2006AJ....131.1163S\n",
       "              NGC    93 00 22 03.211 ...              I 2006AJ....131.1163S\n",
       "              NGC    94 00 22 13.516 ...              I 2006AJ....131.1163S\n",
       "              NGC    95 00 22 13.528 ...              I 2006AJ....131.1163S\n",
       "              NGC    96 00 22 17.697 ...              I 2006AJ....131.1163S\n",
       "              NGC    97 00 22 29.988 ...              I 2006AJ....131.1163S\n",
       "              NGC    98 00 22 49.518 ...              I 2006AJ....131.1163S"
      ]
     },
     "execution_count": 8,
     "metadata": {},
     "output_type": "execute_result"
    }
   ],
   "source": [
    "ngccat = Simbad.query_catalog('ngc')\n",
    "ngccat"
   ]
  },
  {
   "cell_type": "markdown",
   "metadata": {
    "slideshow": {
     "slide_type": "slide"
    }
   },
   "source": [
    "### Querying sources from publications\n",
    "\n",
    "In SIMBAD, you can also query a publication to find the sources"
   ]
  },
  {
   "cell_type": "code",
   "execution_count": 9,
   "metadata": {},
   "outputs": [
    {
     "data": {
      "text/html": [
       "&lt;Table masked=True length=14&gt;\n",
       "<table id=\"table4497380632\" class=\"table-striped table-bordered table-condensed\">\n",
       "<thead><tr><th>MAIN_ID</th><th>RA</th><th>DEC</th><th>RA_PREC</th><th>DEC_PREC</th><th>COO_ERR_MAJA</th><th>COO_ERR_MINA</th><th>COO_ERR_ANGLE</th><th>COO_QUAL</th><th>COO_WAVELENGTH</th><th>COO_BIBCODE</th></tr></thead>\n",
       "<thead><tr><th></th><th>&quot;h:m:s&quot;</th><th>&quot;d:m:s&quot;</th><th></th><th></th><th>mas</th><th>mas</th><th>deg</th><th></th><th></th><th></th></tr></thead>\n",
       "<thead><tr><th>object</th><th>str13</th><th>str13</th><th>int16</th><th>int16</th><th>float32</th><th>float32</th><th>int16</th><th>str1</th><th>str1</th><th>object</th></tr></thead>\n",
       "<tr><td>M  31</td><td>00 42 44.330</td><td>+41 16 07.50</td><td>7</td><td>7</td><td>--</td><td>--</td><td>0</td><td>B</td><td>I</td><td>2006AJ....131.1163S</td></tr>\n",
       "<tr><td>[NYR2002] S167-54-21.5</td><td>02 28</td><td>+00.0</td><td>2</td><td>2</td><td>--</td><td>--</td><td>0</td><td>E</td><td></td><td></td></tr>\n",
       "<tr><td>[NYR2002] S200-24-19.8</td><td>05 03</td><td>+00.0</td><td>2</td><td>2</td><td>--</td><td>--</td><td>0</td><td>E</td><td></td><td></td></tr>\n",
       "<tr><td>[NYR2002] S183+22-19.4</td><td>07 26</td><td>+36.0</td><td>2</td><td>2</td><td>--</td><td>--</td><td>0</td><td>E</td><td></td><td></td></tr>\n",
       "<tr><td>[NYR2002] S218+22-19.5</td><td>08 19</td><td>+06.0</td><td>2</td><td>2</td><td>--</td><td>--</td><td>0</td><td>E</td><td></td><td></td></tr>\n",
       "<tr><td>[NYR2002] S223+20-19.4</td><td>08 21</td><td>+01.0</td><td>2</td><td>2</td><td>--</td><td>--</td><td>0</td><td>E</td><td></td><td></td></tr>\n",
       "<tr><td>[NYR2002] S297+63-20.5</td><td>12 41</td><td>+00.0</td><td>2</td><td>2</td><td>--</td><td>--</td><td>0</td><td>E</td><td></td><td></td></tr>\n",
       "<tr><td>[NYR2002] S006+41-20.0</td><td>14 01</td><td>+08.0</td><td>2</td><td>2</td><td>--</td><td>--</td><td>0</td><td>E</td><td></td><td></td></tr>\n",
       "<tr><td>[NYR2002] S341+57-22.5</td><td>14 10</td><td>+00.0</td><td>2</td><td>2</td><td>--</td><td>--</td><td>0</td><td>E</td><td></td><td></td></tr>\n",
       "<tr><td>NAME Serpens Dwarf</td><td>15 16 05.30</td><td>-00 06 41.0</td><td>6</td><td>6</td><td>--</td><td>--</td><td>0</td><td>D</td><td></td><td>2006MNRAS.365.1357D</td></tr>\n",
       "<tr><td>NAME Gal Center</td><td>17 45 40.04</td><td>-29 00 28.1</td><td>6</td><td>6</td><td>--</td><td>--</td><td>0</td><td>E</td><td></td><td></td></tr>\n",
       "<tr><td>NAME SDG</td><td>18 55 03.1</td><td>-30 28 42</td><td>5</td><td>5</td><td>--</td><td>--</td><td>0</td><td>D</td><td></td><td>2004AJ....127.2031K</td></tr>\n",
       "<tr><td>[NYR2002] S052-32-20.4</td><td>21 18</td><td>+00.0</td><td>2</td><td>2</td><td>--</td><td>--</td><td>0</td><td>E</td><td></td><td></td></tr>\n",
       "<tr><td>NAME Galactic Bulge</td><td></td><td></td><td>0</td><td>0</td><td>--</td><td>--</td><td>0</td><td></td><td></td><td></td></tr>\n",
       "</table>"
      ],
      "text/plain": [
       "<Table masked=True length=14>\n",
       "       MAIN_ID              RA      ... COO_WAVELENGTH     COO_BIBCODE    \n",
       "                         \"h:m:s\"    ...                                   \n",
       "        object            str13     ...      str1             object      \n",
       "---------------------- ------------ ... -------------- -------------------\n",
       "                 M  31 00 42 44.330 ...              I 2006AJ....131.1163S\n",
       "[NYR2002] S167-54-21.5        02 28 ...                                   \n",
       "[NYR2002] S200-24-19.8        05 03 ...                                   \n",
       "[NYR2002] S183+22-19.4        07 26 ...                                   \n",
       "[NYR2002] S218+22-19.5        08 19 ...                                   \n",
       "[NYR2002] S223+20-19.4        08 21 ...                                   \n",
       "[NYR2002] S297+63-20.5        12 41 ...                                   \n",
       "[NYR2002] S006+41-20.0        14 01 ...                                   \n",
       "[NYR2002] S341+57-22.5        14 10 ...                                   \n",
       "    NAME Serpens Dwarf  15 16 05.30 ...                2006MNRAS.365.1357D\n",
       "       NAME Gal Center  17 45 40.04 ...                                   \n",
       "              NAME SDG   18 55 03.1 ...                2004AJ....127.2031K\n",
       "[NYR2002] S052-32-20.4        21 18 ...                                   \n",
       "   NAME Galactic Bulge              ...                                   "
      ]
     },
     "execution_count": 9,
     "metadata": {},
     "output_type": "execute_result"
    }
   ],
   "source": [
    "newberg2002 = Simbad.query_bibobj('2002ApJ...569..245N')\n",
    "newberg2002"
   ]
  },
  {
   "cell_type": "markdown",
   "metadata": {
    "slideshow": {
     "slide_type": "slide"
    }
   },
   "source": [
    "Finally, you can modify the default parameters of the query tool, such as the `TIMEOUT` (the maximum wait time before deciding the query has failed) and the `ROW_LIMIT` (the maximum number of entries returned) by creating a new object.  You can also tell SIMBAD to return additional information, e.g. the number of citations for each object."
   ]
  },
  {
   "cell_type": "code",
   "execution_count": 10,
   "metadata": {
    "slideshow": {
     "slide_type": "-"
    }
   },
   "outputs": [
    {
     "data": {
      "text/html": [
       "&lt;Table masked=True length=14&gt;\n",
       "<table id=\"table4497840448\" class=\"table-striped table-bordered table-condensed\">\n",
       "<thead><tr><th>MAIN_ID</th><th>RA</th><th>DEC</th><th>RA_PREC</th><th>DEC_PREC</th><th>COO_ERR_MAJA</th><th>COO_ERR_MINA</th><th>COO_ERR_ANGLE</th><th>COO_QUAL</th><th>COO_WAVELENGTH</th><th>COO_BIBCODE</th><th>BIBLIST_1800_2014</th></tr></thead>\n",
       "<thead><tr><th></th><th>&quot;h:m:s&quot;</th><th>&quot;d:m:s&quot;</th><th></th><th></th><th>mas</th><th>mas</th><th>deg</th><th></th><th></th><th></th><th></th></tr></thead>\n",
       "<thead><tr><th>object</th><th>str13</th><th>str13</th><th>int16</th><th>int16</th><th>float32</th><th>float32</th><th>int16</th><th>str1</th><th>str1</th><th>object</th><th>int32</th></tr></thead>\n",
       "<tr><td>M  31</td><td>00 42 44.330</td><td>+41 16 07.50</td><td>7</td><td>7</td><td>--</td><td>--</td><td>0</td><td>B</td><td>I</td><td>2006AJ....131.1163S</td><td>8385</td></tr>\n",
       "<tr><td>[NYR2002] S167-54-21.5</td><td>02 28</td><td>+00.0</td><td>2</td><td>2</td><td>--</td><td>--</td><td>0</td><td>E</td><td></td><td></td><td>8</td></tr>\n",
       "<tr><td>[NYR2002] S200-24-19.8</td><td>05 03</td><td>+00.0</td><td>2</td><td>2</td><td>--</td><td>--</td><td>0</td><td>E</td><td></td><td></td><td>4</td></tr>\n",
       "<tr><td>[NYR2002] S183+22-19.4</td><td>07 26</td><td>+36.0</td><td>2</td><td>2</td><td>--</td><td>--</td><td>0</td><td>E</td><td></td><td></td><td>3</td></tr>\n",
       "<tr><td>[NYR2002] S218+22-19.5</td><td>08 19</td><td>+06.0</td><td>2</td><td>2</td><td>--</td><td>--</td><td>0</td><td>E</td><td></td><td></td><td>3</td></tr>\n",
       "<tr><td>[NYR2002] S223+20-19.4</td><td>08 21</td><td>+01.0</td><td>2</td><td>2</td><td>--</td><td>--</td><td>0</td><td>E</td><td></td><td></td><td>6</td></tr>\n",
       "<tr><td>[NYR2002] S297+63-20.5</td><td>12 41</td><td>+00.0</td><td>2</td><td>2</td><td>--</td><td>--</td><td>0</td><td>E</td><td></td><td></td><td>14</td></tr>\n",
       "<tr><td>[NYR2002] S006+41-20.0</td><td>14 01</td><td>+08.0</td><td>2</td><td>2</td><td>--</td><td>--</td><td>0</td><td>E</td><td></td><td></td><td>2</td></tr>\n",
       "<tr><td>[NYR2002] S341+57-22.5</td><td>14 10</td><td>+00.0</td><td>2</td><td>2</td><td>--</td><td>--</td><td>0</td><td>E</td><td></td><td></td><td>6</td></tr>\n",
       "<tr><td>NAME Serpens Dwarf</td><td>15 16 05.30</td><td>-00 06 41.0</td><td>6</td><td>6</td><td>--</td><td>--</td><td>0</td><td>D</td><td></td><td>2006MNRAS.365.1357D</td><td>450</td></tr>\n",
       "<tr><td>NAME Gal Center</td><td>17 45 40.04</td><td>-29 00 28.1</td><td>6</td><td>6</td><td>--</td><td>--</td><td>0</td><td>E</td><td></td><td></td><td>7603</td></tr>\n",
       "<tr><td>NAME SDG</td><td>18 55 03.1</td><td>-30 28 42</td><td>5</td><td>5</td><td>--</td><td>--</td><td>0</td><td>D</td><td></td><td>2004AJ....127.2031K</td><td>1203</td></tr>\n",
       "<tr><td>[NYR2002] S052-32-20.4</td><td>21 18</td><td>+00.0</td><td>2</td><td>2</td><td>--</td><td>--</td><td>0</td><td>E</td><td></td><td></td><td>2</td></tr>\n",
       "<tr><td>NAME Galactic Bulge</td><td></td><td></td><td>0</td><td>0</td><td>--</td><td>--</td><td>0</td><td></td><td></td><td></td><td>2139</td></tr>\n",
       "</table>"
      ],
      "text/plain": [
       "<Table masked=True length=14>\n",
       "       MAIN_ID              RA      ...     COO_BIBCODE     BIBLIST_1800_2014\n",
       "                         \"h:m:s\"    ...                                      \n",
       "        object            str13     ...        object             int32      \n",
       "---------------------- ------------ ... ------------------- -----------------\n",
       "                 M  31 00 42 44.330 ... 2006AJ....131.1163S              8385\n",
       "[NYR2002] S167-54-21.5        02 28 ...                                     8\n",
       "[NYR2002] S200-24-19.8        05 03 ...                                     4\n",
       "[NYR2002] S183+22-19.4        07 26 ...                                     3\n",
       "[NYR2002] S218+22-19.5        08 19 ...                                     3\n",
       "[NYR2002] S223+20-19.4        08 21 ...                                     6\n",
       "[NYR2002] S297+63-20.5        12 41 ...                                    14\n",
       "[NYR2002] S006+41-20.0        14 01 ...                                     2\n",
       "[NYR2002] S341+57-22.5        14 10 ...                                     6\n",
       "    NAME Serpens Dwarf  15 16 05.30 ... 2006MNRAS.365.1357D               450\n",
       "       NAME Gal Center  17 45 40.04 ...                                  7603\n",
       "              NAME SDG   18 55 03.1 ... 2004AJ....127.2031K              1203\n",
       "[NYR2002] S052-32-20.4        21 18 ...                                     2\n",
       "   NAME Galactic Bulge              ...                                  2139"
      ]
     },
     "execution_count": 10,
     "metadata": {},
     "output_type": "execute_result"
    }
   ],
   "source": [
    "customSimbad = Simbad()\n",
    "customSimbad.ROW_LIMIT = 100\n",
    "customSimbad.add_votable_fields('bibcodelist(1800-2014)')\n",
    "\n",
    "# bibcodelist(date1-date2) lists the number of bibliography\n",
    "# items referring to each object over that date range\n",
    "newberg2002 = customSimbad.query_bibobj('2002ApJ...569..245N')\n",
    "newberg2002"
   ]
  },
  {
   "cell_type": "markdown",
   "metadata": {
    "slideshow": {
     "slide_type": "slide"
    }
   },
   "source": [
    "## More than just catalogs\n",
    "There are archive query services that return images, spectra, instrument information, and metadata in addition to catalogs."
   ]
  },
  {
   "cell_type": "markdown",
   "metadata": {
    "slideshow": {
     "slide_type": "slide"
    }
   },
   "source": [
    "### Example: ESO archive\n",
    "\n",
    "The ESO service has the following methods:\n",
    "\n",
    " * `list_instruments` to list the available instruments that can be queried\n",
    " * `list_surveys` lists the available large public surveys\n",
    " * `query_instrument` queries for data sets from a specific instrument\n",
    " * `query_surveys` does the same for surveys\n",
    " * `get_headers` gets header information for any datasets listed from a previous query\n",
    " * `login` logs you in with your username, which is *required* for *any* data retrieval (even public data)\n",
    " * `retrieve_datasets` or (deprecated) `data_retrieval` allows you to stage *and* download any data set your username is allowed to access\n",
    " \n",
    "Queries are cached, so repeating them should be fast.  Downloaded data is also cached to the `Eso.cache_location`"
   ]
  },
  {
   "cell_type": "code",
   "execution_count": 11,
   "metadata": {
    "collapsed": true,
    "slideshow": {
     "slide_type": "slide"
    }
   },
   "outputs": [],
   "source": [
    "from astroquery.eso import Eso"
   ]
  },
  {
   "cell_type": "code",
   "execution_count": 12,
   "metadata": {
    "slideshow": {
     "slide_type": "-"
    }
   },
   "outputs": [
    {
     "data": {
      "text/plain": [
       "['fors1',\n",
       " 'fors2',\n",
       " 'sphere',\n",
       " 'vimos',\n",
       " 'omegacam',\n",
       " 'hawki',\n",
       " 'isaac',\n",
       " 'naco',\n",
       " 'visir',\n",
       " 'vircam',\n",
       " 'apex',\n",
       " 'giraffe',\n",
       " 'uves',\n",
       " 'xshooter',\n",
       " 'muse',\n",
       " 'crires',\n",
       " 'kmos',\n",
       " 'sinfoni',\n",
       " 'amber',\n",
       " 'gravity',\n",
       " 'midi',\n",
       " 'pionier']"
      ]
     },
     "execution_count": 12,
     "metadata": {},
     "output_type": "execute_result"
    }
   ],
   "source": [
    "Eso.list_instruments()"
   ]
  },
  {
   "cell_type": "markdown",
   "metadata": {
    "slideshow": {
     "slide_type": "slide"
    }
   },
   "source": [
    "In order to figure out how to construct a query, you can open the form directly"
   ]
  },
  {
   "cell_type": "code",
   "execution_count": 13,
   "metadata": {
    "collapsed": true,
    "slideshow": {
     "slide_type": "-"
    }
   },
   "outputs": [],
   "source": [
    "Eso.query_instrument('kmos', open_form=True)"
   ]
  },
  {
   "cell_type": "markdown",
   "metadata": {
    "slideshow": {
     "slide_type": "-"
    }
   },
   "source": [
    "or use the ``help`` keyword.  The printout will then show what keywords correspond to each form name.  For example, the keyword ``pi_coi`` corresponds to the form box ``PI/CoI Name``."
   ]
  },
  {
   "cell_type": "code",
   "execution_count": 14,
   "metadata": {
    "slideshow": {
     "slide_type": "-"
    }
   },
   "outputs": [
    {
     "name": "stdout",
     "output_type": "stream",
     "text": [
      "INFO: List of accepted column_filters parameters. [astroquery.eso.core]\n",
      "INFO: The presence of a column in the result table can be controlled if prefixed with a [ ] checkbox. [astroquery.eso.core]\n",
      "INFO: The default columns in the result table are shown as already ticked: [x]. [astroquery.eso.core]\n",
      "\n",
      "Target Information\n",
      "------------------\n",
      "    target: \n",
      "    resolver: simbad (SIMBAD name), ned (NED name), none (OBJECT as specified by the observer)\n",
      "    coord_sys: eq (Equatorial (FK5)), gal (Galactic)\n",
      "    coord1: \n",
      "    coord2: \n",
      "    box: \n",
      "    format: sexagesimal (Sexagesimal), decimal (Decimal)\n",
      "[x] wdb_input_file: \n",
      "\n",
      "Observation and proposal parameters\n",
      "-----------------------------------\n",
      "[ ] night: \n",
      "    stime: \n",
      "    starttime: 00 (00 hrs [UT]), 01 (01 hrs [UT]), 02 (02 hrs [UT]), 03 (03 hrs [UT]), 04 (04 hrs [UT]), 05 (05 hrs [UT]), 06 (06 hrs [UT]), 07 (07 hrs [UT]), 08 (08 hrs [UT]), 09 (09 hrs [UT]), 10 (10 hrs [UT]), 11 (11 hrs [UT]), 12 (12 hrs [UT]), 13 (13 hrs [UT]), 14 (14 hrs [UT]), 15 (15 hrs [UT]), 16 (16 hrs [UT]), 17 (17 hrs [UT]), 18 (18 hrs [UT]), 19 (19 hrs [UT]), 20 (20 hrs [UT]), 21 (21 hrs [UT]), 22 (22 hrs [UT]), 23 (23 hrs [UT]), 24 (24 hrs [UT])\n",
      "    etime: \n",
      "    endtime: 00 (00 hrs [UT]), 01 (01 hrs [UT]), 02 (02 hrs [UT]), 03 (03 hrs [UT]), 04 (04 hrs [UT]), 05 (05 hrs [UT]), 06 (06 hrs [UT]), 07 (07 hrs [UT]), 08 (08 hrs [UT]), 09 (09 hrs [UT]), 10 (10 hrs [UT]), 11 (11 hrs [UT]), 12 (12 hrs [UT]), 13 (13 hrs [UT]), 14 (14 hrs [UT]), 15 (15 hrs [UT]), 16 (16 hrs [UT]), 17 (17 hrs [UT]), 18 (18 hrs [UT]), 19 (19 hrs [UT]), 20 (20 hrs [UT]), 21 (21 hrs [UT]), 22 (22 hrs [UT]), 23 (23 hrs [UT]), 24 (24 hrs [UT])\n",
      "[x] prog_id: \n",
      "[ ] prog_type: % (Any), 0 (Normal), 1 (GTO), 2 (DDT), 3 (ToO), 4 (Large), 5 (Short), 6 (Calibration)\n",
      "[ ] obs_mode: % (All modes), s (Service), v (Visitor)\n",
      "[ ] pi_coi: \n",
      "    pi_coi_name: PI_only (as PI only), none (as PI or CoI)\n",
      "[ ] prog_title: \n",
      "\n",
      "Generic File Information\n",
      "------------------------\n",
      "[x] dp_id: \n",
      "[x] ob_id: \n",
      "[x] obs_targ_name: \n",
      "[x] exptime: \n",
      "[x] dp_cat: % (Any), ACQUISITION (ACQUISITION), CALIB (CALIB), SCIENCE (SCIENCE)\n",
      "[x] dp_type: % (Any), DARK (DARK), FLAT% (FLAT), FLAT,LAMP (FLAT,LAMP), FLAT,OFF (FLAT,OFF), FLAT,SKY (FLAT,SKY), OBJECT (OBJECT), OBJECT,SKY (OBJECT,SKY), OBJECT,SKY,STD,FLUX (OBJECT,SKY,STD,FLUX), SKY (SKY), WAVE,LAMP (WAVE,LAMP), WAVE,OFF (WAVE,OFF)\n",
      "    dp_type_user: \n",
      "[x] dp_tech: % (Any), IFU (IFU), IMAGE (IMAGE), SPECTRUM (SPECTRUM)\n",
      "    dp_tech_user: \n",
      "[ ] tpl_id: \n",
      "[x] tpl_start: \n",
      "[ ] tpl_nexp: \n",
      "[ ] tpl_expno: \n",
      "[ ] obs_tplno: \n",
      "\n",
      "Specific Instrument Information\n",
      "-------------------------------\n",
      "[x] ins_grat1_name: % (Any), IZ% (IZ), YJ% (YJ), H% (H), K% (K), HK% (HK)\n",
      "[x] ins_filt1_name: % (Any), IZ% (IZ), YJ% (YJ), H% (H), K% (K), HK% (HK)\n",
      "[x] ins_lamp1_name: \n",
      "[x] ins_lamp2_name: \n",
      "[x] ins_lamp3_name: \n",
      "[x] det_seq1_dit: \n",
      "[x] det_ndit: \n",
      "\n",
      "Ambient Parameters\n",
      "------------------\n",
      "[x] fwhm_avg: \n",
      "[ ] airmass_range: \n",
      "[ ] night_flag: % (Any), 0 (Night), 1 (Twilight), 2 (Daytime)\n",
      "[ ] moon_illu: \n",
      "\n",
      "Result set\n",
      "----------\n",
      "    order:  (nothing (faster)), dp_id (Observation Time), dp_cat (DPR.CATG), dp_tech (DPR.TECH), tpl_start (TPL.START), ob_id asc (OB.ID (ascending)), ob_id desc (OB.ID (descending)), period asc,prog_id asc (Period and Run ID (earliest first)), period desc,prog_id desc (Period and Run ID (latest first))\n"
     ]
    }
   ],
   "source": [
    "Eso.query_instrument('kmos', help=True)"
   ]
  },
  {
   "cell_type": "code",
   "execution_count": 15,
   "metadata": {
    "slideshow": {
     "slide_type": "slide"
    }
   },
   "outputs": [
    {
     "data": {
      "text/html": [
       "&lt;Table masked=True length=50&gt;\n",
       "<table id=\"table4546311280\" class=\"table-striped table-bordered table-condensed\">\n",
       "<thead><tr><th>Release Date</th><th>Object</th><th>RA</th><th>DEC</th><th>Target Ra Dec</th><th>Target l b</th><th>ProgId</th><th>DP.ID</th><th>OB.ID</th><th>OBS.TARG.NAME</th><th>EXPTIME</th><th>DPR.CATG</th><th>DPR.TYPE</th><th>DPR.TECH</th><th>INS MODE</th><th>SEQ.ARM</th><th>DET.READ.CLOCK</th><th>INS.FILT1.NAME</th><th>INS.OPTI2.NAME</th><th>INS.OPTI3.NAME</th><th>INS.OPTI4.NAME</th><th>INS.OPTI5.NAME</th><th>DIMM S-avg</th></tr></thead>\n",
       "<thead><tr><th>str10</th><th>str8</th><th>float64</th><th>float64</th><th>str23</th><th>str21</th><th>str13</th><th>str29</th><th>int64</th><th>str7</th><th>float64</th><th>str11</th><th>str8</th><th>str20</th><th>str8</th><th>str3</th><th>str20</th><th>str1</th><th>str4</th><th>str7</th><th>str7</th><th>str7</th><th>str11</th></tr></thead>\n",
       "<tr><td>2012-02-26</td><td>LAMP,AFC</td><td>83.837425</td><td>-5.52265</td><td>05:35:20.98 -05:31:21.5</td><td>209.145458 -19.427436</td><td>288.C-5038(A)</td><td>XSHOO.2012-02-26T02:37:50.587</td><td>729629</td><td>OM-1186</td><td>10.0</td><td>CALIB</td><td>LAMP,AFC</td><td>ECHELLE</td><td>CALIB</td><td>UVB</td><td>400k/1pt/lg/AFC</td><td>V</td><td>SLOT</td><td>Pin_0.5</td><td>Pin_0.5</td><td>Pin_0.5</td><td>1.07 [0.27]</td></tr>\n",
       "<tr><td>2012-02-26</td><td>LAMP,AFC</td><td>83.837425</td><td>-5.52265</td><td>05:35:20.98 -05:31:21.5</td><td>209.145458 -19.427436</td><td>288.C-5038(A)</td><td>XSHOO.2012-02-26T02:37:51.679</td><td>729629</td><td>OM-1186</td><td>1.0</td><td>CALIB</td><td>LAMP,AFC</td><td>ECHELLE</td><td>CALIB</td><td>NIR</td><td>--</td><td>V</td><td>SLOT</td><td>Pin_0.5</td><td>Pin_0.5</td><td>Pin_0.5</td><td>1.07 [0.27]</td></tr>\n",
       "<tr><td>2012-02-26</td><td>LAMP,AFC</td><td>83.837425</td><td>-5.52265</td><td>05:35:20.98 -05:31:21.5</td><td>209.145497 -19.427455</td><td>288.C-5038(A)</td><td>XSHOO.2012-02-26T02:37:51.806</td><td>729629</td><td>OM-1186</td><td>0.5</td><td>CALIB</td><td>LAMP,AFC</td><td>ECHELLE</td><td>CALIB</td><td>VIS</td><td>400k/1pt/lg/AFC</td><td>V</td><td>SLOT</td><td>Pin_0.5</td><td>Pin_0.5</td><td>Pin_0.5</td><td>1.07 [0.27]</td></tr>\n",
       "<tr><td>2012-02-26</td><td>LAMP,AFC</td><td>83.837425</td><td>-5.52265</td><td>05:35:20.98 -05:31:21.5</td><td>209.145458 -19.427436</td><td>288.C-5038(A)</td><td>XSHOO.2012-02-26T02:38:22.688</td><td>729629</td><td>OM-1186</td><td>10.0</td><td>CALIB</td><td>LAMP,AFC</td><td>ECHELLE</td><td>CALIB</td><td>UVB</td><td>400k/1pt/lg/AFC</td><td>V</td><td>PIN</td><td>5.0x11</td><td>5.0x11</td><td>5.0x11</td><td>1.15 [0.43]</td></tr>\n",
       "<tr><td>2012-02-26</td><td>LAMP,AFC</td><td>83.837425</td><td>-5.52265</td><td>05:35:20.98 -05:31:21.5</td><td>209.145497 -19.427455</td><td>288.C-5038(A)</td><td>XSHOO.2012-02-26T02:38:23.908</td><td>729629</td><td>OM-1186</td><td>0.5</td><td>CALIB</td><td>LAMP,AFC</td><td>ECHELLE</td><td>CALIB</td><td>VIS</td><td>400k/1pt/lg/AFC</td><td>V</td><td>PIN</td><td>5.0x11</td><td>5.0x11</td><td>5.0x11</td><td>1.15 [0.43]</td></tr>\n",
       "<tr><td>2012-02-26</td><td>LAMP,AFC</td><td>83.837425</td><td>-5.52265</td><td>05:35:20.98 -05:31:21.5</td><td>209.145458 -19.427436</td><td>288.C-5038(A)</td><td>XSHOO.2012-02-26T02:38:24.054</td><td>729629</td><td>OM-1186</td><td>1.0</td><td>CALIB</td><td>LAMP,AFC</td><td>ECHELLE</td><td>CALIB</td><td>NIR</td><td>--</td><td>V</td><td>PIN</td><td>5.0x11</td><td>5.0x11</td><td>5.0x11</td><td>1.15 [0.43]</td></tr>\n",
       "<tr><td>2012-02-26</td><td>LAMP,AFC</td><td>83.837425</td><td>-5.52265</td><td>05:35:20.98 -05:31:21.5</td><td>209.145458 -19.427436</td><td>288.C-5038(A)</td><td>XSHOO.2012-02-26T02:38:44.751</td><td>729629</td><td>OM-1186</td><td>10.0</td><td>CALIB</td><td>LAMP,AFC</td><td>ECHELLE</td><td>CALIB</td><td>UVB</td><td>400k/1pt/lg/AFC</td><td>V</td><td>PIN</td><td>5.0x11</td><td>5.0x11</td><td>5.0x11</td><td>1.15 [0.43]</td></tr>\n",
       "<tr><td>2012-02-26</td><td>LAMP,AFC</td><td>83.837425</td><td>-5.52265</td><td>05:35:20.98 -05:31:21.5</td><td>209.145458 -19.427436</td><td>288.C-5038(A)</td><td>XSHOO.2012-02-26T02:38:45.549</td><td>729629</td><td>OM-1186</td><td>1.0</td><td>CALIB</td><td>LAMP,AFC</td><td>ECHELLE</td><td>CALIB</td><td>NIR</td><td>--</td><td>V</td><td>PIN</td><td>5.0x11</td><td>5.0x11</td><td>5.0x11</td><td>1.15 [0.43]</td></tr>\n",
       "<tr><td>2012-02-26</td><td>LAMP,AFC</td><td>83.837425</td><td>-5.52265</td><td>05:35:20.98 -05:31:21.5</td><td>209.145497 -19.427455</td><td>288.C-5038(A)</td><td>XSHOO.2012-02-26T02:38:45.971</td><td>729629</td><td>OM-1186</td><td>0.5</td><td>CALIB</td><td>LAMP,AFC</td><td>ECHELLE</td><td>CALIB</td><td>VIS</td><td>400k/1pt/lg/AFC</td><td>V</td><td>PIN</td><td>5.0x11</td><td>5.0x11</td><td>5.0x11</td><td>1.15 [0.43]</td></tr>\n",
       "<tr><td>2013-02-27</td><td>OBJECT</td><td>83.837684</td><td>-5.52255</td><td>05:35:21.04 -05:31:21.2</td><td>209.145487 -19.427161</td><td>288.C-5038(A)</td><td>XSHOO.2012-02-26T02:41:35.429</td><td>729629</td><td>OM-1186</td><td>5.0</td><td>ACQUISITION</td><td>OBJECT</td><td>IMAGE</td><td>IMAG</td><td>--</td><td>acetecE2V57I_ENG.clk</td><td>V</td><td>MIR</td><td>5.0x11</td><td>5.0x11</td><td>5.0x11</td><td>1.08 [0.29]</td></tr>\n",
       "<tr><td>...</td><td>...</td><td>...</td><td>...</td><td>...</td><td>...</td><td>...</td><td>...</td><td>...</td><td>...</td><td>...</td><td>...</td><td>...</td><td>...</td><td>...</td><td>...</td><td>...</td><td>...</td><td>...</td><td>...</td><td>...</td><td>...</td><td>...</td></tr>\n",
       "<tr><td>2013-03-08</td><td>OM-3125</td><td>83.839823</td><td>-5.57897</td><td>05:35:21.56 -05:34:44.3</td><td>209.199891 -19.450737</td><td>288.C-5038(A)</td><td>XSHOO.2012-03-07T01:31:53.481</td><td>729631</td><td>OM-3125</td><td>300.0</td><td>SCIENCE</td><td>OBJECT</td><td>ECHELLE,SLIT,NODDING</td><td>SLITSPEC</td><td>UVB</td><td>100k/1pt/hg</td><td>V</td><td>SLOT</td><td>0.5x11</td><td>0.4x11</td><td>0.4x11</td><td>1.31 [0.64]</td></tr>\n",
       "<tr><td>2013-03-08</td><td>OM-3125</td><td>83.839823</td><td>-5.57897</td><td>05:35:21.56 -05:34:44.3</td><td>209.199930 -19.450755</td><td>288.C-5038(A)</td><td>XSHOO.2012-03-07T01:31:58.691</td><td>729631</td><td>OM-3125</td><td>300.0</td><td>SCIENCE</td><td>OBJECT</td><td>ECHELLE,SLIT,NODDING</td><td>SLITSPEC</td><td>VIS</td><td>100k/1pt/hg</td><td>V</td><td>SLOT</td><td>0.5x11</td><td>0.4x11</td><td>0.4x11</td><td>1.31 [0.64]</td></tr>\n",
       "<tr><td>2013-03-08</td><td>OM-3125</td><td>83.839823</td><td>-5.57897</td><td>05:35:21.56 -05:34:44.3</td><td>209.199891 -19.450737</td><td>288.C-5038(A)</td><td>XSHOO.2012-03-07T01:32:01.407</td><td>729631</td><td>OM-3125</td><td>150.0</td><td>SCIENCE</td><td>OBJECT</td><td>ECHELLE,SLIT,NODDING</td><td>SLITSPEC</td><td>NIR</td><td>--</td><td>V</td><td>SLOT</td><td>0.5x11</td><td>0.4x11</td><td>0.4x11</td><td>1.35 [0.70]</td></tr>\n",
       "<tr><td>2013-03-08</td><td>OM-3125</td><td>83.839823</td><td>-5.57897</td><td>05:35:21.56 -05:34:44.3</td><td>209.199891 -19.450737</td><td>288.C-5038(A)</td><td>XSHOO.2012-03-07T01:39:39.819</td><td>729631</td><td>OM-3125</td><td>300.0</td><td>SCIENCE</td><td>OBJECT</td><td>ECHELLE,SLIT,NODDING</td><td>SLITSPEC</td><td>UVB</td><td>100k/1pt/hg</td><td>V</td><td>SLOT</td><td>0.5x11</td><td>0.4x11</td><td>0.4x11</td><td>1.25 [0.58]</td></tr>\n",
       "<tr><td>2013-03-08</td><td>OM-3125</td><td>83.839823</td><td>-5.57897</td><td>05:35:21.56 -05:34:44.3</td><td>209.199930 -19.450755</td><td>288.C-5038(A)</td><td>XSHOO.2012-03-07T01:39:45.039</td><td>729631</td><td>OM-3125</td><td>300.0</td><td>SCIENCE</td><td>OBJECT</td><td>ECHELLE,SLIT,NODDING</td><td>SLITSPEC</td><td>VIS</td><td>100k/1pt/hg</td><td>V</td><td>SLOT</td><td>0.5x11</td><td>0.4x11</td><td>0.4x11</td><td>1.25 [0.58]</td></tr>\n",
       "<tr><td>2013-03-08</td><td>OM-3125</td><td>83.839823</td><td>-5.57897</td><td>05:35:21.56 -05:34:44.3</td><td>209.199891 -19.450737</td><td>288.C-5038(A)</td><td>XSHOO.2012-03-07T01:39:48.331</td><td>729631</td><td>OM-3125</td><td>150.0</td><td>SCIENCE</td><td>OBJECT</td><td>ECHELLE,SLIT,NODDING</td><td>SLITSPEC</td><td>NIR</td><td>--</td><td>V</td><td>SLOT</td><td>0.5x11</td><td>0.4x11</td><td>0.4x11</td><td>1.20 [0.51]</td></tr>\n",
       "<tr><td>2013-03-08</td><td>OM-3125</td><td>83.840953</td><td>-5.57978</td><td>05:35:21.83 -05:34:47.2</td><td>209.201195 -19.450099</td><td>288.C-5038(A)</td><td>XSHOO.2012-03-07T01:47:32.118</td><td>729631</td><td>OM-3125</td><td>300.0</td><td>SCIENCE</td><td>OBJECT</td><td>ECHELLE,SLIT,NODDING</td><td>SLITSPEC</td><td>UVB</td><td>100k/1pt/hg</td><td>V</td><td>SLOT</td><td>0.5x11</td><td>0.4x11</td><td>0.4x11</td><td>1.20 [0.50]</td></tr>\n",
       "<tr><td>2013-03-08</td><td>OM-3125</td><td>83.840953</td><td>-5.57978</td><td>05:35:21.83 -05:34:47.2</td><td>209.201235 -19.450117</td><td>288.C-5038(A)</td><td>XSHOO.2012-03-07T01:47:37.329</td><td>729631</td><td>OM-3125</td><td>300.0</td><td>SCIENCE</td><td>OBJECT</td><td>ECHELLE,SLIT,NODDING</td><td>SLITSPEC</td><td>VIS</td><td>100k/1pt/hg</td><td>V</td><td>SLOT</td><td>0.5x11</td><td>0.4x11</td><td>0.4x11</td><td>1.20 [0.50]</td></tr>\n",
       "<tr><td>2013-03-08</td><td>OM-3125</td><td>83.840953</td><td>-5.57978</td><td>05:35:21.83 -05:34:47.2</td><td>209.201195 -19.450099</td><td>288.C-5038(A)</td><td>XSHOO.2012-03-07T01:47:40.590</td><td>729631</td><td>OM-3125</td><td>150.0</td><td>SCIENCE</td><td>OBJECT</td><td>ECHELLE,SLIT,NODDING</td><td>SLITSPEC</td><td>NIR</td><td>--</td><td>V</td><td>SLOT</td><td>0.5x11</td><td>0.4x11</td><td>0.4x11</td><td>1.21 [0.50]</td></tr>\n",
       "<tr><td>2012-04-15</td><td>LAMP,AFC</td><td>246.792833</td><td>-24.32019</td><td>16:27:10.28 -24:19:12.7</td><td>353.249489 16.838301</td><td>089.C-0840(A)</td><td>XSHOO.2012-04-15T05:27:01.700</td><td>657274</td><td>SR21</td><td>10.0</td><td>CALIB</td><td>LAMP,AFC</td><td>ECHELLE</td><td>CALIB</td><td>UVB</td><td>400k/1pt/lg/AFC</td><td>V</td><td>SLOT</td><td>Pin_0.5</td><td>Pin_0.5</td><td>Pin_0.5</td><td>1.00 [0.01]</td></tr>\n",
       "</table>"
      ],
      "text/plain": [
       "<Table masked=True length=50>\n",
       "Release Date  Object      RA     ... INS.OPTI4.NAME INS.OPTI5.NAME  DIMM S-avg\n",
       "   str10       str8    float64   ...      str7           str7         str11   \n",
       "------------ -------- ---------- ... -------------- -------------- -----------\n",
       "  2012-02-26 LAMP,AFC  83.837425 ...        Pin_0.5        Pin_0.5 1.07 [0.27]\n",
       "  2012-02-26 LAMP,AFC  83.837425 ...        Pin_0.5        Pin_0.5 1.07 [0.27]\n",
       "  2012-02-26 LAMP,AFC  83.837425 ...        Pin_0.5        Pin_0.5 1.07 [0.27]\n",
       "  2012-02-26 LAMP,AFC  83.837425 ...         5.0x11         5.0x11 1.15 [0.43]\n",
       "  2012-02-26 LAMP,AFC  83.837425 ...         5.0x11         5.0x11 1.15 [0.43]\n",
       "  2012-02-26 LAMP,AFC  83.837425 ...         5.0x11         5.0x11 1.15 [0.43]\n",
       "  2012-02-26 LAMP,AFC  83.837425 ...         5.0x11         5.0x11 1.15 [0.43]\n",
       "  2012-02-26 LAMP,AFC  83.837425 ...         5.0x11         5.0x11 1.15 [0.43]\n",
       "  2012-02-26 LAMP,AFC  83.837425 ...         5.0x11         5.0x11 1.15 [0.43]\n",
       "  2013-02-27   OBJECT  83.837684 ...         5.0x11         5.0x11 1.08 [0.29]\n",
       "         ...      ...        ... ...            ...            ...         ...\n",
       "  2013-03-08  OM-3125  83.839823 ...         0.4x11         0.4x11 1.31 [0.64]\n",
       "  2013-03-08  OM-3125  83.839823 ...         0.4x11         0.4x11 1.31 [0.64]\n",
       "  2013-03-08  OM-3125  83.839823 ...         0.4x11         0.4x11 1.35 [0.70]\n",
       "  2013-03-08  OM-3125  83.839823 ...         0.4x11         0.4x11 1.25 [0.58]\n",
       "  2013-03-08  OM-3125  83.839823 ...         0.4x11         0.4x11 1.25 [0.58]\n",
       "  2013-03-08  OM-3125  83.839823 ...         0.4x11         0.4x11 1.20 [0.51]\n",
       "  2013-03-08  OM-3125  83.840953 ...         0.4x11         0.4x11 1.20 [0.50]\n",
       "  2013-03-08  OM-3125  83.840953 ...         0.4x11         0.4x11 1.20 [0.50]\n",
       "  2013-03-08  OM-3125  83.840953 ...         0.4x11         0.4x11 1.21 [0.50]\n",
       "  2012-04-15 LAMP,AFC 246.792833 ...        Pin_0.5        Pin_0.5 1.00 [0.01]"
      ]
     },
     "execution_count": 15,
     "metadata": {},
     "output_type": "execute_result"
    }
   ],
   "source": [
    "result = Eso.query_instrument('xshooter', pi_coi='manara')\n",
    "result"
   ]
  },
  {
   "cell_type": "markdown",
   "metadata": {
    "slideshow": {
     "slide_type": "slide"
    }
   },
   "source": [
    "How do I get a unique list of programs that contained these observations?\n",
    "\n",
    "A simple python trick: a ``set`` is an unordered collection of unique objects (just like in math).  ``np.unique`` does the same thing, but returns a numpy array, which is ordered."
   ]
  },
  {
   "cell_type": "code",
   "execution_count": 16,
   "metadata": {
    "slideshow": {
     "slide_type": "-"
    }
   },
   "outputs": [
    {
     "data": {
      "text/plain": [
       "{'089.C-0840(A)', '288.C-5038(A)'}"
      ]
     },
     "execution_count": 16,
     "metadata": {},
     "output_type": "execute_result"
    }
   ],
   "source": [
    "set(result['ProgId'])"
   ]
  },
  {
   "cell_type": "markdown",
   "metadata": {
    "slideshow": {
     "slide_type": "slide"
    }
   },
   "source": [
    "## Line List Tools ##\n",
    "\n",
    "The LAMDA, Splatalogue, and NIST services query online resources related to spectroscopic lines.  "
   ]
  },
  {
   "cell_type": "code",
   "execution_count": 17,
   "metadata": {
    "collapsed": true,
    "slideshow": {
     "slide_type": "fragment"
    }
   },
   "outputs": [],
   "source": [
    "from astroquery.nist import Nist"
   ]
  },
  {
   "cell_type": "code",
   "execution_count": 18,
   "metadata": {
    "slideshow": {
     "slide_type": "fragment"
    }
   },
   "outputs": [
    {
     "data": {
      "text/html": [
       "&lt;Table masked=True length=53&gt;\n",
       "<table id=\"table4546311224\" class=\"table-striped table-bordered table-condensed\">\n",
       "<thead><tr><th>Observed</th><th>Ritz</th><th>Rel.</th><th>Aki</th><th>fik</th><th>Acc.</th><th>Ei           Ek</th><th>Lower level</th><th>Upper level</th><th>Type</th><th>TP</th><th>Line</th></tr></thead>\n",
       "<thead><tr><th>float64</th><th>float64</th><th>int64</th><th>float64</th><th>float64</th><th>str3</th><th>str30</th><th>str21</th><th>str21</th><th>float64</th><th>str8</th><th>str12</th></tr></thead>\n",
       "<tr><td>--</td><td>4102.85985517</td><td>--</td><td>4287700.0</td><td>0.021641</td><td>AAA</td><td>&lt;span id=&quot;001001.001.000002&quot; c</td><td>ass=&quot;en_span&quot; onclick</td><td>&quot;selectById(&apos;001001.0</td><td>1.0</td><td>002&apos;)&quot; o</td><td>mouseover=&quot;s</td></tr>\n",
       "<tr><td>--</td><td>4102.86191087</td><td>--</td><td>245010.0</td><td>0.00061831</td><td>AAA</td><td>&lt;span id=&quot;001001.001.000002&quot; c</td><td>ass=&quot;en_span&quot; onclick</td><td>&quot;selectById(&apos;001001.0</td><td>1.0</td><td>002&apos;)&quot; o</td><td>mouseover=&quot;s</td></tr>\n",
       "<tr><td>--</td><td>4102.8632</td><td>--</td><td>--</td><td>--</td><td>--</td><td>--</td><td>|      |</td><td>|      |</td><td>--</td><td>--</td><td>c57</td></tr>\n",
       "<tr><td>4102.86503481</td><td>4102.86503481</td><td>--</td><td>--</td><td>--</td><td>--</td><td>&lt;span id=&quot;001001.001.000003&quot; c</td><td>ass=&quot;en_span&quot; onclick</td><td>&quot;selectById(&apos;001001.0</td><td>1.0</td><td>003&apos;)&quot; o</td><td>mouseover=&quot;s</td></tr>\n",
       "<tr><td>--</td><td>4102.86579132</td><td>--</td><td>2858300.0</td><td>0.014427</td><td>AAA</td><td>&lt;span id=&quot;001001.001.000003&quot; c</td><td>ass=&quot;en_span&quot; onclick</td><td>&quot;selectById(&apos;001001.0</td><td>1.0</td><td>003&apos;)&quot; o</td><td>mouseover=&quot;s</td></tr>\n",
       "<tr><td>4102.86785074</td><td>4102.86785074</td><td>--</td><td>--</td><td>--</td><td>--</td><td>&lt;span id=&quot;001001.001.000003&quot; c</td><td>ass=&quot;en_span&quot; onclick</td><td>&quot;selectById(&apos;001001.0</td><td>1.0</td><td>003&apos;)&quot; o</td><td>mouseover=&quot;s</td></tr>\n",
       "<tr><td>--</td><td>4102.8680725</td><td>--</td><td>2858400.0</td><td>0.0072136</td><td>AAA</td><td>&lt;span id=&quot;001001.001.000003&quot; c</td><td>ass=&quot;en_span&quot; onclick</td><td>&quot;selectById(&apos;001001.0</td><td>1.0</td><td>003&apos;)&quot; o</td><td>mouseover=&quot;s</td></tr>\n",
       "<tr><td>4102.892</td><td>4102.8991</td><td>70000</td><td>973200.0</td><td>0.022105</td><td>AAA</td><td>&lt;span id=&quot;001001.001.000059&quot; c</td><td>ass=&quot;en_span&quot; onclick</td><td>&quot;selectById(&apos;001001.0</td><td>1.0</td><td>059&apos;)&quot; o</td><td>mouseover=&quot;s</td></tr>\n",
       "<tr><td>--</td><td>4102.8922</td><td>--</td><td>--</td><td>--</td><td>--</td><td>--</td><td>|      |</td><td>|      |</td><td>--</td><td>--</td><td>c58</td></tr>\n",
       "<tr><td>--</td><td>4102.92068748</td><td>--</td><td>5145000.0</td><td>0.019477</td><td>AAA</td><td>&lt;span id=&quot;001001.001.000004&quot; c</td><td>ass=&quot;en_span&quot; onclick</td><td>&quot;selectById(&apos;001001.0</td><td>1.0</td><td>004&apos;)&quot; o</td><td>mouseover=&quot;s</td></tr>\n",
       "<tr><td>...</td><td>...</td><td>...</td><td>...</td><td>...</td><td>...</td><td>...</td><td>...</td><td>...</td><td>...</td><td>...</td><td>...</td></tr>\n",
       "<tr><td>--</td><td>6564.579878</td><td>--</td><td>--</td><td>--</td><td>--</td><td>&lt;span id=&quot;001001.001.000003&quot; c</td><td>ass=&quot;en_span&quot; onclick</td><td>&quot;selectById(&apos;001001.0</td><td>1.0</td><td>003&apos;)&quot; o</td><td>mouseover=&quot;s</td></tr>\n",
       "<tr><td>--</td><td>6564.583</td><td>--</td><td>--</td><td>--</td><td>--</td><td>--</td><td>|      |</td><td>|      |</td><td>--</td><td>--</td><td>c66</td></tr>\n",
       "<tr><td>6564.584404</td><td>6564.584403</td><td>--</td><td>22449000.0</td><td>0.14503</td><td>AAA</td><td>&lt;span id=&quot;001001.001.000003&quot; c</td><td>ass=&quot;en_span&quot; onclick</td><td>&quot;selectById(&apos;001001.0</td><td>1.0</td><td>003&apos;)&quot; o</td><td>mouseover=&quot;s</td></tr>\n",
       "<tr><td>6564.6</td><td>6564.632</td><td>500000</td><td>44101000.0</td><td>0.64108</td><td>AAA</td><td>&lt;span id=&quot;001001.001.000059&quot; c</td><td>ass=&quot;en_span&quot; onclick</td><td>&quot;selectById(&apos;001001.0</td><td>1.0</td><td>059&apos;)&quot; o</td><td>mouseover=&quot;s</td></tr>\n",
       "<tr><td>--</td><td>6564.608</td><td>--</td><td>--</td><td>--</td><td>--</td><td>--</td><td>|      |</td><td>|      |</td><td>--</td><td>--</td><td>c69</td></tr>\n",
       "<tr><td>6564.66464</td><td>6564.66466</td><td>--</td><td>64651000.0</td><td>0.62654</td><td>AAA</td><td>&lt;span id=&quot;001001.001.000004&quot; c</td><td>ass=&quot;en_span&quot; onclick</td><td>&quot;selectById(&apos;001001.0</td><td>1.0</td><td>004&apos;)&quot; o</td><td>mouseover=&quot;s</td></tr>\n",
       "<tr><td>--</td><td>6564.6662</td><td>--</td><td>--</td><td>--</td><td>--</td><td>--</td><td>|      |</td><td>|      |</td><td>--</td><td>--</td><td>c71</td></tr>\n",
       "<tr><td>--</td><td>6564.667</td><td>--</td><td>--</td><td>--</td><td>--</td><td>--</td><td>|      |</td><td>|      |</td><td>--</td><td>--</td><td>c70</td></tr>\n",
       "<tr><td>--</td><td>6564.680232</td><td>--</td><td>10775000.0</td><td>0.069616</td><td>AAA</td><td>&lt;span id=&quot;001001.001.000004&quot; c</td><td>ass=&quot;en_span&quot; onclick</td><td>&quot;selectById(&apos;001001.0</td><td>1.0</td><td>004&apos;)&quot; o</td><td>mouseover=&quot;s</td></tr>\n",
       "<tr><td>--</td><td>6564.722349</td><td>--</td><td>4209700.0</td><td>0.013599</td><td>AAA</td><td>&lt;span id=&quot;001001.001.000004&quot; c</td><td>ass=&quot;en_span&quot; onclick</td><td>&quot;selectById(&apos;001001.0</td><td>1.0</td><td>004&apos;)&quot; o</td><td>mouseover=&quot;s</td></tr>\n",
       "</table>"
      ],
      "text/plain": [
       "<Table masked=True length=53>\n",
       "   Observed        Ritz      Rel.     Aki     ...   Type     TP        Line    \n",
       "   float64       float64    int64   float64   ... float64   str8      str12    \n",
       "------------- ------------- ------ ---------- ... ------- -------- ------------\n",
       "           -- 4102.85985517     --  4287700.0 ...     1.0 002')\" o mouseover=\"s\n",
       "           -- 4102.86191087     --   245010.0 ...     1.0 002')\" o mouseover=\"s\n",
       "           --     4102.8632     --         -- ...      --       --          c57\n",
       "4102.86503481 4102.86503481     --         -- ...     1.0 003')\" o mouseover=\"s\n",
       "           -- 4102.86579132     --  2858300.0 ...     1.0 003')\" o mouseover=\"s\n",
       "4102.86785074 4102.86785074     --         -- ...     1.0 003')\" o mouseover=\"s\n",
       "           --  4102.8680725     --  2858400.0 ...     1.0 003')\" o mouseover=\"s\n",
       "     4102.892     4102.8991  70000   973200.0 ...     1.0 059')\" o mouseover=\"s\n",
       "           --     4102.8922     --         -- ...      --       --          c58\n",
       "           -- 4102.92068748     --  5145000.0 ...     1.0 004')\" o mouseover=\"s\n",
       "          ...           ...    ...        ... ...     ...      ...          ...\n",
       "           --   6564.579878     --         -- ...     1.0 003')\" o mouseover=\"s\n",
       "           --      6564.583     --         -- ...      --       --          c66\n",
       "  6564.584404   6564.584403     -- 22449000.0 ...     1.0 003')\" o mouseover=\"s\n",
       "       6564.6      6564.632 500000 44101000.0 ...     1.0 059')\" o mouseover=\"s\n",
       "           --      6564.608     --         -- ...      --       --          c69\n",
       "   6564.66464    6564.66466     -- 64651000.0 ...     1.0 004')\" o mouseover=\"s\n",
       "           --     6564.6662     --         -- ...      --       --          c71\n",
       "           --      6564.667     --         -- ...      --       --          c70\n",
       "           --   6564.680232     -- 10775000.0 ...     1.0 004')\" o mouseover=\"s\n",
       "           --   6564.722349     --  4209700.0 ...     1.0 004')\" o mouseover=\"s"
      ]
     },
     "execution_count": 18,
     "metadata": {},
     "output_type": "execute_result"
    }
   ],
   "source": [
    "table = Nist.query(4000 * u.AA, 7000 * u.AA, linename=\"H I\")\n",
    "table"
   ]
  },
  {
   "cell_type": "markdown",
   "metadata": {},
   "source": [
    "Note: the above module currently has issues with parsing the results."
   ]
  },
  {
   "cell_type": "code",
   "execution_count": 19,
   "metadata": {
    "collapsed": true,
    "slideshow": {
     "slide_type": "slide"
    }
   },
   "outputs": [],
   "source": [
    "from astroquery.splatalogue import Splatalogue"
   ]
  },
  {
   "cell_type": "markdown",
   "metadata": {
    "slideshow": {
     "slide_type": "fragment"
    }
   },
   "source": [
    "Splatalogue (\"spectral line catalogue\") provides access to mm lines."
   ]
  },
  {
   "cell_type": "code",
   "execution_count": 20,
   "metadata": {
    "slideshow": {
     "slide_type": "fragment"
    }
   },
   "outputs": [
    {
     "data": {
      "text/plain": [
       "{'02812 CO v = 0 - Carbon Monoxide': '204',\n",
       " '02813 CO v = 1 - Carbon Monoxide': '990',\n",
       " '02814 CO v = 2 - Carbon Monoxide': '991',\n",
       " '02815 CO v = 3 - Carbon Monoxide': '1343'}"
      ]
     },
     "execution_count": 20,
     "metadata": {},
     "output_type": "execute_result"
    }
   ],
   "source": [
    "just_CO = Splatalogue.get_species_ids(' CO ') # note the spaces\n",
    "just_CO"
   ]
  },
  {
   "cell_type": "code",
   "execution_count": 21,
   "metadata": {
    "slideshow": {
     "slide_type": "fragment"
    }
   },
   "outputs": [
    {
     "data": {
      "text/html": [
       "&lt;Table masked=True length=1&gt;\n",
       "<table id=\"table4545167544\" class=\"table-striped table-bordered table-condensed\">\n",
       "<thead><tr><th>Species</th><th>Chemical Name</th><th>Freq-GHz</th><th>Freq Err</th><th>Meas Freq-GHz</th><th>Meas Freq Err</th><th>Resolved QNs</th><th>CDMS/JPL Intensity</th><th>S&lt;sub&gt;ij&lt;/sub&gt;&amp;#956;&lt;sup&gt;2&lt;/sup&gt; (D&lt;sup&gt;2&lt;/sup&gt;)</th><th>S&lt;sub&gt;ij&lt;/sub&gt;</th><th>Log&lt;sub&gt;10&lt;/sub&gt; (A&lt;sub&gt;ij&lt;/sub&gt;)</th><th>Lovas/AST Intensity</th><th>E_L (cm^-1)</th><th>E_L (K)</th><th>E_U (cm^-1)</th><th>E_U (K)</th><th>Linelist</th></tr></thead>\n",
       "<thead><tr><th>str5</th><th>str15</th><th>int64</th><th>int64</th><th>float64</th><th>float64</th><th>str3</th><th>float64</th><th>float64</th><th>float64</th><th>float64</th><th>float64</th><th>float64</th><th>float64</th><th>float64</th><th>float64</th><th>str4</th></tr></thead>\n",
       "<tr><td>COv=0</td><td>Carbon Monoxide</td><td>--</td><td>--</td><td>230.538</td><td>5e-07</td><td>2-1</td><td>-4.1197</td><td>0.02423</td><td>2.0</td><td>-6.1605</td><td>70.0</td><td>3.845</td><td>5.53207</td><td>11.53492</td><td>16.59608</td><td>CDMS</td></tr>\n",
       "</table>"
      ],
      "text/plain": [
       "<Table masked=True length=1>\n",
       "Species  Chemical Name  Freq-GHz Freq Err ... E_U (cm^-1) E_U (K)  Linelist\n",
       "  str5       str15       int64    int64   ...   float64   float64    str4  \n",
       "------- --------------- -------- -------- ... ----------- -------- --------\n",
       "  COv=0 Carbon Monoxide       --       -- ...    11.53492 16.59608     CDMS"
      ]
     },
     "execution_count": 21,
     "metadata": {},
     "output_type": "execute_result"
    }
   ],
   "source": [
    "CO2to1 = Splatalogue.query_lines(1*u.mm, 2*u.mm, chemical_name=\" CO \",\n",
    "                                 only_NRAO_recommended=True,\n",
    "                                 energy_max=50, energy_type='eu_k')\n",
    "CO2to1"
   ]
  },
  {
   "cell_type": "markdown",
   "metadata": {
    "slideshow": {
     "slide_type": "slide"
    }
   },
   "source": [
    "## Vizier ## \n",
    "Vizier is one of the main repositories of published catalogs (especially small ones).  It provides some very powerful interfaces including an x-match (cross-matching) service.  "
   ]
  },
  {
   "cell_type": "code",
   "execution_count": 22,
   "metadata": {
    "collapsed": true,
    "slideshow": {
     "slide_type": "fragment"
    }
   },
   "outputs": [],
   "source": [
    "from astroquery.vizier import Vizier"
   ]
  },
  {
   "cell_type": "markdown",
   "metadata": {
    "slideshow": {
     "slide_type": "slide"
    }
   },
   "source": [
    "A particularly useful example - search for guide stars within a set radius of your target sources."
   ]
  },
  {
   "cell_type": "markdown",
   "metadata": {
    "slideshow": {
     "slide_type": "slide"
    }
   },
   "source": [
    "The guide star catalog, ``II/246``, is queried with the restriction that the guide star must have $M_K<9$ around the selected object, given that the distance between the guide star and the object is $2\" < r < 30\"$."
   ]
  },
  {
   "cell_type": "code",
   "execution_count": 24,
   "metadata": {
    "slideshow": {
     "slide_type": "fragment"
    }
   },
   "outputs": [
    {
     "data": {
      "text/html": [
       "&lt;Table masked=True length=2&gt;\n",
       "<table id=\"table4545123608\" class=\"table-striped table-bordered table-condensed\">\n",
       "<thead><tr><th>APM-ID</th><th>RAJ2000</th><th>DEJ2000</th><th>rmag</th><th>l_rmag</th><th>rClass</th><th>rStel</th><th>rDiam</th><th>rEll</th><th>bmag</th><th>l_bmag</th><th>bClass</th><th>bStel</th><th>bDiam</th><th>b-r</th><th>Mflag</th></tr></thead>\n",
       "<thead><tr><th></th><th>deg</th><th>deg</th><th>mag</th><th></th><th></th><th></th><th>arcs</th><th></th><th>mag</th><th></th><th></th><th></th><th>arcs</th><th>mag</th><th></th></tr></thead>\n",
       "<thead><tr><th>bytes14</th><th>float64</th><th>float64</th><th>float32</th><th>bytes1</th><th>int16</th><th>float64</th><th>float64</th><th>float64</th><th>float32</th><th>bytes1</th><th>int16</th><th>float64</th><th>float64</th><th>float64</th><th>bytes1</th></tr></thead>\n",
       "<tr><td>EO1326-0251283</td><td>167.850995</td><td>75.294142</td><td>20.00</td><td>L</td><td>0</td><td>--</td><td>--</td><td>--</td><td>21.73</td><td></td><td>-1</td><td>-0.53</td><td>3.6</td><td>1.73</td><td></td></tr>\n",
       "<tr><td>EO1326-0251425</td><td>167.855312</td><td>75.290945</td><td>19.95</td><td></td><td>1</td><td>7.01</td><td>5.3</td><td>0.73</td><td>22.01</td><td>L</td><td>0</td><td>--</td><td>--</td><td>2.06</td><td></td></tr>\n",
       "</table>"
      ],
      "text/plain": [
       "<Table masked=True length=2>\n",
       "    APM-ID      RAJ2000    DEJ2000     rmag  ...  bStel   bDiam    b-r   Mflag \n",
       "                  deg        deg       mag   ...           arcs    mag         \n",
       "   bytes14      float64    float64   float32 ... float64 float64 float64 bytes1\n",
       "-------------- ---------- ---------- ------- ... ------- ------- ------- ------\n",
       "EO1326-0251283 167.850995  75.294142   20.00 ...   -0.53     3.6    1.73       \n",
       "EO1326-0251425 167.855312  75.290945   19.95 ...      --      --    2.06       "
      ]
     },
     "execution_count": 24,
     "metadata": {},
     "output_type": "execute_result"
    }
   ],
   "source": [
    "agn = coordinates.SkyCoord(l=131.0087 * u.deg, b=40.23 * u.deg, frame='galactic')\n",
    "guide = Vizier(catalog=\"II/246\", column_filters={\"Kmag\":\"<9.0\"}).query_region(agn, radius=\"30s\", inner_radius=\"2s\")[0]\n",
    "guide"
   ]
  },
  {
   "cell_type": "markdown",
   "metadata": {},
   "source": [
    "### Cone Search services"
   ]
  },
  {
   "cell_type": "code",
   "execution_count": 25,
   "metadata": {},
   "outputs": [
    {
     "data": {
      "text/plain": [
       "<Table masked=True length=4027>\n",
       "    objID           gscID2      GSC1ID ... multipleFlag compassGSC2id    Mag   \n",
       "                                       ...                               mag   \n",
       "    int64           object      object ...    object        object     float32 \n",
       "-------------- ---------------- ------ ... ------------ ------------- ---------\n",
       "23323175812944 00424433+4116085        ...            0 6453800072293        --\n",
       "23323175812933 00424455+4116103        ...            0 6453800072282        --\n",
       "23323175812939 00424464+4116092        ...            0 6453800072288        --\n",
       "23323175812931 00424464+4116106        ...            0 6453800072280        --\n",
       "23323175812948 00424403+4116069        ...            0 6453800072297        --\n",
       "23323175812930 00424403+4116108        ...            0 6453800072279        --\n",
       "23323175812909 00424460+4116141        ...            0 6453800072258        --\n",
       "23323175812923 00424386+4116123        ...            0 6453800072272        --\n",
       "23323175812899 00424416+4116152        ...            0 6453800072248        --\n",
       "           ...              ...    ... ...          ...           ...       ...\n",
       " 1330012212014    N330012212014        ...            0 6453800012014   16.5079\n",
       " 1330012248107    N330012248107        ...            0 6453800048107        --\n",
       " 1330012233236    N330012233236        ...            0 6453800033236     19.76\n",
       " 1330012228890    N330012228890        ...            0 6453800028890   20.1161\n",
       " 1330012210212    N330012210212        ...            0 6453800010212 20.276699\n",
       "23323175812087 00425926+4121267        ...            0 6453800071571        --\n",
       " 1330012231849    N330012231849        ...            0 6453800031849   20.2869\n",
       " 1330012244053    N330012244053        ...            0 6453800044053        --\n",
       " 1330012243728    N330012243728        ...            0 6453800043728        --\n",
       "  133001228698     N33001228698        ...            0 6453800008698 20.563999"
      ]
     },
     "execution_count": 25,
     "metadata": {},
     "output_type": "execute_result"
    }
   ],
   "source": [
    "from astropy.coordinates import SkyCoord\n",
    "from astroquery.vo_conesearch import ConeSearch\n",
    "ConeSearch.URL\n",
    "\n",
    "c = SkyCoord.from_name('M31')\n",
    "c.ra, c.dec\n",
    "\n",
    "result = ConeSearch.query_region(c, '0.1 deg')\n",
    "result"
   ]
  },
  {
   "cell_type": "markdown",
   "metadata": {
    "slideshow": {
     "slide_type": "slide"
    }
   },
   "source": [
    "Annoyingly, this module does _not_ return an `astropy.table` Table object, so we have to create one:"
   ]
  },
  {
   "cell_type": "code",
   "execution_count": 26,
   "metadata": {},
   "outputs": [
    {
     "data": {
      "text/html": [
       "&lt;Table masked=True length=4027&gt;\n",
       "<table id=\"table4545693400\" class=\"table-striped table-bordered table-condensed\">\n",
       "<thead><tr><th>objID</th><th>gscID2</th><th>GSC1ID</th><th>hstID</th><th>ra</th><th>dec</th><th>epoch</th><th>raEpsilon</th><th>decEpsilon</th><th>FpgMag</th><th>FpgMagErr</th><th>FpgMagCode</th><th>JpgMag</th><th>JpgMagErr</th><th>JpgMagCode</th><th>NpgMag</th><th>NpgMagErr</th><th>NpgMagCode</th><th>UMag</th><th>UMagErr</th><th>UMagCode</th><th>BMag</th><th>BMagErr</th><th>BMagCode</th><th>VMag</th><th>VMagErr</th><th>VMagCode</th><th>RMag</th><th>RMagErr</th><th>RMagCode</th><th>IMag</th><th>IMagErr</th><th>IMagCode</th><th>JMag</th><th>JMagErr</th><th>JMagCode</th><th>HMag</th><th>HMagErr</th><th>HMagCode</th><th>KMag</th><th>KMagErr</th><th>KMagCode</th><th>class</th><th>semiMajorAxis</th><th>eccentricity</th><th>positionangle</th><th>sourceStatus</th><th>variableFlag</th><th>multipleFlag</th><th>compassGSC2id</th><th>Mag</th></tr></thead>\n",
       "<thead><tr><th>int64</th><th>object</th><th>object</th><th>object</th><th>float64</th><th>float64</th><th>float32</th><th>float32</th><th>float32</th><th>float32</th><th>float32</th><th>int32</th><th>float32</th><th>float32</th><th>int32</th><th>float32</th><th>float32</th><th>int32</th><th>float32</th><th>float32</th><th>int32</th><th>float32</th><th>float32</th><th>int32</th><th>float32</th><th>float32</th><th>int32</th><th>float32</th><th>float32</th><th>int32</th><th>float32</th><th>float32</th><th>int32</th><th>float32</th><th>float32</th><th>int32</th><th>float32</th><th>float32</th><th>int32</th><th>float32</th><th>float32</th><th>int32</th><th>int32</th><th>float32</th><th>float32</th><th>float32</th><th>int64</th><th>object</th><th>object</th><th>object</th><th>float32</th></tr></thead>\n",
       "<tr><td>23323175812944</td><td>00424433+4116085</td><td></td><td>2MJG1R2O</td><td>10.684737</td><td>41.269035</td><td>1997.81</td><td>0.08</td><td>0.07</td><td>99.99</td><td>99.99</td><td>0</td><td>99.99</td><td>99.99</td><td>0</td><td>99.99</td><td>99.99</td><td>0</td><td>99.99</td><td>99.99</td><td>0</td><td>99.99</td><td>99.99</td><td>0</td><td>99.99</td><td>99.99</td><td>0</td><td>99.99</td><td>99.99</td><td>0</td><td>99.99</td><td>99.99</td><td>0</td><td>9.453</td><td>0.052</td><td>47</td><td>8.668</td><td>0.051</td><td>48</td><td>8.475</td><td>0.051</td><td>49</td><td>4</td><td>0.0</td><td>0.0</td><td>0.0</td><td>77777700</td><td>0</td><td>0</td><td>6453800072293</td><td>--</td></tr>\n",
       "<tr><td>23323175812933</td><td>00424455+4116103</td><td></td><td>2MJG1R2D</td><td>10.685657</td><td>41.26955</td><td>1997.81</td><td>0.13</td><td>0.12</td><td>99.99</td><td>99.99</td><td>0</td><td>99.99</td><td>99.99</td><td>0</td><td>99.99</td><td>99.99</td><td>0</td><td>99.99</td><td>99.99</td><td>0</td><td>99.99</td><td>99.99</td><td>0</td><td>99.99</td><td>99.99</td><td>0</td><td>99.99</td><td>99.99</td><td>0</td><td>99.99</td><td>99.99</td><td>0</td><td>10.773</td><td>0.069</td><td>47</td><td>8.532</td><td>-999.0</td><td>48</td><td>8.254</td><td>-999.0</td><td>49</td><td>4</td><td>0.0</td><td>0.0</td><td>0.0</td><td>77777700</td><td>0</td><td>0</td><td>6453800072282</td><td>--</td></tr>\n",
       "<tr><td>23323175812939</td><td>00424464+4116092</td><td></td><td>2MJG1R2J</td><td>10.686026</td><td>41.269226</td><td>1997.81</td><td>0.13</td><td>0.12</td><td>99.99</td><td>99.99</td><td>0</td><td>99.99</td><td>99.99</td><td>0</td><td>99.99</td><td>99.99</td><td>0</td><td>99.99</td><td>99.99</td><td>0</td><td>99.99</td><td>99.99</td><td>0</td><td>99.99</td><td>99.99</td><td>0</td><td>99.99</td><td>99.99</td><td>0</td><td>99.99</td><td>99.99</td><td>0</td><td>9.299</td><td>-999.0</td><td>47</td><td>8.606</td><td>-999.0</td><td>48</td><td>10.119</td><td>0.056</td><td>49</td><td>4</td><td>0.0</td><td>0.0</td><td>0.0</td><td>77777700</td><td>0</td><td>0</td><td>6453800072288</td><td>--</td></tr>\n",
       "<tr><td>23323175812931</td><td>00424464+4116106</td><td></td><td>2MJG1R2B</td><td>10.686015</td><td>41.26963</td><td>1997.81</td><td>0.13</td><td>0.12</td><td>99.99</td><td>99.99</td><td>0</td><td>99.99</td><td>99.99</td><td>0</td><td>99.99</td><td>99.99</td><td>0</td><td>99.99</td><td>99.99</td><td>0</td><td>99.99</td><td>99.99</td><td>0</td><td>99.99</td><td>99.99</td><td>0</td><td>99.99</td><td>99.99</td><td>0</td><td>99.99</td><td>99.99</td><td>0</td><td>9.399</td><td>-999.0</td><td>47</td><td>9.985</td><td>0.07</td><td>48</td><td>8.429</td><td>-999.0</td><td>49</td><td>4</td><td>0.0</td><td>0.0</td><td>0.0</td><td>77777700</td><td>0</td><td>0</td><td>6453800072280</td><td>--</td></tr>\n",
       "<tr><td>23323175812948</td><td>00424403+4116069</td><td></td><td>2MJG1R2S</td><td>10.683469</td><td>41.268585</td><td>1997.81</td><td>0.13</td><td>0.12</td><td>99.99</td><td>99.99</td><td>0</td><td>99.99</td><td>99.99</td><td>0</td><td>99.99</td><td>99.99</td><td>0</td><td>99.99</td><td>99.99</td><td>0</td><td>99.99</td><td>99.99</td><td>0</td><td>99.99</td><td>99.99</td><td>0</td><td>99.99</td><td>99.99</td><td>0</td><td>99.99</td><td>99.99</td><td>0</td><td>9.321</td><td>-999.0</td><td>47</td><td>8.614</td><td>-999.0</td><td>48</td><td>10.601</td><td>0.025</td><td>49</td><td>4</td><td>0.0</td><td>0.0</td><td>0.0</td><td>77777700</td><td>0</td><td>0</td><td>6453800072297</td><td>--</td></tr>\n",
       "<tr><td>23323175812930</td><td>00424403+4116108</td><td></td><td>2MJG1R2A</td><td>10.683465</td><td>41.269676</td><td>1997.81</td><td>0.13</td><td>0.11</td><td>99.99</td><td>99.99</td><td>0</td><td>99.99</td><td>99.99</td><td>0</td><td>99.99</td><td>99.99</td><td>0</td><td>99.99</td><td>99.99</td><td>0</td><td>99.99</td><td>99.99</td><td>0</td><td>99.99</td><td>99.99</td><td>0</td><td>99.99</td><td>99.99</td><td>0</td><td>99.99</td><td>99.99</td><td>0</td><td>11.507</td><td>0.056</td><td>47</td><td>8.744</td><td>-999.0</td><td>48</td><td>8.489</td><td>-999.0</td><td>49</td><td>4</td><td>0.0</td><td>0.0</td><td>0.0</td><td>77777700</td><td>0</td><td>0</td><td>6453800072279</td><td>--</td></tr>\n",
       "<tr><td>23323175812909</td><td>00424460+4116141</td><td></td><td>2MJG1R1P</td><td>10.685837</td><td>41.270599</td><td>1997.81</td><td>0.13</td><td>0.12</td><td>99.99</td><td>99.99</td><td>0</td><td>99.99</td><td>99.99</td><td>0</td><td>99.99</td><td>99.99</td><td>0</td><td>99.99</td><td>99.99</td><td>0</td><td>99.99</td><td>99.99</td><td>0</td><td>99.99</td><td>99.99</td><td>0</td><td>99.99</td><td>99.99</td><td>0</td><td>99.99</td><td>99.99</td><td>0</td><td>9.88</td><td>-999.0</td><td>47</td><td>12.051</td><td>0.068</td><td>48</td><td>8.934</td><td>-999.0</td><td>49</td><td>4</td><td>0.0</td><td>0.0</td><td>0.0</td><td>77777700</td><td>0</td><td>0</td><td>6453800072258</td><td>--</td></tr>\n",
       "<tr><td>23323175812923</td><td>00424386+4116123</td><td></td><td>2MJG1R23</td><td>10.682777</td><td>41.270111</td><td>1997.81</td><td>0.1</td><td>0.09</td><td>99.99</td><td>99.99</td><td>0</td><td>99.99</td><td>99.99</td><td>0</td><td>99.99</td><td>99.99</td><td>0</td><td>99.99</td><td>99.99</td><td>0</td><td>99.99</td><td>99.99</td><td>0</td><td>99.99</td><td>99.99</td><td>0</td><td>99.99</td><td>99.99</td><td>0</td><td>99.99</td><td>99.99</td><td>0</td><td>9.977</td><td>-999.0</td><td>47</td><td>11.683</td><td>0.056</td><td>48</td><td>11.839</td><td>0.062</td><td>49</td><td>4</td><td>0.0</td><td>0.0</td><td>0.0</td><td>77777700</td><td>0</td><td>0</td><td>6453800072272</td><td>--</td></tr>\n",
       "<tr><td>23323175812899</td><td>00424416+4116152</td><td></td><td>2MJG1R1F</td><td>10.684029</td><td>41.270901</td><td>1997.81</td><td>0.13</td><td>0.12</td><td>99.99</td><td>99.99</td><td>0</td><td>99.99</td><td>99.99</td><td>0</td><td>99.99</td><td>99.99</td><td>0</td><td>99.99</td><td>99.99</td><td>0</td><td>99.99</td><td>99.99</td><td>0</td><td>99.99</td><td>99.99</td><td>0</td><td>99.99</td><td>99.99</td><td>0</td><td>99.99</td><td>99.99</td><td>0</td><td>10.063</td><td>-999.0</td><td>47</td><td>9.359</td><td>-999.0</td><td>48</td><td>11.409</td><td>0.055</td><td>49</td><td>4</td><td>0.0</td><td>0.0</td><td>0.0</td><td>77777700</td><td>0</td><td>0</td><td>6453800072248</td><td>--</td></tr>\n",
       "<tr><td>23323175812973</td><td>00424446+4116016</td><td></td><td>2MJG1R3H</td><td>10.68527</td><td>41.267124</td><td>1997.81</td><td>0.13</td><td>0.12</td><td>99.99</td><td>99.99</td><td>0</td><td>99.99</td><td>99.99</td><td>0</td><td>99.99</td><td>99.99</td><td>0</td><td>99.99</td><td>99.99</td><td>0</td><td>99.99</td><td>99.99</td><td>0</td><td>99.99</td><td>99.99</td><td>0</td><td>99.99</td><td>99.99</td><td>0</td><td>99.99</td><td>99.99</td><td>0</td><td>12.07</td><td>0.035</td><td>47</td><td>9.301</td><td>-999.0</td><td>48</td><td>9.057</td><td>-999.0</td><td>49</td><td>4</td><td>0.0</td><td>0.0</td><td>0.0</td><td>77777700</td><td>0</td><td>0</td><td>6453800072322</td><td>--</td></tr>\n",
       "<tr><td>...</td><td>...</td><td>...</td><td>...</td><td>...</td><td>...</td><td>...</td><td>...</td><td>...</td><td>...</td><td>...</td><td>...</td><td>...</td><td>...</td><td>...</td><td>...</td><td>...</td><td>...</td><td>...</td><td>...</td><td>...</td><td>...</td><td>...</td><td>...</td><td>...</td><td>...</td><td>...</td><td>...</td><td>...</td><td>...</td><td>...</td><td>...</td><td>...</td><td>...</td><td>...</td><td>...</td><td>...</td><td>...</td><td>...</td><td>...</td><td>...</td><td>...</td><td>...</td><td>...</td><td>...</td><td>...</td><td>...</td><td>...</td><td>...</td><td>...</td><td>...</td></tr>\n",
       "<tr><td>1330012212014</td><td>N330012212014</td><td></td><td>NBVE012014</td><td>10.5837535858</td><td>41.3338661194</td><td>1986.91</td><td>0.34043</td><td>0.325062</td><td>16.5079</td><td>0.430518</td><td>35</td><td>19.7001</td><td>0.425212</td><td>18</td><td>17.5153</td><td>0.450801</td><td>37</td><td>99.99</td><td>99.99</td><td>0</td><td>20.0399</td><td>0.433221</td><td>7</td><td>18.4556</td><td>0.456814</td><td>1</td><td>99.99</td><td>99.99</td><td>0</td><td>99.99</td><td>99.99</td><td>0</td><td>99.99</td><td>99.99</td><td>0</td><td>99.99</td><td>99.99</td><td>0</td><td>99.99</td><td>99.99</td><td>0</td><td>3</td><td>8.57145</td><td>0.426889</td><td>24.8008</td><td>1000112509</td><td>0</td><td>0</td><td>6453800012014</td><td>16.5079</td></tr>\n",
       "<tr><td>1330012248107</td><td>N330012248107</td><td></td><td>NBVE048107</td><td>10.5622701645</td><td>41.3077354431</td><td>1987.72</td><td>0.305162</td><td>0.343896</td><td>99.99</td><td>99.99</td><td>0</td><td>21.6947</td><td>0.530237</td><td>18</td><td>19.127</td><td>0.644123</td><td>37</td><td>99.99</td><td>99.99</td><td>0</td><td>20.9187</td><td>0.541523</td><td>7</td><td>18.9814</td><td>0.860541</td><td>1</td><td>99.99</td><td>99.99</td><td>0</td><td>99.99</td><td>99.99</td><td>0</td><td>99.99</td><td>99.99</td><td>0</td><td>99.99</td><td>99.99</td><td>0</td><td>99.99</td><td>99.99</td><td>0</td><td>3</td><td>1.73654</td><td>0.234965</td><td>47.7173</td><td>202005</td><td>0</td><td>0</td><td>6453800048107</td><td>--</td></tr>\n",
       "<tr><td>1330012233236</td><td>N330012233236</td><td></td><td>NBVE033236</td><td>10.6630573273</td><td>41.3675842285</td><td>1986.91</td><td>0.34043</td><td>0.325062</td><td>19.76</td><td>0.512908</td><td>35</td><td>21.8557</td><td>0.554601</td><td>18</td><td>99.99</td><td>99.99</td><td>0</td><td>99.99</td><td>99.99</td><td>0</td><td>99.99</td><td>99.99</td><td>0</td><td>99.99</td><td>99.99</td><td>0</td><td>99.99</td><td>99.99</td><td>0</td><td>99.99</td><td>99.99</td><td>0</td><td>99.99</td><td>99.99</td><td>0</td><td>99.99</td><td>99.99</td><td>0</td><td>99.99</td><td>99.99</td><td>0</td><td>3</td><td>2.76907</td><td>0.228357</td><td>13.6206</td><td>22002</td><td>0</td><td>0</td><td>6453800033236</td><td>19.76</td></tr>\n",
       "<tr><td>1330012228890</td><td>N330012228890</td><td></td><td>NBVE028890</td><td>10.7099561691</td><td>41.1709594727</td><td>1986.91</td><td>0.34043</td><td>0.325062</td><td>20.1161</td><td>0.584237</td><td>35</td><td>99.99</td><td>99.99</td><td>0</td><td>99.99</td><td>99.99</td><td>0</td><td>99.99</td><td>99.99</td><td>0</td><td>99.99</td><td>99.99</td><td>0</td><td>99.99</td><td>99.99</td><td>0</td><td>99.99</td><td>99.99</td><td>0</td><td>99.99</td><td>99.99</td><td>0</td><td>99.99</td><td>99.99</td><td>0</td><td>99.99</td><td>99.99</td><td>0</td><td>99.99</td><td>99.99</td><td>0</td><td>3</td><td>2.24375</td><td>0.472859</td><td>113.582</td><td>10020201</td><td>0</td><td>0</td><td>6453800028890</td><td>20.1161</td></tr>\n",
       "<tr><td>1330012210212</td><td>N330012210212</td><td></td><td>NBVE010212</td><td>10.8177289963</td><td>41.2691574097</td><td>1989.75</td><td>0.343126</td><td>0.33241</td><td>20.2767</td><td>0.595958</td><td>35</td><td>21.3398</td><td>0.62705</td><td>18</td><td>99.99</td><td>99.99</td><td>0</td><td>99.99</td><td>99.99</td><td>0</td><td>99.99</td><td>99.99</td><td>0</td><td>99.99</td><td>99.99</td><td>0</td><td>99.99</td><td>99.99</td><td>0</td><td>99.99</td><td>99.99</td><td>0</td><td>99.99</td><td>99.99</td><td>0</td><td>99.99</td><td>99.99</td><td>0</td><td>99.99</td><td>99.99</td><td>0</td><td>3</td><td>2.12507</td><td>0.478459</td><td>71.2069</td><td>22002</td><td>0</td><td>0</td><td>6453800010212</td><td>20.2767</td></tr>\n",
       "<tr><td>23323175812087</td><td>00425926+4121267</td><td></td><td>2MJG1QEV</td><td>10.746928</td><td>41.357422</td><td>1997.81</td><td>0.09</td><td>0.08</td><td>99.99</td><td>99.99</td><td>0</td><td>99.99</td><td>99.99</td><td>0</td><td>99.99</td><td>99.99</td><td>0</td><td>99.99</td><td>99.99</td><td>0</td><td>99.99</td><td>99.99</td><td>0</td><td>99.99</td><td>99.99</td><td>0</td><td>99.99</td><td>99.99</td><td>0</td><td>99.99</td><td>99.99</td><td>0</td><td>15.243</td><td>0.062</td><td>47</td><td>14.555</td><td>0.067</td><td>48</td><td>14.274</td><td>0.075</td><td>49</td><td>4</td><td>0.0</td><td>0.0</td><td>0.0</td><td>77777700</td><td>0</td><td>0</td><td>6453800071571</td><td>--</td></tr>\n",
       "<tr><td>1330012231849</td><td>N330012231849</td><td></td><td>NBVE031849</td><td>10.5586099625</td><td>41.300617218</td><td>1986.91</td><td>0.34043</td><td>0.325062</td><td>20.2869</td><td>0.645382</td><td>35</td><td>99.99</td><td>99.99</td><td>0</td><td>99.99</td><td>99.99</td><td>0</td><td>99.99</td><td>99.99</td><td>0</td><td>99.99</td><td>99.99</td><td>0</td><td>99.99</td><td>99.99</td><td>0</td><td>99.99</td><td>99.99</td><td>0</td><td>99.99</td><td>99.99</td><td>0</td><td>99.99</td><td>99.99</td><td>0</td><td>99.99</td><td>99.99</td><td>0</td><td>99.99</td><td>99.99</td><td>0</td><td>3</td><td>2.07513</td><td>0.516403</td><td>157.91</td><td>10020201</td><td>0</td><td>0</td><td>6453800031849</td><td>20.2869</td></tr>\n",
       "<tr><td>1330012244053</td><td>N330012244053</td><td></td><td>NBVE044053</td><td>10.7202672958</td><td>41.3653793335</td><td>1989.69</td><td>0.303688</td><td>0.291863</td><td>99.99</td><td>99.99</td><td>0</td><td>20.2639</td><td>0.46473</td><td>18</td><td>99.99</td><td>99.99</td><td>0</td><td>99.99</td><td>99.99</td><td>0</td><td>99.99</td><td>99.99</td><td>0</td><td>99.99</td><td>99.99</td><td>0</td><td>99.99</td><td>99.99</td><td>0</td><td>99.99</td><td>99.99</td><td>0</td><td>99.99</td><td>99.99</td><td>0</td><td>99.99</td><td>99.99</td><td>0</td><td>99.99</td><td>99.99</td><td>0</td><td>3</td><td>7.04435</td><td>0.530021</td><td>1.07476</td><td>10001201</td><td>0</td><td>0</td><td>6453800044053</td><td>--</td></tr>\n",
       "<tr><td>1330012243728</td><td>N330012243728</td><td></td><td>NBVE043728</td><td>10.5715007782</td><td>41.3214912415</td><td>1989.69</td><td>0.303688</td><td>0.291863</td><td>99.99</td><td>99.99</td><td>0</td><td>18.0828</td><td>0.429678</td><td>18</td><td>99.99</td><td>99.99</td><td>0</td><td>99.99</td><td>99.99</td><td>0</td><td>99.99</td><td>99.99</td><td>0</td><td>99.99</td><td>99.99</td><td>0</td><td>99.99</td><td>99.99</td><td>0</td><td>99.99</td><td>99.99</td><td>0</td><td>99.99</td><td>99.99</td><td>0</td><td>99.99</td><td>99.99</td><td>0</td><td>99.99</td><td>99.99</td><td>0</td><td>3</td><td>13.7296</td><td>0.527784</td><td>88.1213</td><td>10001001</td><td>0</td><td>0</td><td>6453800043728</td><td>--</td></tr>\n",
       "<tr><td>133001228698</td><td>N33001228698</td><td></td><td>NBVE008698</td><td>10.8028268814</td><td>41.2230453491</td><td>1989.75</td><td>0.343126</td><td>0.33241</td><td>20.564</td><td>0.746252</td><td>35</td><td>21.852</td><td>0.772321</td><td>18</td><td>99.99</td><td>99.99</td><td>0</td><td>99.99</td><td>99.99</td><td>0</td><td>99.99</td><td>99.99</td><td>0</td><td>99.99</td><td>99.99</td><td>0</td><td>99.99</td><td>99.99</td><td>0</td><td>99.99</td><td>99.99</td><td>0</td><td>99.99</td><td>99.99</td><td>0</td><td>99.99</td><td>99.99</td><td>0</td><td>99.99</td><td>99.99</td><td>0</td><td>3</td><td>1.92398</td><td>0.633941</td><td>134.745</td><td>22002</td><td>0</td><td>0</td><td>6453800008698</td><td>20.564</td></tr>\n",
       "</table>"
      ],
      "text/plain": [
       "<Table masked=True length=4027>\n",
       "    objID           gscID2      GSC1ID ... multipleFlag compassGSC2id   Mag  \n",
       "    int64           object      object ...    object        object    float32\n",
       "-------------- ---------------- ------ ... ------------ ------------- -------\n",
       "23323175812944 00424433+4116085        ...            0 6453800072293      --\n",
       "23323175812933 00424455+4116103        ...            0 6453800072282      --\n",
       "23323175812939 00424464+4116092        ...            0 6453800072288      --\n",
       "23323175812931 00424464+4116106        ...            0 6453800072280      --\n",
       "23323175812948 00424403+4116069        ...            0 6453800072297      --\n",
       "23323175812930 00424403+4116108        ...            0 6453800072279      --\n",
       "23323175812909 00424460+4116141        ...            0 6453800072258      --\n",
       "23323175812923 00424386+4116123        ...            0 6453800072272      --\n",
       "23323175812899 00424416+4116152        ...            0 6453800072248      --\n",
       "23323175812973 00424446+4116016        ...            0 6453800072322      --\n",
       "           ...              ...    ... ...          ...           ...     ...\n",
       " 1330012212014    N330012212014        ...            0 6453800012014 16.5079\n",
       " 1330012248107    N330012248107        ...            0 6453800048107      --\n",
       " 1330012233236    N330012233236        ...            0 6453800033236   19.76\n",
       " 1330012228890    N330012228890        ...            0 6453800028890 20.1161\n",
       " 1330012210212    N330012210212        ...            0 6453800010212 20.2767\n",
       "23323175812087 00425926+4121267        ...            0 6453800071571      --\n",
       " 1330012231849    N330012231849        ...            0 6453800031849 20.2869\n",
       " 1330012244053    N330012244053        ...            0 6453800044053      --\n",
       " 1330012243728    N330012243728        ...            0 6453800043728      --\n",
       "  133001228698     N33001228698        ...            0 6453800008698  20.564"
      ]
     },
     "execution_count": 26,
     "metadata": {},
     "output_type": "execute_result"
    }
   ],
   "source": [
    "from astropy.table import Table\n",
    "Table(result.array)"
   ]
  },
  {
   "cell_type": "markdown",
   "metadata": {
    "slideshow": {
     "slide_type": "slide"
    }
   },
   "source": [
    "Getting a list of catalogs that are available through the cone search service:"
   ]
  },
  {
   "cell_type": "code",
   "execution_count": 27,
   "metadata": {},
   "outputs": [
    {
     "data": {
      "text/plain": [
       "['SDSS DR7 - Sloan Digital Sky Survey Data Release 7 1',\n",
       " 'SDSS DR7 - Sloan Digital Sky Survey Data Release 7 2',\n",
       " 'SDSS DR7 - Sloan Digital Sky Survey Data Release 7 3',\n",
       " 'SDSS DR7 - Sloan Digital Sky Survey Data Release 7 4',\n",
       " 'SDSS DR8 - Sloan Digital Sky Survey Data Release 8 2',\n",
       " 'The HST Guide Star Catalog, Version 1.1 (Lasker+ 1992) 1',\n",
       " 'The HST Guide Star Catalog, Version 1.2 (Lasker+ 1996) 1',\n",
       " 'The HST Guide Star Catalog, Version GSC-ACT (Lasker+ 1996-99) 1',\n",
       " 'The PMM USNO-A1.0 Catalogue (Monet 1997) 1',\n",
       " 'The USNO-A2.0 Catalogue (Monet+ 1998) 1',\n",
       " 'Two Micron All Sky Survey (2MASS) 1',\n",
       " 'Two Micron All Sky Survey (2MASS) 2',\n",
       " 'USNO-A2 Catalogue 1']"
      ]
     },
     "execution_count": 27,
     "metadata": {},
     "output_type": "execute_result"
    }
   ],
   "source": [
    "from astroquery.vo_conesearch import conesearch\n",
    "conesearch.list_catalogs()"
   ]
  },
  {
   "cell_type": "markdown",
   "metadata": {
    "slideshow": {
     "slide_type": "slide"
    }
   },
   "source": [
    "Unfortunately, if you want to specify the catalog, you have to use an older API:"
   ]
  },
  {
   "cell_type": "code",
   "execution_count": 28,
   "metadata": {},
   "outputs": [
    {
     "name": "stdout",
     "output_type": "stream",
     "text": [
      "Trying http://www.nofs.navy.mil/cgi-bin/vo_cone.cgi?CAT=USNO-A2&\n"
     ]
    },
    {
     "data": {
      "text/plain": [
       "<Table masked=True length=3>\n",
       "     id          RA        DEC       B       R   \n",
       "                deg        deg      mag     mag  \n",
       "   object     float64    float64  float64 float64\n",
       "------------ ---------- --------- ------- -------\n",
       "1275-0425574 10.5958778 41.335328  19.800  17.400\n",
       "1275-0427192 10.6399444 41.360844  19.400  18.400\n",
       "1275-0429939 10.7128333 41.209108   0.000  11.200"
      ]
     },
     "execution_count": 28,
     "metadata": {},
     "output_type": "execute_result"
    }
   ],
   "source": [
    "from astropy import units as u\n",
    "my_catname = 'USNO-A2 Catalogue 1'\n",
    "result = conesearch.conesearch(c, 0.1 * u.degree, catalog_db=my_catname)\n",
    "result"
   ]
  },
  {
   "cell_type": "markdown",
   "metadata": {
    "slideshow": {
     "slide_type": "slide"
    }
   },
   "source": [
    "### Cross-match services\n",
    "\n",
    "The xMatch service is a tool to cross-identify sources between very large data sets or between a user-uploaded list and a large catalog."
   ]
  },
  {
   "cell_type": "code",
   "execution_count": 29,
   "metadata": {},
   "outputs": [
    {
     "name": "stdout",
     "output_type": "stream",
     "text": [
      "Overwriting pos_list.csv\n"
     ]
    }
   ],
   "source": [
    "%%writefile pos_list.csv\n",
    "ra,dec\n",
    "267.22029,-20.35869\n",
    "274.83971,-25.42714\n",
    "275.92229,-30.36572\n",
    "283.26621,-8.70756\n",
    "306.01575,33.86756\n",
    "322.493,12.16703"
   ]
  },
  {
   "cell_type": "code",
   "execution_count": 30,
   "metadata": {},
   "outputs": [
    {
     "data": {
      "text/html": [
       "&lt;Table masked=True length=11&gt;\n",
       "<table id=\"table103365629432\" class=\"table-striped table-bordered table-condensed\">\n",
       "<thead><tr><th>angDist</th><th>ra</th><th>dec</th><th>2MASS</th><th>RAJ2000</th><th>DEJ2000</th><th>errHalfMaj</th><th>errHalfMin</th><th>errPosAng</th><th>Jmag</th><th>Hmag</th><th>Kmag</th><th>e_Jmag</th><th>e_Hmag</th><th>e_Kmag</th><th>Qfl</th><th>Rfl</th><th>X</th><th>MeasureJD</th></tr></thead>\n",
       "<thead><tr><th>float64</th><th>float64</th><th>float64</th><th>str16</th><th>float64</th><th>float64</th><th>float64</th><th>float64</th><th>int64</th><th>float64</th><th>float64</th><th>float64</th><th>float64</th><th>float64</th><th>float64</th><th>str3</th><th>int64</th><th>int64</th><th>float64</th></tr></thead>\n",
       "<tr><td>1.352044</td><td>267.22029</td><td>-20.35869</td><td>17485281-2021323</td><td>267.220049</td><td>-20.35899</td><td>0.15</td><td>0.11</td><td>16</td><td>9.931</td><td>8.822</td><td>7.55</td><td>0.239</td><td>0.241</td><td>--</td><td>EEU</td><td>226</td><td>2</td><td>2450950.8609</td></tr>\n",
       "<tr><td>1.578188</td><td>267.22029</td><td>-20.35869</td><td>17485288-2021328</td><td>267.220348</td><td>-20.359125</td><td>0.14</td><td>0.12</td><td>158</td><td>8.868</td><td>7.784</td><td>8.53</td><td>--</td><td>--</td><td>0.128</td><td>UUB</td><td>662</td><td>2</td><td>2450950.8609</td></tr>\n",
       "<tr><td>3.699368</td><td>267.22029</td><td>-20.35869</td><td>17485264-2021294</td><td>267.219344</td><td>-20.358171</td><td>0.13</td><td>0.12</td><td>33</td><td>9.562</td><td>8.525</td><td>9.445</td><td>--</td><td>--</td><td>0.119</td><td>UUB</td><td>662</td><td>2</td><td>2450950.8609</td></tr>\n",
       "<tr><td>3.822922</td><td>267.22029</td><td>-20.35869</td><td>17485299-2021279</td><td>267.220825</td><td>-20.357754</td><td>0.08</td><td>0.07</td><td>7</td><td>10.756</td><td>9.725</td><td>9.287</td><td>0.139</td><td>0.127</td><td>0.103</td><td>EBA</td><td>222</td><td>2</td><td>2450950.8609</td></tr>\n",
       "<tr><td>4.576677</td><td>267.22029</td><td>-20.35869</td><td>17485255-2021326</td><td>267.218994</td><td>-20.359064</td><td>0.14</td><td>0.13</td><td>87</td><td>10.431</td><td>9.348</td><td>7.926</td><td>0.159</td><td>0.316</td><td>--</td><td>CEU</td><td>226</td><td>2</td><td>2450950.8609</td></tr>\n",
       "<tr><td>0.219609</td><td>274.83971</td><td>-25.42714</td><td>18192154-2525377</td><td>274.839773</td><td>-25.427162</td><td>0.06</td><td>0.06</td><td>90</td><td>9.368</td><td>8.431</td><td>7.919</td><td>0.024</td><td>0.044</td><td>0.036</td><td>AAA</td><td>211</td><td>0</td><td>2451407.5033</td></tr>\n",
       "<tr><td>1.633225</td><td>275.92229</td><td>-30.36572</td><td>18234133-3021582</td><td>275.922233</td><td>-30.366171</td><td>0.08</td><td>0.08</td><td>55</td><td>12.947</td><td>12.334</td><td>12.145</td><td>0.156</td><td>0.221</td><td>0.127</td><td>EEE</td><td>222</td><td>2</td><td>2451021.7212</td></tr>\n",
       "<tr><td>0.536998</td><td>283.26621</td><td>-8.70756</td><td>18530390-0842276</td><td>283.266284</td><td>-8.70769</td><td>0.06</td><td>0.06</td><td>45</td><td>12.182</td><td>11.534</td><td>11.38</td><td>0.057</td><td>0.071</td><td>0.063</td><td>AAA</td><td>222</td><td>0</td><td>2451301.7945</td></tr>\n",
       "<tr><td>1.178542</td><td>306.01575</td><td>33.86756</td><td>20240382+3352021</td><td>306.015944</td><td>33.867275</td><td>0.06</td><td>0.06</td><td>90</td><td>13.575</td><td>12.684</td><td>12.321</td><td>0.025</td><td>0.027</td><td>0.026</td><td>AAA</td><td>222</td><td>0</td><td>2450948.9708</td></tr>\n",
       "<tr><td>0.853178</td><td>322.493</td><td>12.16703</td><td>21295836+1210007</td><td>322.493171</td><td>12.166862</td><td>0.1</td><td>0.08</td><td>179</td><td>9.798</td><td>9.339</td><td>9.176</td><td>0.109</td><td>0.15</td><td>0.1</td><td>EEA</td><td>222</td><td>0</td><td>2451080.6935</td></tr>\n",
       "<tr><td>4.50395</td><td>322.493</td><td>12.16703</td><td>21295861+1210023</td><td>322.494242</td><td>12.167332</td><td>0.1</td><td>0.08</td><td>1</td><td>10.057</td><td>9.72</td><td>9.483</td><td>0.077</td><td>0.136</td><td>0.088</td><td>EEE</td><td>222</td><td>0</td><td>2451080.6935</td></tr>\n",
       "</table>"
      ],
      "text/plain": [
       "<Table masked=True length=11>\n",
       "angDist      ra       dec         2MASS       ... Qfl   Rfl    X    MeasureJD  \n",
       "float64   float64   float64       str16       ... str3 int64 int64   float64   \n",
       "-------- --------- --------- ---------------- ... ---- ----- ----- ------------\n",
       "1.352044 267.22029 -20.35869 17485281-2021323 ...  EEU   226     2 2450950.8609\n",
       "1.578188 267.22029 -20.35869 17485288-2021328 ...  UUB   662     2 2450950.8609\n",
       "3.699368 267.22029 -20.35869 17485264-2021294 ...  UUB   662     2 2450950.8609\n",
       "3.822922 267.22029 -20.35869 17485299-2021279 ...  EBA   222     2 2450950.8609\n",
       "4.576677 267.22029 -20.35869 17485255-2021326 ...  CEU   226     2 2450950.8609\n",
       "0.219609 274.83971 -25.42714 18192154-2525377 ...  AAA   211     0 2451407.5033\n",
       "1.633225 275.92229 -30.36572 18234133-3021582 ...  EEE   222     2 2451021.7212\n",
       "0.536998 283.26621  -8.70756 18530390-0842276 ...  AAA   222     0 2451301.7945\n",
       "1.178542 306.01575  33.86756 20240382+3352021 ...  AAA   222     0 2450948.9708\n",
       "0.853178   322.493  12.16703 21295836+1210007 ...  EEA   222     0 2451080.6935\n",
       " 4.50395   322.493  12.16703 21295861+1210023 ...  EEE   222     0 2451080.6935"
      ]
     },
     "execution_count": 30,
     "metadata": {},
     "output_type": "execute_result"
    }
   ],
   "source": [
    "from astropy import units as u\n",
    "from astroquery.xmatch import XMatch\n",
    "table = XMatch.query(cat1=open('pos_list.csv'),\n",
    "                     cat2='vizier:II/246/out',\n",
    "                     max_distance=5 * u.arcsec, colRA1='ra',\n",
    "                     colDec1='dec')\n",
    "table"
   ]
  },
  {
   "cell_type": "markdown",
   "metadata": {
    "slideshow": {
     "slide_type": "slide"
    }
   },
   "source": [
    "### Gaia\n",
    "\n",
    "The Gaia access module in astroquery is excellent. It provides conesearch-like functionality, as well as general SQL queries."
   ]
  },
  {
   "cell_type": "markdown",
   "metadata": {
    "slideshow": {
     "slide_type": "slide"
    }
   },
   "source": [
    "Querying around an object:"
   ]
  },
  {
   "cell_type": "code",
   "execution_count": 31,
   "metadata": {
    "scrolled": false
   },
   "outputs": [
    {
     "name": "stdout",
     "output_type": "stream",
     "text": [
      "Created TAP+ (v1.0.1) - Connection:\n",
      "\tHost: gea.esac.esa.int\n",
      "\tUse HTTPS: False\n",
      "\tPort: 80\n",
      "\tSSL Port: 443\n",
      "Launched query: 'SELECT  TOP 2000 DISTANCE(POINT('ICRS',ra,dec),                 POINT('ICRS',280.0000090102581,-59.999994117257366)) AS dist, *                 FROM gaiadr1.gaia_source WHERE CONTAINS(                POINT('ICRS',ra,dec),                BOX('ICRS',280.0000090102581,-59.999994117257366, 0.1, 0.1))=1                 ORDER BY dist ASC'\n",
      "Retrieving sync. results...\n",
      "Query finished.\n"
     ]
    },
    {
     "data": {
      "text/html": [
       "&lt;Table masked=True length=152&gt;\n",
       "<table id=\"table4497633744\" class=\"table-striped table-bordered table-condensed\">\n",
       "<thead><tr><th>dist</th><th>solution_id</th><th>source_id</th><th>random_index</th><th>ref_epoch</th><th>ra</th><th>ra_error</th><th>dec</th><th>dec_error</th><th>parallax</th><th>parallax_error</th><th>pmra</th><th>pmra_error</th><th>pmdec</th><th>pmdec_error</th><th>ra_dec_corr</th><th>ra_parallax_corr</th><th>ra_pmra_corr</th><th>ra_pmdec_corr</th><th>dec_parallax_corr</th><th>dec_pmra_corr</th><th>dec_pmdec_corr</th><th>parallax_pmra_corr</th><th>parallax_pmdec_corr</th><th>pmra_pmdec_corr</th><th>astrometric_n_obs_al</th><th>astrometric_n_obs_ac</th><th>astrometric_n_good_obs_al</th><th>astrometric_n_good_obs_ac</th><th>astrometric_n_bad_obs_al</th><th>astrometric_n_bad_obs_ac</th><th>astrometric_delta_q</th><th>astrometric_excess_noise</th><th>astrometric_excess_noise_sig</th><th>astrometric_primary_flag</th><th>astrometric_relegation_factor</th><th>astrometric_weight_al</th><th>astrometric_weight_ac</th><th>astrometric_priors_used</th><th>matched_observations</th><th>duplicated_source</th><th>scan_direction_strength_k1</th><th>scan_direction_strength_k2</th><th>scan_direction_strength_k3</th><th>scan_direction_strength_k4</th><th>scan_direction_mean_k1</th><th>scan_direction_mean_k2</th><th>scan_direction_mean_k3</th><th>scan_direction_mean_k4</th><th>phot_g_n_obs</th><th>phot_g_mean_flux</th><th>phot_g_mean_flux_error</th><th>phot_g_mean_mag</th><th>phot_variable_flag</th><th>l</th><th>b</th><th>ecl_lon</th><th>ecl_lat</th></tr></thead>\n",
       "<thead><tr><th></th><th></th><th></th><th></th><th>Time[Julian Years]</th><th>deg</th><th>Angle[mas]</th><th>deg</th><th>Angle[mas]</th><th>Angle[mas]</th><th>Angle[mas]</th><th>mas / yr</th><th>mas / yr</th><th>mas / yr</th><th>mas / yr</th><th>Dimensionless[see description]</th><th>Dimensionless[see description]</th><th>Dimensionless[see description]</th><th>Dimensionless[see description]</th><th>Dimensionless[see description]</th><th>Dimensionless[see description]</th><th>Dimensionless[see description]</th><th>Dimensionless[see description]</th><th>Dimensionless[see description]</th><th>Dimensionless[see description]</th><th></th><th></th><th></th><th></th><th></th><th></th><th></th><th>Angle[mas]</th><th></th><th></th><th></th><th>Angle[mas^-2]</th><th>Angle[mas^-2]</th><th></th><th></th><th></th><th></th><th></th><th></th><th></th><th>deg</th><th>deg</th><th>deg</th><th>deg</th><th></th><th>Flux[e-/s]</th><th>Flux[e-/s]</th><th>Magnitude[mag]</th><th>Dimensionless[see description]</th><th>deg</th><th>deg</th><th>deg</th><th>deg</th></tr></thead>\n",
       "<thead><tr><th>float64</th><th>int64</th><th>int64</th><th>int64</th><th>float64</th><th>float64</th><th>float64</th><th>float64</th><th>float64</th><th>float64</th><th>float64</th><th>float64</th><th>float64</th><th>float64</th><th>float64</th><th>float32</th><th>float32</th><th>float32</th><th>float32</th><th>float32</th><th>float32</th><th>float32</th><th>float32</th><th>float32</th><th>float32</th><th>int32</th><th>int32</th><th>int32</th><th>int32</th><th>int32</th><th>int32</th><th>float32</th><th>float64</th><th>float64</th><th>bool</th><th>float32</th><th>float32</th><th>float32</th><th>int32</th><th>int16</th><th>bool</th><th>float32</th><th>float32</th><th>float32</th><th>float32</th><th>float32</th><th>float32</th><th>float32</th><th>float32</th><th>int32</th><th>float64</th><th>float64</th><th>float64</th><th>object</th><th>float64</th><th>float64</th><th>float64</th><th>float64</th></tr></thead>\n",
       "<tr><td>0.0026029414438061079</td><td>1635378410781933568</td><td>6636090334814214528</td><td>397931233</td><td>2015.0</td><td>280.00025396705388</td><td>2.1018329552245518</td><td>-60.002594175790492</td><td>2.5272499755973428</td><td>--</td><td>--</td><td>--</td><td>--</td><td>--</td><td>--</td><td>-0.95945001</td><td>--</td><td>--</td><td>--</td><td>--</td><td>--</td><td>--</td><td>--</td><td>--</td><td>--</td><td>115</td><td>0</td><td>115</td><td>0</td><td>0</td><td>0</td><td>--</td><td>0.0</td><td>1.9161912588948613e-15</td><td>False</td><td>1.0</td><td>0.078845315</td><td>--</td><td>2</td><td>16</td><td>False</td><td>0.41549984</td><td>0.32447383</td><td>0.56806332</td><td>0.63858271</td><td>4.4237657</td><td>39.712982</td><td>54.583698</td><td>33.788013</td><td>131</td><td>219.67434494554493</td><td>1.7363804001106289</td><td>19.67032171374645</td><td>NOT_AVAILABLE</td><td>335.48699060672362</td><td>-21.882743395697069</td><td>276.22285274622334</td><td>-36.779151653783892</td></tr>\n",
       "<tr><td>0.0038537557334594502</td><td>1635378410781933568</td><td>6636090334814217472</td><td>100167957</td><td>2015.0</td><td>280.00512469684179</td><td>0.78057236002149388</td><td>-59.997111705326141</td><td>1.1780338068317195</td><td>--</td><td>--</td><td>--</td><td>--</td><td>--</td><td>--</td><td>-0.68150002</td><td>--</td><td>--</td><td>--</td><td>--</td><td>--</td><td>--</td><td>--</td><td>--</td><td>--</td><td>106</td><td>0</td><td>106</td><td>0</td><td>0</td><td>0</td><td>--</td><td>0.57825115445801967</td><td>8.7474024155984491</td><td>False</td><td>1.5002347</td><td>1.6216913</td><td>--</td><td>2</td><td>16</td><td>False</td><td>0.68314916</td><td>0.32942894</td><td>0.69775677</td><td>0.61331052</td><td>15.538467</td><td>51.652428</td><td>49.771366</td><td>38.718239</td><td>114</td><td>4231.8245353431321</td><td>13.137391166929724</td><td>16.458450933352132</td><td>NOT_AVAILABLE</td><td>335.49340353617515</td><td>-21.883502269017455</td><td>276.22647234301053</td><td>-36.773899692008634</td></tr>\n",
       "<tr><td>0.0045451702670639632</td><td>1635378410781933568</td><td>6636090334814217600</td><td>763204376</td><td>2015.0</td><td>279.99470141533453</td><td>1.6890001960401484</td><td>-59.996304246835876</td><td>2.0255368872796509</td><td>--</td><td>--</td><td>--</td><td>--</td><td>--</td><td>--</td><td>-0.97944999</td><td>--</td><td>--</td><td>--</td><td>--</td><td>--</td><td>--</td><td>--</td><td>--</td><td>--</td><td>121</td><td>0</td><td>119</td><td>0</td><td>2</td><td>0</td><td>--</td><td>0.9042744795363219</td><td>1.6991106891350003</td><td>False</td><td>1.1500075</td><td>0.20026346</td><td>--</td><td>2</td><td>16</td><td>False</td><td>0.3579351</td><td>0.34789038</td><td>0.58091962</td><td>0.57177627</td><td>4.8462811</td><td>46.767838</td><td>57.220646</td><td>37.230057</td><td>135</td><td>524.89348962458757</td><td>2.7681017374924859</td><td>18.724592098474062</td><td>NOT_AVAILABLE</td><td>335.4926241674637</td><td>-21.878277755398884</td><td>276.2200765287389</td><td>-36.772645786277522</td></tr>\n",
       "<tr><td>0.0056131312891700424</td><td>1635378410781933568</td><td>6636089578899970048</td><td>445186617</td><td>2015.0</td><td>280.00617905082925</td><td>0.99539196829001741</td><td>-60.00468359895136</td><td>1.2327493833160597</td><td>--</td><td>--</td><td>--</td><td>--</td><td>--</td><td>--</td><td>-0.98580003</td><td>--</td><td>--</td><td>--</td><td>--</td><td>--</td><td>--</td><td>--</td><td>--</td><td>--</td><td>78</td><td>0</td><td>78</td><td>0</td><td>0</td><td>0</td><td>--</td><td>0.38420906580575409</td><td>1.9122505754461201</td><td>False</td><td>1.1500911</td><td>1.6631229</td><td>--</td><td>2</td><td>12</td><td>True</td><td>0.46263105</td><td>0.31245083</td><td>0.64866537</td><td>0.69105393</td><td>3.3889101</td><td>46.200737</td><td>50.716511</td><td>32.000751</td><td>95</td><td>2715.4275147671628</td><td>3.7663500050650978</td><td>16.940174528118717</td><td>NOT_AVAILABLE</td><td>335.48575006487613</td><td>-21.886180731523055</td><td>276.22631234644706</td><td>-36.781488832325074</td></tr>\n",
       "<tr><td>0.0058494547209840585</td><td>1635378410781933568</td><td>6636090334814218752</td><td>1067278839</td><td>2015.0</td><td>280.00127653594791</td><td>3.5695504814155115</td><td>-59.994179102688022</td><td>5.2487143787439807</td><td>--</td><td>--</td><td>--</td><td>--</td><td>--</td><td>--</td><td>-0.17385</td><td>--</td><td>--</td><td>--</td><td>--</td><td>--</td><td>--</td><td>--</td><td>--</td><td>--</td><td>80</td><td>0</td><td>80</td><td>0</td><td>0</td><td>0</td><td>--</td><td>1.5203665905476322</td><td>3.9420839815053093</td><td>False</td><td>1.0959412</td><td>0.032318674</td><td>--</td><td>2</td><td>13</td><td>False</td><td>0.76386988</td><td>0.51511234</td><td>0.69555146</td><td>0.59300095</td><td>29.137394</td><td>48.140003</td><td>49.651077</td><td>43.424118</td><td>88</td><td>136.15611135447654</td><td>1.8503137197520998</td><td>20.189677215387633</td><td>NOT_AVAILABLE</td><td>335.4958353727157</td><td>-21.880816967049213</td><td>276.22439474550708</td><td>-36.770812028764119</td></tr>\n",
       "<tr><td>0.0062076788443168303</td><td>1635378410781933568</td><td>6636090334814213632</td><td>544806659</td><td>2015.0</td><td>279.99130895211761</td><td>1.8685884682813896</td><td>-60.004423005440024</td><td>2.2480619353043676</td><td>--</td><td>--</td><td>--</td><td>--</td><td>--</td><td>--</td><td>-0.9756</td><td>--</td><td>--</td><td>--</td><td>--</td><td>--</td><td>--</td><td>--</td><td>--</td><td>--</td><td>115</td><td>0</td><td>115</td><td>0</td><td>0</td><td>0</td><td>--</td><td>0.98733794653999096</td><td>1.4595373324660459</td><td>False</td><td>1.1435941</td><td>0.15670645</td><td>--</td><td>2</td><td>16</td><td>False</td><td>0.41543695</td><td>0.32458207</td><td>0.56850088</td><td>0.63877344</td><td>4.4503312</td><td>39.745464</td><td>54.595039</td><td>33.808525</td><td>131</td><td>423.74045847934025</td><td>1.7072438833954147</td><td>18.957020233461218</td><td>NOT_AVAILABLE</td><td>335.48371891148844</td><td>-21.878984889031983</td><td>276.21709322818919</td><td>-36.780588167751368</td></tr>\n",
       "<tr><td>0.008201843586626921</td><td>1635378410781933568</td><td>6636089578899968256</td><td>358193615</td><td>2015.0</td><td>280.00262397418294</td><td>0.61798117035321676</td><td>-60.008091101077319</td><td>0.91000101669400557</td><td>--</td><td>--</td><td>--</td><td>--</td><td>--</td><td>--</td><td>-0.66949999</td><td>--</td><td>--</td><td>--</td><td>--</td><td>--</td><td>--</td><td>--</td><td>--</td><td>--</td><td>99</td><td>0</td><td>99</td><td>0</td><td>0</td><td>0</td><td>--</td><td>0.33907654632880901</td><td>3.3079070828553268</td><td>False</td><td>1.2413135</td><td>2.9419067</td><td>--</td><td>2</td><td>17</td><td>False</td><td>0.66266185</td><td>0.3066079</td><td>0.71522939</td><td>0.59979749</td><td>14.042397</td><td>56.322323</td><td>51.383644</td><td>39.689983</td><td>117</td><td>4638.2213258195125</td><td>5.6038386601680337</td><td>16.358891392882541</td><td>NOT_AVAILABLE</td><td>335.48168269714273</td><td>-21.885456365237452</td><td>276.22373455749431</td><td>-36.784730288359086</td></tr>\n",
       "<tr><td>0.0083377863521668077</td><td>1635378410781933568</td><td>6636089578900244352</td><td>652942130</td><td>2015.0</td><td>279.99981065222897</td><td>0.78090824348945209</td><td>-60.008331313863728</td><td>1.2074932626241026</td><td>--</td><td>--</td><td>--</td><td>--</td><td>--</td><td>--</td><td>-0.67095</td><td>--</td><td>--</td><td>--</td><td>--</td><td>--</td><td>--</td><td>--</td><td>--</td><td>--</td><td>107</td><td>0</td><td>106</td><td>0</td><td>1</td><td>0</td><td>--</td><td>0.41656227375496374</td><td>2.7728424527395217</td><td>False</td><td>1.1975799</td><td>1.6254499</td><td>--</td><td>2</td><td>17</td><td>False</td><td>0.67582148</td><td>0.31720918</td><td>0.70250642</td><td>0.61222363</td><td>14.575819</td><td>52.929371</td><td>50.091377</td><td>38.697334</td><td>124</td><td>2557.4667124103685</td><td>4.3993156735640984</td><td>17.005245089561935</td><td>NOT_AVAILABLE</td><td>335.48099967765597</td><td>-21.88417819643545</td><td>276.22195929543807</td><td>-36.784848302904727</td></tr>\n",
       "<tr><td>0.0084057202175603796</td><td>1635378410781933568</td><td>6636089578899968384</td><td>1026501891</td><td>2015.0</td><td>280.0064931296547</td><td>0.88670657396487818</td><td>-60.007749608337811</td><td>1.3814626508323593</td><td>--</td><td>--</td><td>--</td><td>--</td><td>--</td><td>--</td><td>-0.6821</td><td>--</td><td>--</td><td>--</td><td>--</td><td>--</td><td>--</td><td>--</td><td>--</td><td>--</td><td>107</td><td>0</td><td>105</td><td>0</td><td>2</td><td>0</td><td>--</td><td>0.47249350296932591</td><td>2.9364108397507542</td><td>False</td><td>1.1869518</td><td>1.2744817</td><td>--</td><td>2</td><td>16</td><td>False</td><td>0.68710256</td><td>0.33992735</td><td>0.69647187</td><td>0.61061466</td><td>16.302635</td><td>51.126225</td><td>49.618198</td><td>38.830265</td><td>123</td><td>2194.4015852796806</td><td>6.8824729547263779</td><td>17.17147979299148</td><td>NOT_AVAILABLE</td><td>335.48263347039273</td><td>-21.887211089561678</td><td>276.22617729271542</td><td>-36.784556953222634</td></tr>\n",
       "<tr><td>...</td><td>...</td><td>...</td><td>...</td><td>...</td><td>...</td><td>...</td><td>...</td><td>...</td><td>...</td><td>...</td><td>...</td><td>...</td><td>...</td><td>...</td><td>...</td><td>...</td><td>...</td><td>...</td><td>...</td><td>...</td><td>...</td><td>...</td><td>...</td><td>...</td><td>...</td><td>...</td><td>...</td><td>...</td><td>...</td><td>...</td><td>...</td><td>...</td><td>...</td><td>...</td><td>...</td><td>...</td><td>...</td><td>...</td><td>...</td><td>...</td><td>...</td><td>...</td><td>...</td><td>...</td><td>...</td><td>...</td><td>...</td><td>...</td><td>...</td><td>...</td><td>...</td><td>...</td><td>...</td><td>...</td><td>...</td><td>...</td><td>...</td></tr>\n",
       "<tr><td>0.049586988816560117</td><td>1635378410781933568</td><td>6636065836320737280</td><td>932321536</td><td>2015.0</td><td>279.98038105780284</td><td>1.7034400094876645</td><td>-60.048601697372924</td><td>2.0577029083533529</td><td>--</td><td>--</td><td>--</td><td>--</td><td>--</td><td>--</td><td>-0.98175001</td><td>--</td><td>--</td><td>--</td><td>--</td><td>--</td><td>--</td><td>--</td><td>--</td><td>--</td><td>98</td><td>0</td><td>98</td><td>0</td><td>0</td><td>0</td><td>--</td><td>0.9334935830084371</td><td>2.3863380309704323</td><td>False</td><td>1.2520378</td><td>0.28250992</td><td>--</td><td>2</td><td>14</td><td>False</td><td>0.37270105</td><td>0.23189595</td><td>0.56283349</td><td>0.68160224</td><td>-12.227415</td><td>37.166882</td><td>56.791603</td><td>32.441292</td><td>114</td><td>748.70828716139579</td><td>2.3818224796011092</td><td>18.338988463361346</td><td>NOT_AVAILABLE</td><td>335.43642550846153</td><td>-21.88644112872587</td><td>276.20554714166866</td><td>-36.824132319326232</td></tr>\n",
       "<tr><td>0.049717306565450765</td><td>1635378410781933568</td><td>6636065840618385920</td><td>480137045</td><td>2015.0</td><td>279.9775937104605</td><td>12.434342833829843</td><td>-60.048433595766831</td><td>8.3851360279429592</td><td>--</td><td>--</td><td>--</td><td>--</td><td>--</td><td>--</td><td>-0.90850002</td><td>--</td><td>--</td><td>--</td><td>--</td><td>--</td><td>--</td><td>--</td><td>--</td><td>--</td><td>62</td><td>0</td><td>62</td><td>0</td><td>0</td><td>0</td><td>--</td><td>0.0</td><td>-6.6548424483535057e-16</td><td>False</td><td>1.0</td><td>0.01837031</td><td>--</td><td>2</td><td>11</td><td>False</td><td>0.42303473</td><td>0.88577151</td><td>0.42814144</td><td>0.598912</td><td>52.398499</td><td>34.702</td><td>50.595634</td><td>32.618904</td><td>77</td><td>101.17231492115945</td><td>1.9508501082343535</td><td>20.512115845868898</td><td>NOT_AVAILABLE</td><td>335.43616847068716</td><td>-21.885059824519754</td><td>276.20383319020152</td><td>-36.823845008396503</td></tr>\n",
       "<tr><td>0.049777020825344041</td><td>1635378410781933568</td><td>6636070169943709568</td><td>973570698</td><td>2015.0</td><td>279.96534953143566</td><td>3.0923505182515862</td><td>-59.953335695677374</td><td>3.698344713955759</td><td>--</td><td>--</td><td>--</td><td>--</td><td>--</td><td>--</td><td>-0.98105001</td><td>--</td><td>--</td><td>--</td><td>--</td><td>--</td><td>--</td><td>--</td><td>--</td><td>--</td><td>99</td><td>0</td><td>99</td><td>0</td><td>0</td><td>0</td><td>--</td><td>1.4521825229158967</td><td>1.5613529982559178</td><td>False</td><td>5.6790643</td><td>0.083033338</td><td>--</td><td>2</td><td>15</td><td>False</td><td>0.42111123</td><td>0.54847658</td><td>0.56447601</td><td>0.62828624</td><td>24.414972</td><td>39.344242</td><td>50.772446</td><td>32.649906</td><td>115</td><td>297.10379584124365</td><td>1.9738151469847094</td><td>19.342499562719333</td><td>NOT_AVAILABLE</td><td>335.53241696189662</td><td>-21.851854943999395</td><td>276.20642809626798</td><td>-36.72857293240213</td></tr>\n",
       "<tr><td>0.050385912463710505</td><td>1635378410781933568</td><td>6636090644051890048</td><td>729986270</td><td>2015.0</td><td>280.02976874648061</td><td>7.4977896558360131</td><td>-59.951858813208595</td><td>5.2005613735273437</td><td>--</td><td>--</td><td>--</td><td>--</td><td>--</td><td>--</td><td>-0.9048</td><td>--</td><td>--</td><td>--</td><td>--</td><td>--</td><td>--</td><td>--</td><td>--</td><td>--</td><td>51</td><td>0</td><td>50</td><td>0</td><td>1</td><td>0</td><td>--</td><td>0.0</td><td>0.0</td><td>False</td><td>1.0</td><td>0.019791085</td><td>--</td><td>2</td><td>10</td><td>False</td><td>0.62802774</td><td>0.88719213</td><td>0.53076488</td><td>0.59551036</td><td>44.600479</td><td>36.291916</td><td>44.202465</td><td>34.54158</td><td>67</td><td>98.154013733526526</td><td>1.9321216123615559</td><td>20.544999904951027</td><td>NOT_AVAILABLE</td><td>335.54393248318729</td><td>-21.882324651052919</td><td>276.24668290250509</td><td>-36.729880776402624</td></tr>\n",
       "<tr><td>0.050826536195428054</td><td>1635378410781933568</td><td>6636065836320737408</td><td>612236797</td><td>2015.0</td><td>279.96672440013884</td><td>2.0426294353667562</td><td>-60.048022989480003</td><td>2.4149593329140187</td><td>--</td><td>--</td><td>--</td><td>--</td><td>--</td><td>--</td><td>-0.97154999</td><td>--</td><td>--</td><td>--</td><td>--</td><td>--</td><td>--</td><td>--</td><td>--</td><td>--</td><td>108</td><td>0</td><td>108</td><td>0</td><td>0</td><td>0</td><td>--</td><td>0.85206084247651104</td><td>0.67157414315727282</td><td>False</td><td>1.0899343</td><td>0.11755527</td><td>--</td><td>2</td><td>16</td><td>False</td><td>0.38340148</td><td>0.28768742</td><td>0.59608072</td><td>0.61906344</td><td>0.51011449</td><td>42.390472</td><td>56.59367</td><td>34.33659</td><td>124</td><td>330.92933776330057</td><td>1.9977610280995941</td><td>19.225431888280553</td><td>NOT_AVAILABLE</td><td>335.43491277941388</td><td>-21.879743786784847</td><td>276.19712318744234</td><td>-36.822968947436181</td></tr>\n",
       "<tr><td>0.050859645206141363</td><td>1635378410781933568</td><td>6633086847005375360</td><td>865419909</td><td>2015.0</td><td>280.04926074644317</td><td>1.0374885133943275</td><td>-60.044503509893886</td><td>1.5187284451283867</td><td>--</td><td>--</td><td>--</td><td>--</td><td>--</td><td>--</td><td>-0.6437</td><td>--</td><td>--</td><td>--</td><td>--</td><td>--</td><td>--</td><td>--</td><td>--</td><td>--</td><td>88</td><td>0</td><td>88</td><td>0</td><td>0</td><td>0</td><td>--</td><td>0.4004584401063182</td><td>1.3430907203025608</td><td>False</td><td>1.1005338</td><td>1.0386804</td><td>--</td><td>2</td><td>15</td><td>False</td><td>0.64675665</td><td>0.21886222</td><td>0.70190012</td><td>0.6268059</td><td>5.9370956</td><td>60.625477</td><td>51.323154</td><td>37.567482</td><td>103</td><td>1643.190963792955</td><td>2.7371238515483789</td><td>17.485549968852688</td><td>NOT_AVAILABLE</td><td>335.4512815839704</td><td>-21.918214836601454</td><td>276.24879201063374</td><td>-36.823021426398789</td></tr>\n",
       "<tr><td>0.051040085912766479</td><td>1635378410781933568</td><td>6636070165653491328</td><td>1106492563</td><td>2015.0</td><td>279.95700038082072</td><td>2.2052222865941151</td><td>-59.953712287371687</td><td>2.7682420537592987</td><td>--</td><td>--</td><td>--</td><td>--</td><td>--</td><td>--</td><td>-0.96869999</td><td>--</td><td>--</td><td>--</td><td>--</td><td>--</td><td>--</td><td>--</td><td>--</td><td>--</td><td>98</td><td>0</td><td>96</td><td>0</td><td>2</td><td>0</td><td>--</td><td>0.84683323600155269</td><td>0.5439959078344363</td><td>False</td><td>1.118203</td><td>0.10555213</td><td>--</td><td>2</td><td>15</td><td>False</td><td>0.37127301</td><td>0.41158348</td><td>0.55558199</td><td>0.72670889</td><td>4.9894199</td><td>37.740307</td><td>51.1385</td><td>30.483789</td><td>113</td><td>266.93305526414258</td><td>1.9310374926294616</td><td>19.458764170492802</td><td>NOT_AVAILABLE</td><td>335.53073147462965</td><td>-21.847960007734624</td><td>276.20119109834945</td><td>-36.728589237516161</td></tr>\n",
       "<tr><td>0.051211160779507325</td><td>1635378410781933568</td><td>6636065840618481024</td><td>639206843</td><td>2015.0</td><td>279.97601316524594</td><td>15.43335551185308</td><td>-60.049782162898687</td><td>11.253512494789781</td><td>--</td><td>--</td><td>--</td><td>--</td><td>--</td><td>--</td><td>-0.45225</td><td>--</td><td>--</td><td>--</td><td>--</td><td>--</td><td>--</td><td>--</td><td>--</td><td>--</td><td>27</td><td>0</td><td>27</td><td>0</td><td>0</td><td>0</td><td>--</td><td>4.1966330745666607</td><td>0.57595577042526924</td><td>False</td><td>16.186298</td><td>0.0091695255</td><td>--</td><td>2</td><td>9</td><td>False</td><td>0.97448981</td><td>0.89996535</td><td>0.78267348</td><td>0.63423914</td><td>37.98064</td><td>37.721516</td><td>37.211292</td><td>36.276733</td><td>44</td><td>104.678737781861</td><td>2.1907547351288312</td><td>20.475123870669059</td><td>NOT_AVAILABLE</td><td>335.43453219845958</td><td>-21.88469116118695</td><td>276.20270602171234</td><td>-36.825120633172546</td></tr>\n",
       "<tr><td>0.051958453766310551</td><td>1635378410781933568</td><td>6636093637644158592</td><td>998150359</td><td>2015.0</td><td>279.96893127275177</td><td>3.3737235602099145</td><td>-59.950417282123084</td><td>4.1105318135896836</td><td>--</td><td>--</td><td>--</td><td>--</td><td>--</td><td>--</td><td>-0.97689998</td><td>--</td><td>--</td><td>--</td><td>--</td><td>--</td><td>--</td><td>--</td><td>--</td><td>--</td><td>89</td><td>0</td><td>89</td><td>0</td><td>0</td><td>0</td><td>--</td><td>2.0409058418888977</td><td>2.6300195161791131</td><td>False</td><td>7.9200649</td><td>0.06274537</td><td>--</td><td>2</td><td>14</td><td>False</td><td>0.32282797</td><td>0.32866704</td><td>0.58987236</td><td>0.70592362</td><td>-5.9508452</td><td>41.07275</td><td>54.451572</td><td>30.676662</td><td>105</td><td>262.23946143566189</td><td>1.8363776568711763</td><td>19.478024953061698</td><td>NOT_AVAILABLE</td><td>335.53598447419108</td><td>-21.852732336727712</td><td>276.20897028018084</td><td>-36.725819366872734</td></tr>\n",
       "<tr><td>0.053207596589671176</td><td>1635378410781933568</td><td>6633086847005369088</td><td>620825362</td><td>2015.0</td><td>280.04467632259593</td><td>1.6811673005233307</td><td>-60.048295094495955</td><td>1.9470275929381737</td><td>--</td><td>--</td><td>--</td><td>--</td><td>--</td><td>--</td><td>-0.98215002</td><td>--</td><td>--</td><td>--</td><td>--</td><td>--</td><td>--</td><td>--</td><td>--</td><td>--</td><td>96</td><td>0</td><td>96</td><td>0</td><td>0</td><td>0</td><td>--</td><td>0.79606552978039147</td><td>1.7828511437527159</td><td>False</td><td>1.1527456</td><td>0.30584487</td><td>--</td><td>2</td><td>13</td><td>False</td><td>0.33275831</td><td>0.23381977</td><td>0.64691049</td><td>0.59267402</td><td>-7.9189453</td><td>46.92136</td><td>59.606075</td><td>35.129505</td><td>103</td><td>724.84592417421936</td><td>1.9676666700207694</td><td>18.37415581083442</td><td>NOT_AVAILABLE</td><td>335.44665941242039</td><td>-21.917106717154407</td><td>276.24553258564202</td><td>-36.826600298826662</td></tr>\n",
       "</table>"
      ],
      "text/plain": [
       "<Table masked=True length=152>\n",
       "         dist             solution_id     ...       ecl_lat      \n",
       "                                          ...         deg        \n",
       "       float64               int64        ...       float64      \n",
       "--------------------- ------------------- ... -------------------\n",
       "0.0026029414438061079 1635378410781933568 ... -36.779151653783892\n",
       "0.0038537557334594502 1635378410781933568 ... -36.773899692008634\n",
       "0.0045451702670639632 1635378410781933568 ... -36.772645786277522\n",
       "0.0056131312891700424 1635378410781933568 ... -36.781488832325074\n",
       "0.0058494547209840585 1635378410781933568 ... -36.770812028764119\n",
       "0.0062076788443168303 1635378410781933568 ... -36.780588167751368\n",
       " 0.008201843586626921 1635378410781933568 ... -36.784730288359086\n",
       "0.0083377863521668077 1635378410781933568 ... -36.784848302904727\n",
       "0.0084057202175603796 1635378410781933568 ... -36.784556953222634\n",
       "                  ...                 ... ...                 ...\n",
       " 0.049586988816560117 1635378410781933568 ... -36.824132319326232\n",
       " 0.049717306565450765 1635378410781933568 ... -36.823845008396503\n",
       " 0.049777020825344041 1635378410781933568 ...  -36.72857293240213\n",
       " 0.050385912463710505 1635378410781933568 ... -36.729880776402624\n",
       " 0.050826536195428054 1635378410781933568 ... -36.822968947436181\n",
       " 0.050859645206141363 1635378410781933568 ... -36.823021426398789\n",
       " 0.051040085912766479 1635378410781933568 ... -36.728589237516161\n",
       " 0.051211160779507325 1635378410781933568 ... -36.825120633172546\n",
       " 0.051958453766310551 1635378410781933568 ... -36.725819366872734\n",
       " 0.053207596589671176 1635378410781933568 ... -36.826600298826662"
      ]
     },
     "execution_count": 31,
     "metadata": {},
     "output_type": "execute_result"
    }
   ],
   "source": [
    "from astroquery.gaia import Gaia\n",
    "coord = SkyCoord(ra=280*u.degree, dec=-60*u.degree, frame='icrs')\n",
    "r = Gaia.query_object(coordinate=coord, width=0.1* u.deg, height=0.1* u.deg)\n",
    "r"
   ]
  },
  {
   "cell_type": "markdown",
   "metadata": {
    "slideshow": {
     "slide_type": "slide"
    }
   },
   "source": [
    "And a more general SQL query:"
   ]
  },
  {
   "cell_type": "code",
   "execution_count": 32,
   "metadata": {},
   "outputs": [
    {
     "name": "stdout",
     "output_type": "stream",
     "text": [
      "Launched query: 'select top 100 * from gaiadr1.gaia_source order by source_id'\n",
      "Retrieving async. results...\n",
      "Query finished.\n"
     ]
    },
    {
     "data": {
      "text/html": [
       "&lt;Table masked=True length=100&gt;\n",
       "<table id=\"table103365668760\" class=\"table-striped table-bordered table-condensed\">\n",
       "<thead><tr><th>solution_id</th><th>source_id</th><th>random_index</th><th>ref_epoch</th><th>ra</th><th>ra_error</th><th>dec</th><th>dec_error</th><th>parallax</th><th>parallax_error</th><th>pmra</th><th>pmra_error</th><th>pmdec</th><th>pmdec_error</th><th>ra_dec_corr</th><th>ra_parallax_corr</th><th>ra_pmra_corr</th><th>ra_pmdec_corr</th><th>dec_parallax_corr</th><th>dec_pmra_corr</th><th>dec_pmdec_corr</th><th>parallax_pmra_corr</th><th>parallax_pmdec_corr</th><th>pmra_pmdec_corr</th><th>astrometric_n_obs_al</th><th>astrometric_n_obs_ac</th><th>astrometric_n_good_obs_al</th><th>astrometric_n_good_obs_ac</th><th>astrometric_n_bad_obs_al</th><th>astrometric_n_bad_obs_ac</th><th>astrometric_delta_q</th><th>astrometric_excess_noise</th><th>astrometric_excess_noise_sig</th><th>astrometric_primary_flag</th><th>astrometric_relegation_factor</th><th>astrometric_weight_al</th><th>astrometric_weight_ac</th><th>astrometric_priors_used</th><th>matched_observations</th><th>duplicated_source</th><th>scan_direction_strength_k1</th><th>scan_direction_strength_k2</th><th>scan_direction_strength_k3</th><th>scan_direction_strength_k4</th><th>scan_direction_mean_k1</th><th>scan_direction_mean_k2</th><th>scan_direction_mean_k3</th><th>scan_direction_mean_k4</th><th>phot_g_n_obs</th><th>phot_g_mean_flux</th><th>phot_g_mean_flux_error</th><th>phot_g_mean_mag</th><th>phot_variable_flag</th><th>l</th><th>b</th><th>ecl_lon</th><th>ecl_lat</th></tr></thead>\n",
       "<thead><tr><th></th><th></th><th></th><th>Time[Julian Years]</th><th>deg</th><th>Angle[mas]</th><th>deg</th><th>Angle[mas]</th><th>Angle[mas]</th><th>Angle[mas]</th><th>mas / yr</th><th>mas / yr</th><th>mas / yr</th><th>mas / yr</th><th>Dimensionless[see description]</th><th>Dimensionless[see description]</th><th>Dimensionless[see description]</th><th>Dimensionless[see description]</th><th>Dimensionless[see description]</th><th>Dimensionless[see description]</th><th>Dimensionless[see description]</th><th>Dimensionless[see description]</th><th>Dimensionless[see description]</th><th>Dimensionless[see description]</th><th></th><th></th><th></th><th></th><th></th><th></th><th></th><th>Angle[mas]</th><th></th><th></th><th></th><th>Angle[mas^-2]</th><th>Angle[mas^-2]</th><th></th><th></th><th></th><th></th><th></th><th></th><th></th><th>deg</th><th>deg</th><th>deg</th><th>deg</th><th></th><th>Flux[e-/s]</th><th>Flux[e-/s]</th><th>Magnitude[mag]</th><th>Dimensionless[see description]</th><th>deg</th><th>deg</th><th>deg</th><th>deg</th></tr></thead>\n",
       "<thead><tr><th>int64</th><th>int64</th><th>int64</th><th>float64</th><th>float64</th><th>float64</th><th>float64</th><th>float64</th><th>float64</th><th>float64</th><th>float64</th><th>float64</th><th>float64</th><th>float64</th><th>float32</th><th>float32</th><th>float32</th><th>float32</th><th>float32</th><th>float32</th><th>float32</th><th>float32</th><th>float32</th><th>float32</th><th>int32</th><th>int32</th><th>int32</th><th>int32</th><th>int32</th><th>int32</th><th>float32</th><th>float64</th><th>float64</th><th>bool</th><th>float32</th><th>float32</th><th>float32</th><th>int32</th><th>int16</th><th>bool</th><th>float32</th><th>float32</th><th>float32</th><th>float32</th><th>float32</th><th>float32</th><th>float32</th><th>float32</th><th>int32</th><th>float64</th><th>float64</th><th>float64</th><th>object</th><th>float64</th><th>float64</th><th>float64</th><th>float64</th></tr></thead>\n",
       "<tr><td>1635378410781933568</td><td>65408</td><td>973786105</td><td>2015.0</td><td>44.996152209366933</td><td>14.379929330502144</td><td>0.0056163477545743768</td><td>6.5170279514910998</td><td>--</td><td>--</td><td>--</td><td>--</td><td>--</td><td>--</td><td>0.99220002</td><td>--</td><td>--</td><td>--</td><td>--</td><td>--</td><td>--</td><td>--</td><td>--</td><td>--</td><td>31</td><td>0</td><td>31</td><td>0</td><td>0</td><td>0</td><td>--</td><td>0.89136184437049748</td><td>3.2112361791803297</td><td>False</td><td>1.5695707</td><td>0.56867576</td><td>--</td><td>2</td><td>5</td><td>False</td><td>0.43375897</td><td>0.43249661</td><td>0.54358345</td><td>0.83828545</td><td>-116.46045</td><td>13.97333</td><td>-46.448372</td><td>25.226347</td><td>30</td><td>1567.2551097905996</td><td>5.8560728560710071</td><td>17.53692082768389</td><td>NOT_AVAILABLE</td><td>176.95107160690853</td><td>-48.901522375415745</td><td>42.533723032872217</td><td>-16.329572161037468</td></tr>\n",
       "<tr><td>1635378410781933568</td><td>34359896320</td><td>1010840134</td><td>2015.0</td><td>45.004970066352456</td><td>0.15623072846755337</td><td>0.019874651251498416</td><td>0.52885121949987235</td><td>--</td><td>--</td><td>--</td><td>--</td><td>--</td><td>--</td><td>-0.61935002</td><td>--</td><td>--</td><td>--</td><td>--</td><td>--</td><td>--</td><td>--</td><td>--</td><td>--</td><td>60</td><td>0</td><td>60</td><td>0</td><td>0</td><td>0</td><td>--</td><td>0.49417441313555815</td><td>54.550402895173882</td><td>False</td><td>1.706128</td><td>3.6726799</td><td>--</td><td>2</td><td>8</td><td>False</td><td>0.67304224</td><td>0.18623264</td><td>0.78783804</td><td>0.91073388</td><td>-116.56138</td><td>10.280677</td><td>-44.287266</td><td>28.650621</td><td>68</td><td>40086.238958190377</td><td>27.159845202722678</td><td>14.017281786292781</td><td>NOT_AVAILABLE</td><td>176.94475885355897</td><td>-48.885279591396063</td><td>42.546862210800917</td><td>-16.318524345129177</td></tr>\n",
       "<tr><td>1635378410781933568</td><td>34361129088</td><td>388985243</td><td>2015.0</td><td>45.004312265559328</td><td>0.34781432918086913</td><td>0.021042471450865907</td><td>1.1000950644350347</td><td>--</td><td>--</td><td>--</td><td>--</td><td>--</td><td>--</td><td>-0.66385001</td><td>--</td><td>--</td><td>--</td><td>--</td><td>--</td><td>--</td><td>--</td><td>--</td><td>--</td><td>53</td><td>0</td><td>53</td><td>0</td><td>0</td><td>0</td><td>--</td><td>0.53244056231634018</td><td>1.8034637042289303</td><td>False</td><td>1.1930124</td><td>1.0081722</td><td>--</td><td>2</td><td>8</td><td>False</td><td>0.70151556</td><td>0.32050699</td><td>0.79869306</td><td>0.90236515</td><td>-125.77541</td><td>18.417574</td><td>-42.16853</td><td>28.207079</td><td>52</td><td>1761.8800815465204</td><td>19.831303716830632</td><td>17.409829199358377</td><td>NOT_AVAILABLE</td><td>176.94278585420437</td><td>-48.884943002342659</td><td>42.546563489754284</td><td>-16.317215026257962</td></tr>\n",
       "<tr><td>1635378410781933568</td><td>309238066432</td><td>590730619</td><td>2015.0</td><td>44.995037410057414</td><td>2.1681515359364987</td><td>0.038151966968870271</td><td>1.215308936668632</td><td>--</td><td>--</td><td>--</td><td>--</td><td>--</td><td>--</td><td>-0.7956</td><td>--</td><td>--</td><td>--</td><td>--</td><td>--</td><td>--</td><td>--</td><td>--</td><td>--</td><td>61</td><td>0</td><td>61</td><td>0</td><td>0</td><td>0</td><td>--</td><td>1.5258177714773933</td><td>1.22845670292639</td><td>False</td><td>1.2036664</td><td>0.070923366</td><td>--</td><td>2</td><td>10</td><td>False</td><td>0.29365668</td><td>0.69462836</td><td>0.29740977</td><td>0.89781886</td><td>-119.1077</td><td>21.855402</td><td>-38.366596</td><td>25.310766</td><td>61</td><td>275.45128995046122</td><td>2.733062075693919</td><td>19.424658037505058</td><td>NOT_AVAILABLE</td><td>176.91426544928731</td><td>-48.879746934733355</td><td>42.542548491309226</td><td>-16.298138638762591</td></tr>\n",
       "<tr><td>1635378410781933568</td><td>343597448960</td><td>329156827</td><td>2015.0</td><td>44.963892230513906</td><td>11.881098084030311</td><td>0.043596456958136721</td><td>5.4117480481007245</td><td>--</td><td>--</td><td>--</td><td>--</td><td>--</td><td>--</td><td>-0.99874997</td><td>--</td><td>--</td><td>--</td><td>--</td><td>--</td><td>--</td><td>--</td><td>--</td><td>--</td><td>53</td><td>0</td><td>52</td><td>0</td><td>1</td><td>0</td><td>--</td><td>0.48618768000871554</td><td>0.71946197903391684</td><td>False</td><td>1.0917889</td><td>0.55888712</td><td>--</td><td>2</td><td>9</td><td>False</td><td>0.27639589</td><td>0.65158379</td><td>0.24106677</td><td>0.94592333</td><td>-97.368477</td><td>24.034065</td><td>-32.833885</td><td>27.213011</td><td>53</td><td>1025.7233096094583</td><td>10.073989411681636</td><td>17.997194501364273</td><td>NOT_AVAILABLE</td><td>176.87541844090353</td><td>-48.898381239918464</td><td>42.513188750805412</td><td>-16.283803394252779</td></tr>\n",
       "<tr><td>1635378410781933568</td><td>515396233856</td><td>260581828</td><td>2015.0</td><td>44.998326380657794</td><td>1.9536132180916206</td><td>0.066334635408168044</td><td>1.1121988743923741</td><td>--</td><td>--</td><td>--</td><td>--</td><td>--</td><td>--</td><td>-0.81774998</td><td>--</td><td>--</td><td>--</td><td>--</td><td>--</td><td>--</td><td>--</td><td>--</td><td>--</td><td>52</td><td>0</td><td>52</td><td>0</td><td>0</td><td>0</td><td>--</td><td>0.0</td><td>0.0</td><td>False</td><td>1.0</td><td>0.089112848</td><td>--</td><td>2</td><td>9</td><td>False</td><td>0.21581903</td><td>0.64998794</td><td>0.20400557</td><td>0.88989103</td><td>-94.5951</td><td>19.781263</td><td>-45.181236</td><td>24.463037</td><td>52</td><td>292.29711056214029</td><td>2.3634951443367922</td><td>19.360208758196869</td><td>NOT_AVAILABLE</td><td>176.88690012837574</td><td>-48.857813820845863</td><td>42.554428497847724</td><td>-16.27215703817933</td></tr>\n",
       "<tr><td>1635378410781933568</td><td>549755818112</td><td>278964178</td><td>2015.0</td><td>45.048282032831146</td><td>0.14334569310759751</td><td>0.048258591559421658</td><td>0.15078352124196079</td><td>--</td><td>--</td><td>--</td><td>--</td><td>--</td><td>--</td><td>-0.28029999</td><td>--</td><td>--</td><td>--</td><td>--</td><td>--</td><td>--</td><td>--</td><td>--</td><td>--</td><td>69</td><td>0</td><td>69</td><td>0</td><td>0</td><td>0</td><td>--</td><td>0.57600151719812098</td><td>29.871186333796125</td><td>False</td><td>2.2834213</td><td>2.5091691</td><td>--</td><td>2</td><td>9</td><td>False</td><td>0.57485348</td><td>0.47039524</td><td>0.6185841</td><td>0.91701651</td><td>-125.95466</td><td>21.985344</td><td>-40.709221</td><td>27.246462</td><td>77</td><td>18064.661352813331</td><td>18.664497058329903</td><td>14.882695502523974</td><td>NOT_AVAILABLE</td><td>176.9593602580002</td><td>-48.83439449928693</td><td>42.598674193075496</td><td>-16.304072893936116</td></tr>\n",
       "<tr><td>1635378410781933568</td><td>824633879296</td><td>201645987</td><td>2015.0</td><td>45.023616453966554</td><td>7.686523932335751</td><td>0.068421125189836743</td><td>14.300410796230324</td><td>--</td><td>--</td><td>--</td><td>--</td><td>--</td><td>--</td><td>-0.99919999</td><td>--</td><td>--</td><td>--</td><td>--</td><td>--</td><td>--</td><td>--</td><td>--</td><td>--</td><td>41</td><td>0</td><td>41</td><td>0</td><td>0</td><td>0</td><td>--</td><td>0.38117702814045962</td><td>2.5179645966355331</td><td>False</td><td>1.2335583</td><td>2.4381435</td><td>--</td><td>2</td><td>8</td><td>False</td><td>0.77514589</td><td>0.54717392</td><td>0.8357175</td><td>0.88075393</td><td>-138.44899</td><td>22.225468</td><td>-39.211887</td><td>27.421402</td><td>40</td><td>4228.8389108143701</td><td>8.266022099817981</td><td>16.459217209141229</td><td>NOT_AVAILABLE</td><td>176.91129977139531</td><td>-48.838163573568011</td><td>42.580255141716492</td><td>-16.277570967548215</td></tr>\n",
       "<tr><td>1635378410781933568</td><td>927713095040</td><td>1018609930</td><td>2015.0</td><td>45.02672729705548</td><td>18.851057471221178</td><td>0.081701739994637132</td><td>46.240572039444949</td><td>--</td><td>--</td><td>--</td><td>--</td><td>--</td><td>--</td><td>0.87765002</td><td>--</td><td>--</td><td>--</td><td>--</td><td>--</td><td>--</td><td>--</td><td>--</td><td>--</td><td>35</td><td>0</td><td>35</td><td>0</td><td>0</td><td>0</td><td>--</td><td>0.0</td><td>4.5865336372792082e-16</td><td>False</td><td>1.0</td><td>0.14009042</td><td>--</td><td>2</td><td>7</td><td>False</td><td>0.74246943</td><td>0.47424141</td><td>0.82201833</td><td>0.86047256</td><td>-135.34503</td><td>20.154688</td><td>-40.679493</td><td>27.308582</td><td>35</td><td>327.81592953606156</td><td>4.9183266127380847</td><td>19.235694930370549</td><td>NOT_AVAILABLE</td><td>176.90005881578571</td><td>-48.826704982402269</td><td>42.587405599212623</td><td>-16.265783811911223</td></tr>\n",
       "<tr><td>...</td><td>...</td><td>...</td><td>...</td><td>...</td><td>...</td><td>...</td><td>...</td><td>...</td><td>...</td><td>...</td><td>...</td><td>...</td><td>...</td><td>...</td><td>...</td><td>...</td><td>...</td><td>...</td><td>...</td><td>...</td><td>...</td><td>...</td><td>...</td><td>...</td><td>...</td><td>...</td><td>...</td><td>...</td><td>...</td><td>...</td><td>...</td><td>...</td><td>...</td><td>...</td><td>...</td><td>...</td><td>...</td><td>...</td><td>...</td><td>...</td><td>...</td><td>...</td><td>...</td><td>...</td><td>...</td><td>...</td><td>...</td><td>...</td><td>...</td><td>...</td><td>...</td><td>...</td><td>...</td><td>...</td><td>...</td><td>...</td></tr>\n",
       "<tr><td>1635378410781933568</td><td>7559142613632</td><td>805783675</td><td>2015.0</td><td>45.045507440083576</td><td>64.23562545168312</td><td>0.22953226047452618</td><td>24.140565887386529</td><td>--</td><td>--</td><td>--</td><td>--</td><td>--</td><td>--</td><td>-0.93120003</td><td>--</td><td>--</td><td>--</td><td>--</td><td>--</td><td>--</td><td>--</td><td>--</td><td>--</td><td>44</td><td>0</td><td>44</td><td>0</td><td>0</td><td>0</td><td>--</td><td>0.90170443418626034</td><td>0.55639355300806681</td><td>False</td><td>1.1068484</td><td>0.12743591</td><td>--</td><td>2</td><td>8</td><td>False</td><td>0.17922908</td><td>0.97502077</td><td>0.16552596</td><td>0.90232331</td><td>-146.42915</td><td>23.029112</td><td>-24.625162</td><td>23.076626</td><td>43</td><td>344.48846069183929</td><td>3.3984831326302314</td><td>19.181833366459237</td><td>NOT_AVAILABLE</td><td>176.75857648244909</td><td>-48.710469139417619</td><td>42.651166061921117</td><td>-16.129925384913665</td></tr>\n",
       "<tr><td>1635378410781933568</td><td>7627862074752</td><td>883950605</td><td>2015.0</td><td>45.03433035439128</td><td>0.30598928200282727</td><td>0.23539164875137225</td><td>0.21880220693566088</td><td>6.35295075173405</td><td>0.30791036068520861</td><td>43.75231341609215</td><td>0.070542206426400814</td><td>-7.6419899883511491</td><td>0.087401793345547471</td><td>-0.41497213</td><td>0.1799662</td><td>0.15920649</td><td>-0.085759692</td><td>-0.40733817</td><td>-0.099451326</td><td>0.06065882</td><td>-0.0015767893</td><td>-0.10195717</td><td>0.21467718</td><td>79</td><td>79</td><td>79</td><td>78</td><td>0</td><td>1</td><td>1.9190567</td><td>0.71710100009160027</td><td>412.60597272336872</td><td>True</td><td>2.9360971</td><td>1.8181574</td><td>1.2669624e-05</td><td>3</td><td>9</td><td>False</td><td>0.38234848</td><td>0.53826606</td><td>0.39237851</td><td>0.91630632</td><td>-113.76032</td><td>21.392918</td><td>-41.678398</td><td>26.201841</td><td>77</td><td>10312332.172993332</td><td>10577.365273118843</td><td>7.9913778295058258</td><td>NOT_AVAILABLE</td><td>176.74041338370182</td><td>-48.714421900088148</td><td>42.64182504417002</td><td>-16.121052173353853</td></tr>\n",
       "<tr><td>1635378410781933568</td><td>7834020517760</td><td>620182825</td><td>2015.0</td><td>44.976164977688924</td><td>0.25045896295833414</td><td>0.21728172930522227</td><td>0.15739075973007077</td><td>--</td><td>--</td><td>--</td><td>--</td><td>--</td><td>--</td><td>-0.54519999</td><td>--</td><td>--</td><td>--</td><td>--</td><td>--</td><td>--</td><td>--</td><td>--</td><td>--</td><td>72</td><td>0</td><td>71</td><td>0</td><td>1</td><td>0</td><td>--</td><td>0.3697156656283237</td><td>1.634936672568726</td><td>False</td><td>1.1318821</td><td>1.5466828</td><td>--</td><td>2</td><td>9</td><td>False</td><td>0.37946746</td><td>0.73242164</td><td>0.38129085</td><td>0.9112348</td><td>-131.47333</td><td>22.934044</td><td>-36.931458</td><td>25.306192</td><td>70</td><td>2368.7927285291162</td><td>7.5359307283020156</td><td>17.088452410761171</td><td>NOT_AVAILABLE</td><td>176.69874824602977</td><td>-48.768792658842251</td><td>42.578413123781203</td><td>-16.121340439640161</td></tr>\n",
       "<tr><td>1635378410781933568</td><td>7902739996160</td><td>338184528</td><td>2015.0</td><td>44.966479182980471</td><td>54.649004871686408</td><td>0.22398162428751675</td><td>25.5145001037112</td><td>--</td><td>--</td><td>--</td><td>--</td><td>--</td><td>--</td><td>-0.99124998</td><td>--</td><td>--</td><td>--</td><td>--</td><td>--</td><td>--</td><td>--</td><td>--</td><td>--</td><td>53</td><td>0</td><td>52</td><td>0</td><td>1</td><td>0</td><td>--</td><td>16.231299934232258</td><td>45.377152394230457</td><td>False</td><td>8.6599474</td><td>0.0032139926</td><td>--</td><td>2</td><td>8</td><td>False</td><td>0.6496399</td><td>0.97731215</td><td>0.61788517</td><td>0.91210622</td><td>-152.73636</td><td>24.99992</td><td>-32.466663</td><td>25.163664</td><td>52</td><td>158.76779239190859</td><td>2.5203001751808296</td><td>20.022864048542523</td><td>NOT_AVAILABLE</td><td>176.68121961230523</td><td>-48.771080364002593</td><td>42.570816246308794</td><td>-16.112097250599199</td></tr>\n",
       "<tr><td>1635378410781933568</td><td>8040178924672</td><td>978798713</td><td>2015.0</td><td>44.927662446713931</td><td>0.1222335963841248</td><td>0.21913065324032402</td><td>0.094749649164251049</td><td>--</td><td>--</td><td>--</td><td>--</td><td>--</td><td>--</td><td>-0.33270001</td><td>--</td><td>--</td><td>--</td><td>--</td><td>--</td><td>--</td><td>--</td><td>--</td><td>--</td><td>81</td><td>0</td><td>81</td><td>0</td><td>0</td><td>0</td><td>--</td><td>0.51875373799715718</td><td>30.609650420317575</td><td>False</td><td>1.7458436</td><td>3.0446203</td><td>--</td><td>2</td><td>10</td><td>False</td><td>0.38742378</td><td>0.34980273</td><td>0.41717067</td><td>0.90453702</td><td>-92.415222</td><td>14.906487</td><td>-48.274841</td><td>26.412928</td><td>86</td><td>18975.10630294144</td><td>23.881073234589387</td><td>14.829309519858956</td><td>NOT_AVAILABLE</td><td>176.64546925558417</td><td>-48.80231220617528</td><td>42.530707483352273</td><td>-16.105360657031962</td></tr>\n",
       "<tr><td>1635378410781933568</td><td>8040178948096</td><td>91234372</td><td>2015.0</td><td>44.921047571659422</td><td>0.88124594940835199</td><td>0.21891807311036876</td><td>0.48172225705244742</td><td>--</td><td>--</td><td>--</td><td>--</td><td>--</td><td>--</td><td>-0.85944998</td><td>--</td><td>--</td><td>--</td><td>--</td><td>--</td><td>--</td><td>--</td><td>--</td><td>--</td><td>63</td><td>0</td><td>62</td><td>0</td><td>1</td><td>0</td><td>--</td><td>0.73703245396207206</td><td>1.7913761847449126</td><td>False</td><td>1.1947598</td><td>0.4481355</td><td>--</td><td>2</td><td>10</td><td>False</td><td>0.29679528</td><td>0.70206457</td><td>0.31512174</td><td>0.90070546</td><td>-122.47764</td><td>21.142637</td><td>-39.887154</td><td>24.719925</td><td>61</td><td>963.47484264597801</td><td>3.1066029655388694</td><td>18.06516911572011</td><td>NOT_AVAILABLE</td><td>176.63870361410872</td><td>-48.807205557258321</td><td>42.524060082321469</td><td>-16.103624790495527</td></tr>\n",
       "<tr><td>1635378410781933568</td><td>8040178950144</td><td>915163825</td><td>2015.0</td><td>44.928212467858486</td><td>0.78337058140812121</td><td>0.22750294463478418</td><td>0.43923498426949231</td><td>--</td><td>--</td><td>--</td><td>--</td><td>--</td><td>--</td><td>-0.84855002</td><td>--</td><td>--</td><td>--</td><td>--</td><td>--</td><td>--</td><td>--</td><td>--</td><td>--</td><td>63</td><td>0</td><td>63</td><td>0</td><td>0</td><td>0</td><td>--</td><td>0.98757911652191377</td><td>5.1887536667474805</td><td>False</td><td>1.4936737</td><td>0.49521667</td><td>--</td><td>2</td><td>9</td><td>False</td><td>0.30621642</td><td>0.70610029</td><td>0.32411036</td><td>0.90133435</td><td>-123.86226</td><td>21.332981</td><td>-39.435482</td><td>24.806511</td><td>62</td><td>1523.6696170541497</td><td>4.1980061648608809</td><td>17.567543045027783</td><td>NOT_AVAILABLE</td><td>176.63693316150082</td><td>-48.796084626792656</td><td>42.533809120995407</td><td>-16.097517342845141</td></tr>\n",
       "<tr><td>1635378410781933568</td><td>8143258139648</td><td>462214684</td><td>2015.0</td><td>44.972656161584453</td><td>0.23794261965515809</td><td>0.2378521049173547</td><td>0.1754341778251152</td><td>--</td><td>--</td><td>--</td><td>--</td><td>--</td><td>--</td><td>-0.48554999</td><td>--</td><td>--</td><td>--</td><td>--</td><td>--</td><td>--</td><td>--</td><td>--</td><td>--</td><td>61</td><td>0</td><td>61</td><td>0</td><td>0</td><td>0</td><td>--</td><td>0.73060788355788897</td><td>44.160028894947459</td><td>False</td><td>2.4916503</td><td>1.648882</td><td>--</td><td>2</td><td>7</td><td>False</td><td>0.56019062</td><td>0.68975866</td><td>0.57611763</td><td>0.9062587</td><td>-138.03749</td><td>23.171942</td><td>-37.764725</td><td>25.905552</td><td>58</td><td>16055.062613792836</td><td>15.593454493365289</td><td>15.010740054769116</td><td>NOT_AVAILABLE</td><td>176.67264319764715</td><td>-48.756988326667674</td><td>42.58119243103549</td><td>-16.100644492346841</td></tr>\n",
       "<tr><td>1635378410781933568</td><td>8177618164608</td><td>935229935</td><td>2015.0</td><td>44.952552187995416</td><td>47.428977394547672</td><td>0.2411470067860344</td><td>21.912631860442467</td><td>--</td><td>--</td><td>--</td><td>--</td><td>--</td><td>--</td><td>-0.99965</td><td>--</td><td>--</td><td>--</td><td>--</td><td>--</td><td>--</td><td>--</td><td>--</td><td>--</td><td>53</td><td>0</td><td>52</td><td>0</td><td>1</td><td>0</td><td>--</td><td>1.5212399931665934</td><td>2.9918284360704464</td><td>False</td><td>1.2284441</td><td>0.096775666</td><td>--</td><td>2</td><td>8</td><td>False</td><td>0.34252378</td><td>0.97827452</td><td>0.31603476</td><td>0.91505706</td><td>-151.97112</td><td>23.246798</td><td>-31.352043</td><td>23.330873</td><td>52</td><td>328.70265893170932</td><td>2.8682942097178969</td><td>19.232762020896146</td><td>NOT_AVAILABLE</td><td>176.64781367605605</td><td>-48.769118487020378</td><td>42.562190858660621</td><td>-16.091604966055254</td></tr>\n",
       "<tr><td>1635378410781933568</td><td>8246337381248</td><td>589344551</td><td>2015.0</td><td>44.998577138059026</td><td>0.26684247204382011</td><td>0.2307688915505906</td><td>0.16700276359809443</td><td>--</td><td>--</td><td>--</td><td>--</td><td>--</td><td>--</td><td>-0.54909998</td><td>--</td><td>--</td><td>--</td><td>--</td><td>--</td><td>--</td><td>--</td><td>--</td><td>--</td><td>71</td><td>0</td><td>70</td><td>0</td><td>1</td><td>0</td><td>--</td><td>0.47849841200113974</td><td>2.9955287078763027</td><td>False</td><td>1.2123007</td><td>1.3870915</td><td>--</td><td>2</td><td>9</td><td>False</td><td>0.37156236</td><td>0.72880799</td><td>0.37290302</td><td>0.91018534</td><td>-130.69337</td><td>22.839378</td><td>-37.110554</td><td>25.26746</td><td>68</td><td>2396.5956228658515</td><td>5.7348335893557234</td><td>17.075783159370918</td><td>NOT_AVAILABLE</td><td>176.70772578260733</td><td>-48.743313822235351</td><td>42.60483065453176</td><td>-16.115007770295282</td></tr>\n",
       "</table>"
      ],
      "text/plain": [
       "<Table masked=True length=100>\n",
       "    solution_id       source_id   ...      ecl_lon             ecl_lat      \n",
       "                                  ...        deg                 deg        \n",
       "       int64            int64     ...      float64             float64      \n",
       "------------------- ------------- ... ------------------ -------------------\n",
       "1635378410781933568         65408 ... 42.533723032872217 -16.329572161037468\n",
       "1635378410781933568   34359896320 ... 42.546862210800917 -16.318524345129177\n",
       "1635378410781933568   34361129088 ... 42.546563489754284 -16.317215026257962\n",
       "1635378410781933568  309238066432 ... 42.542548491309226 -16.298138638762591\n",
       "1635378410781933568  343597448960 ... 42.513188750805412 -16.283803394252779\n",
       "1635378410781933568  515396233856 ... 42.554428497847724  -16.27215703817933\n",
       "1635378410781933568  549755818112 ... 42.598674193075496 -16.304072893936116\n",
       "1635378410781933568  824633879296 ... 42.580255141716492 -16.277570967548215\n",
       "1635378410781933568  927713095040 ... 42.587405599212623 -16.265783811911223\n",
       "                ...           ... ...                ...                 ...\n",
       "1635378410781933568 7559142613632 ... 42.651166061921117 -16.129925384913665\n",
       "1635378410781933568 7627862074752 ...  42.64182504417002 -16.121052173353853\n",
       "1635378410781933568 7834020517760 ... 42.578413123781203 -16.121340439640161\n",
       "1635378410781933568 7902739996160 ... 42.570816246308794 -16.112097250599199\n",
       "1635378410781933568 8040178924672 ... 42.530707483352273 -16.105360657031962\n",
       "1635378410781933568 8040178948096 ... 42.524060082321469 -16.103624790495527\n",
       "1635378410781933568 8040178950144 ... 42.533809120995407 -16.097517342845141\n",
       "1635378410781933568 8143258139648 ...  42.58119243103549 -16.100644492346841\n",
       "1635378410781933568 8177618164608 ... 42.562190858660621 -16.091604966055254\n",
       "1635378410781933568 8246337381248 ...  42.60483065453176 -16.115007770295282"
      ]
     },
     "execution_count": 32,
     "metadata": {},
     "output_type": "execute_result"
    }
   ],
   "source": [
    "from astroquery.gaia import Gaia\n",
    "\n",
    "job = Gaia.launch_job_async(\"select top 100 * from gaiadr1.gaia_source order by source_id\")\n",
    "r = job.get_results()\n",
    "r"
   ]
  },
  {
   "cell_type": "markdown",
   "metadata": {
    "slideshow": {
     "slide_type": "slide"
    }
   },
   "source": [
    "## Summary\n",
    "\n",
    "The `astroquery` package provides you with a one-stop-shop for a number of Python modules to access diverse data existing in remote archives. If you need to grab some data from an archive, check the [astroquery documentation](http://astroquery.readthedocs.io/en/latest/index.html) first.\n",
    "\n",
    "`astroquery` is not without it's faults, though:\n",
    "* The API can vary from module to module (though there's an ongoing push to fix that)\n",
    "* The implementation quality of the individual modules is highly variable\n",
    "* The documentation could be better.\n",
    "* It doesn't expose all functionality that is available through web interfaces.\n",
    "\n",
    "All those issues aside, it's still much better than doing the equivalent manually!\n",
    "\n",
    "*** Note: this is an excellent package to begin with, if you want to contribute to open source astronomical software development!***"
   ]
  },
  {
   "cell_type": "markdown",
   "metadata": {},
   "source": [
    "## Homework 5\n",
    "\n",
    "We'll write a small utility to download arbitrarily large pieces of the SDSS catalog.\n",
    "\n",
    "### Part A\n",
    "\n",
    "Using the `astroquery` package, write a utility to run SQL queries on the SDSS database and store the results into a local `sqlite` database file:\n",
    "\n",
    "```bash\n",
    "$ ./query-sdss\n",
    "error: insufficient arguments.\n",
    "\n",
    "usage: ./query-sdss <sql_query> <database_file> <destination_table>\n",
    "```\n",
    "\n",
    "For example, the following invocation:\n",
    "\n",
    "```bash\n",
    "$ ./query-sdss \"SELECT ra, dec FROM Star WHERE (ra BETWEEN 1 AND 2) and (dec BETWEEN 1 and 2)\" stars.db star_sample\n",
    "```\n",
    "\n",
    "should result in a table named `star_sample` in the SQLite database file `stars.db`.\n",
    "\n",
    "### Part B\n",
    "\n",
    "Now extend the utility above to take three more _optional_ arguments: `ra_min`, `ra_max` and `ra_step`:\n",
    "\n",
    "```bash\n",
    "$ ./query-sdss\n",
    "error: insufficient arguments.\n",
    "\n",
    "usage: ./query-sdss <sql_query> <database_file> <destination_table> [ra_min] [ra_max] [ra_step]\n",
    "```\n",
    "\n",
    "If these are given, instead of directly calling `SDSS.query_sql()` with the passed query, make a series of calls, with each downloading one `ra_step`-wide slice of the catalog. You will do that by _rewriting_ the query's WHERE clause to limit it to the `ra_step`-wide range of RAs in each call.\n",
    "\n",
    "For example, given a query:\n",
    "\n",
    "```sql\n",
    "SELECT ra, dec FROM Star WHERE (ra BETWEEN 1 AND 3.5) and (dec BETWEEN 1 and 2)\n",
    "```\n",
    "\n",
    "and ra_min=0, ra_max=4, ra_step=2, your code should transform it to invocations of two queries:\n",
    "\n",
    "```sql\n",
    "SELECT ra, dec FROM Star WHERE ((ra BETWEEN 1 AND 3.5) and (dec BETWEEN 1 and 2)) AND (ra BETWEEN 0 AND 2)\n",
    "SELECT ra, dec FROM Star WHERE ((ra BETWEEN 1 AND 3.5) and (dec BETWEEN 1 and 2)) AND (ra BETWEEN 2 AND 4)\n",
    "```\n",
    "\n",
    "This type of a hack is a common workaround around services that have download limitations. Use it carefully, though, to avoid unnecessarily overloading the SDSS servers.\n",
    "\n",
    "Implementation hints:\n",
    "* When rewriting the query, you may find the `str.split()` function useful. Or the functions in the `regex` module.\n",
    "* Remember that SQL queries are case insensitive (so 'WHERE' and 'where' are equally valid).\n",
    "* Don't forget the parentheses around the original WHERE expression! "
   ]
  },
  {
   "cell_type": "code",
   "execution_count": null,
   "metadata": {
    "collapsed": true
   },
   "outputs": [],
   "source": []
  }
 ],
 "metadata": {
  "celltoolbar": "Slideshow",
  "kernelspec": {
   "display_name": "Python 3",
   "language": "python",
   "name": "python3"
  },
  "language_info": {
   "codemirror_mode": {
    "name": "ipython",
    "version": 3
   },
   "file_extension": ".py",
   "mimetype": "text/x-python",
   "name": "python",
   "nbconvert_exporter": "python",
   "pygments_lexer": "ipython3",
   "version": "3.6.3"
  },
  "livereveal": {
   "scroll": "true",
   "start_slideshow_at": "selected"
  }
 },
 "nbformat": 4,
 "nbformat_minor": 1
}
