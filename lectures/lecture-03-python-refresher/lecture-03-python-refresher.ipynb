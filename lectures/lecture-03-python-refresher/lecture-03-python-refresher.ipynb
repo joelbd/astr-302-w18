{
 "cells": [
  {
   "cell_type": "markdown",
   "metadata": {
    "slideshow": {
     "slide_type": "skip"
    }
   },
   "source": [
    "How to turn this notebook into slides? Run:\n",
    "```\n",
    "$ ipython nbconvert --to slides lecture.ipynb  --post serve\n",
    "```\n",
    "OR (better), install the RISE Jupyter extension:\n",
    "```\n",
    "conda install -c damianavila82 rise\n",
    "```\n",
    "and hit the 'Slideshow' toolbar button."
   ]
  },
  {
   "cell_type": "markdown",
   "metadata": {
    "slideshow": {
     "slide_type": "skip"
    }
   },
   "source": [
    "This notebook uses the [python-markdown](http://jupyter-contrib-nbextensions.readthedocs.io/en/latest/nbextensions/python-markdown/readme.html) extension, allowing it to run code inline with Markdown text.\n",
    "\n",
    "To install this extension, and the [configurator GUI](https://github.com/Jupyter-contrib/jupyter_nbextensions_configurator), while Jupyter is ***not*** running run:\n",
    "```bash\n",
    "conda install -c defaults -c conda-forge jupyter_contrib_nbextensions\n",
    "conda install -c defaults -c conda-forge jupyter_nbextensions_configurator\n",
    "```\n",
    "and then enable python-markdown in the `Nbextensions` tab that will show up next time you start Jupyter."
   ]
  },
  {
   "cell_type": "markdown",
   "metadata": {
    "slideshow": {
     "slide_type": "skip"
    }
   },
   "source": [
    "To have the markup in all cells show up in this notebook, you need to mark it as 'Trusted'. The notebook will be marked as trusted once you re-evaluate all cells."
   ]
  },
  {
   "cell_type": "markdown",
   "metadata": {
    "slideshow": {
     "slide_type": "skip"
    }
   },
   "source": [
    "## Reading for Thursday\n",
    "\n",
    "On Thursday we're going to talk more about Python dicts, list comprehensions, modules and object oriented programming. **Please skim through these in time for the next class** (it should take you ~2-3 hours):\n",
    "\n",
    "* List comprehensions:\n",
    "  * http://www.secnetix.de/olli/Python/list_comprehensions.hawk\n",
    "  * http://www.pythonforbeginners.com/basics/list-comprehensions-in-python\n",
    "  * http://treyhunner.com/2015/12/python-list-comprehensions-now-in-color/\n",
    "  * Learning Python, Chapter 14\n",
    "\n",
    "\n",
    "* Dictionaries:\n",
    "  * https://www.python-course.eu/dictionaries.php\n",
    "  * http://introtopython.org/dictionaries.html\n",
    "  * Learning Python, Chapter 8\n",
    "\n",
    "\n",
    "* Modules:\n",
    "  * https://docs.python.org/3/tutorial/modules.html\n",
    "  * Learning Python, Chapter 22\n",
    "  * Learning Python, Chapter 23 (through \"Module Usage”).\n",
    "\n",
    "\n",
    "* Python Classes/Objects:\n",
    "  * https://jeffknupp.com/blog/2014/06/18/improve-your-python-python-classes-and-object-oriented-programming/ (you can stop at 'Inheritance' for now)\n",
    "  * Learning Python, Chapter 26\n"
   ]
  },
  {
   "cell_type": "markdown",
   "metadata": {
    "slideshow": {
     "slide_type": "skip"
    }
   },
   "source": [
    "Some helper functions to make it easier to show code listings."
   ]
  },
  {
   "cell_type": "code",
   "execution_count": 6,
   "metadata": {
    "collapsed": true,
    "slideshow": {
     "slide_type": "skip"
    }
   },
   "outputs": [],
   "source": [
    "def show_code_listing(fn):\n",
    "    from IPython.display import display, Markdown\n",
    "    return Markdown( '```python\\n{}\\n```'.format(open(fn).read()))\n",
    "\n",
    "def execute_and_show(cmdline):\n",
    "    from IPython.display import display, Markdown\n",
    "    res = ! $cmdline\n",
    "    res = '\\n'.join(['    ' + line for line in res])\n",
    "    print('```bash\\n    ${}\\n{}\\n```'.format(cmdline, res))"
   ]
  },
  {
   "cell_type": "markdown",
   "metadata": {
    "slideshow": {
     "slide_type": "slide"
    },
    "variables": {
     " execute_and_show('./prog3.py 2 x') ": "<pre><code class=\"cm-s-ipython language-bash\">    $./prog3.py 2 x\n    Traceback (most recent call last):\n      File &quot;./prog3.py&quot;, line 6, in &lt;module&gt;\n        b = float(sys.argv[2])\n    ValueError: could not convert string to float: &#39;x&#39;\n</code></pre>\n",
     " execute_and_show('./prog4.py 2 x') ": "<pre><code class=\"cm-s-ipython language-bash\">    $./prog4.py 2 x\n    Error: the second argument must be a number\n\n    Usage: ./prog4.py &lt;arg1&gt; &lt;arg2&gt;\n</code></pre>\n",
     " execute_and_show('./prog4.py 2') ": "<pre><code class=\"cm-s-ipython language-bash\">    $./prog4.py 2\n    Error: two arguments required.\n\n    Usage: ./prog4.py &lt;arg1&gt; &lt;arg2&gt;\n</code></pre>\n"
    }
   },
   "source": [
    "## Problem 4: Making the code user friendly\n",
    "\n",
    "When we enter an argument that's not a number:\n",
    "{{ execute_and_show('./prog3.py 2 x') }}\n",
    "It would be nicer to check for the number and type of arguments, and get a user-friendly error message if either are incorrect:\n",
    "{{ execute_and_show('./prog4.py 2 x') }}\n",
    "{{ execute_and_show('./prog4.py 2') }}"
   ]
  },
  {
   "cell_type": "markdown",
   "metadata": {
    "slideshow": {
     "slide_type": "subslide"
    }
   },
   "source": [
    "## Implementation v1"
   ]
  },
  {
   "cell_type": "code",
   "execution_count": 7,
   "metadata": {
    "scrolled": false,
    "slideshow": {
     "slide_type": "-"
    }
   },
   "outputs": [
    {
     "data": {
      "text/markdown": [
       "```python\n",
       "#!/usr/bin/env python\n",
       "\n",
       "import sys\n",
       "import re\n",
       "\n",
       "isNumber = r'^[1-9][0-9]*\\.?[0-9]*([Ee][+-]?[0-9]+)?$';\n",
       "\n",
       "if len(sys.argv) != 3:\n",
       "    print(\"Error: two arguments required.\")\n",
       "    print(\"\")\n",
       "    print(\"Usage: {} <arg1> <arg2>\".format(sys.argv[0]))\n",
       "    exit(0)\n",
       "\n",
       "if not re.search(isNumber, sys.argv[1]):\n",
       "    print(\"Error: the first argument must be a number\")\n",
       "    print(\"\")\n",
       "    print(\"Usage: {} <arg1> <arg2>\".format(sys.argv[0]))\n",
       "    exit(0)\n",
       "\n",
       "if not re.search(isNumber, sys.argv[2]):\n",
       "    print(\"Error: the second argument must be a number\")\n",
       "    print(\"\")\n",
       "    print(\"Usage: {} <arg1> <arg2>\".format(sys.argv[0]))\n",
       "    exit(0)\n",
       "\n",
       "a = float(sys.argv[1])\n",
       "b = float(sys.argv[2])\n",
       "\n",
       "print (a + b)\n",
       "\n",
       "```"
      ],
      "text/plain": [
       "<IPython.core.display.Markdown object>"
      ]
     },
     "execution_count": 7,
     "metadata": {},
     "output_type": "execute_result"
    }
   ],
   "source": [
    "show_code_listing(\"prog4.py\")"
   ]
  },
  {
   "cell_type": "markdown",
   "metadata": {
    "collapsed": true
   },
   "source": [
    "Discussion:\n",
    "* We encounter our first [flow control](https://docs.python.org/3/tutorial/controlflow.html) statement -- `if`. It allows us to choose which path to take based on the result of evaluating a _condition_.\n",
    "* I checked whether there are two arguments by using the `len()` built-in function that returns the length of the list. Note that the `sys.argv` list includes the name of the program; thus testing for `3` instead of `2`.\n",
    "* I used [Python regular expressions](https://docs.python.org/3.4/library/re.html) to check for the format of each string, before attempting to convert them to a floating point number."
   ]
  },
  {
   "cell_type": "markdown",
   "metadata": {
    "slideshow": {
     "slide_type": "subslide"
    }
   },
   "source": [
    "### Group Work:\n",
    "\n",
    "My implementation above has lots of repetition (e.g., the same usage string is printed out three times). We know that functions are a way to avoid excessive repetition. Python functions have the following form:\n",
    "\n",
    "```python\n",
    "def func_name(a, b, c, d):\n",
    "    ... function body ...\n",
    "    return some_value\n",
    "```\n",
    "\n",
    "Let's change my implementation so it minimizes repetition by using functions. Identify repetitive parts and [refactor](https://en.wikipedia.org/wiki/Code_refactoring) them into functions."
   ]
  },
  {
   "cell_type": "markdown",
   "metadata": {
    "slideshow": {
     "slide_type": "subslide"
    }
   },
   "source": [
    "## Implementation v2"
   ]
  },
  {
   "cell_type": "code",
   "execution_count": 8,
   "metadata": {
    "scrolled": false
   },
   "outputs": [
    {
     "data": {
      "text/markdown": [
       "```python\n",
       "#!/usr/bin/env python\n",
       "\n",
       "import sys\n",
       "import re\n",
       "\n",
       "def exit_with_usage():\n",
       "    \"\"\" Prints a usage message and exits the program. \"\"\"\n",
       "    print(\"\")\n",
       "    print(\"Usage: {} <arg1> <arg2>\".format(sys.argv[0]))\n",
       "    exit(0)\n",
       "\n",
       "def number_or_exit(s, msg):\n",
       "    \"\"\" Test if argument s is a number, abort execution otherwise. \"\"\"\n",
       "    isNumber = r'^[1-9][0-9]*\\.?[0-9]*([Ee][+-]?[0-9]+)?$';\n",
       "\n",
       "    if not re.search(isNumber, s):\n",
       "        print(\"Error: the {} argument must be a number\".format(msg))\n",
       "        exit_with_usage()\n",
       "\n",
       "#### The main program begins here\n",
       "\n",
       "if len(sys.argv) != 3:\n",
       "    print(\"Error: two arguments required.\")\n",
       "    exit_with_usage()\n",
       "\n",
       "number_or_exit(sys.argv[1], 'first')\n",
       "number_or_exit(sys.argv[2], 'second')\n",
       "\n",
       "a = float(sys.argv[1])\n",
       "b = float(sys.argv[2])\n",
       "\n",
       "print (a + b)\n",
       "\n",
       "```"
      ],
      "text/plain": [
       "<IPython.core.display.Markdown object>"
      ]
     },
     "execution_count": 8,
     "metadata": {},
     "output_type": "execute_result"
    }
   ],
   "source": [
    "show_code_listing(\"prog5.py\")"
   ]
  },
  {
   "cell_type": "markdown",
   "metadata": {
    "slideshow": {
     "slide_type": "subslide"
    }
   },
   "source": [
    "## Problem 5: A Better Way to Deal with Errors -- Exceptions\n",
    "\n",
    "Note how most of our code now is just error checking and handling. The actual purpose of our code is completely hidden by all the error checking code!\n",
    "\n",
    "This doesn't have to be the case. In Python, it is possible to elegantly separate the error checking code from the main algorithm through the use of [exceptions](https://docs.python.org/3/tutorial/errors.html#exceptions). The big idea is that code can _raise an exception_ when some assumption or rule is violated.\n",
    "\n",
    "Example:"
   ]
  },
  {
   "cell_type": "code",
   "execution_count": 9,
   "metadata": {},
   "outputs": [
    {
     "name": "stdout",
     "output_type": "stream",
     "text": [
      "Division result: 0\n"
     ]
    },
    {
     "ename": "ZeroDivisionError",
     "evalue": "Trying to divide by zero!",
     "output_type": "error",
     "traceback": [
      "\u001b[0;31m---------------------------------------------------------------------------\u001b[0m",
      "\u001b[0;31mZeroDivisionError\u001b[0m                         Traceback (most recent call last)",
      "\u001b[0;32m<ipython-input-9-fbdaf2f48658>\u001b[0m in \u001b[0;36m<module>\u001b[0;34m()\u001b[0m\n\u001b[1;32m      6\u001b[0m \u001b[0;34m\u001b[0m\u001b[0m\n\u001b[1;32m      7\u001b[0m \u001b[0;32mprint\u001b[0m\u001b[0;34m(\u001b[0m\u001b[0;34m\"Division result: {}\"\u001b[0m\u001b[0;34m.\u001b[0m\u001b[0mformat\u001b[0m\u001b[0;34m(\u001b[0m\u001b[0mdiv\u001b[0m\u001b[0;34m(\u001b[0m\u001b[0;36m1\u001b[0m\u001b[0;34m,\u001b[0m \u001b[0;36m2\u001b[0m\u001b[0;34m)\u001b[0m\u001b[0;34m)\u001b[0m\u001b[0;34m)\u001b[0m\u001b[0;34m\u001b[0m\u001b[0m\n\u001b[0;32m----> 8\u001b[0;31m \u001b[0;32mprint\u001b[0m\u001b[0;34m(\u001b[0m\u001b[0;34m\"Division result: {}\"\u001b[0m\u001b[0;34m.\u001b[0m\u001b[0mformat\u001b[0m\u001b[0;34m(\u001b[0m\u001b[0mdiv\u001b[0m\u001b[0;34m(\u001b[0m\u001b[0;36m1\u001b[0m\u001b[0;34m,\u001b[0m \u001b[0;36m0\u001b[0m\u001b[0;34m)\u001b[0m\u001b[0;34m)\u001b[0m\u001b[0;34m)\u001b[0m\u001b[0;34m\u001b[0m\u001b[0m\n\u001b[0m",
      "\u001b[0;32m<ipython-input-9-fbdaf2f48658>\u001b[0m in \u001b[0;36mdiv\u001b[0;34m(a, b)\u001b[0m\n\u001b[1;32m      1\u001b[0m \u001b[0;32mdef\u001b[0m \u001b[0mdiv\u001b[0m\u001b[0;34m(\u001b[0m\u001b[0ma\u001b[0m\u001b[0;34m,\u001b[0m \u001b[0mb\u001b[0m\u001b[0;34m)\u001b[0m\u001b[0;34m:\u001b[0m\u001b[0;34m\u001b[0m\u001b[0m\n\u001b[1;32m      2\u001b[0m     \u001b[0;32mif\u001b[0m \u001b[0mb\u001b[0m \u001b[0;34m==\u001b[0m \u001b[0;36m0\u001b[0m\u001b[0;34m:\u001b[0m\u001b[0;34m\u001b[0m\u001b[0m\n\u001b[0;32m----> 3\u001b[0;31m         \u001b[0;32mraise\u001b[0m \u001b[0mZeroDivisionError\u001b[0m\u001b[0;34m(\u001b[0m\u001b[0;34m\"Trying to divide by zero!\"\u001b[0m\u001b[0;34m)\u001b[0m\u001b[0;34m\u001b[0m\u001b[0m\n\u001b[0m\u001b[1;32m      4\u001b[0m \u001b[0;34m\u001b[0m\u001b[0m\n\u001b[1;32m      5\u001b[0m     \u001b[0;32mreturn\u001b[0m \u001b[0ma\u001b[0m \u001b[0;34m/\u001b[0m \u001b[0mb\u001b[0m\u001b[0;34m\u001b[0m\u001b[0m\n",
      "\u001b[0;31mZeroDivisionError\u001b[0m: Trying to divide by zero!"
     ]
    }
   ],
   "source": [
    "def div(a, b):\n",
    "    if b == 0:\n",
    "        raise ZeroDivisionError(\"Trying to divide by zero!\")\n",
    "\n",
    "    return a / b\n",
    "\n",
    "print(\"Division result: {}\".format(div(1, 2)))\n",
    "print(\"Division result: {}\".format(div(1, 0)))"
   ]
  },
  {
   "cell_type": "markdown",
   "metadata": {
    "variables": {
     " execute_and_show('./prog3.py 2 x') ": "<pre><code class=\"cm-s-ipython language-bash\">    $./prog3.py 2 x\n    Traceback (most recent call last):\n      File &quot;./prog3.py&quot;, line 6, in &lt;module&gt;\n        b = float(sys.argv[2])\n    ValueError: could not convert string to float: &#39;x&#39;\n</code></pre>\n"
    }
   },
   "source": [
    "When an exception is raised, Python stops executing the program and returns immediately from the called function. If an exception is not _caught_, it will interupt the program and print out a _stack trace_ (the output above) that gives you an idea of where an exception occured.\n",
    "\n",
    "You've encountered this already:\n",
    "{{ execute_and_show('./prog3.py 2 x') }}\n",
    "The output above is the result of an _uncaught exception_.\n",
    "\n",
    "The idea is that you can \"catch\" these exceptions, and handle the error condition gracefully (i.e., by writing out a nice error message). This is accomplished through the use of a \"`try ... except`\" clause:"
   ]
  },
  {
   "cell_type": "code",
   "execution_count": 10,
   "metadata": {},
   "outputs": [
    {
     "name": "stdout",
     "output_type": "stream",
     "text": [
      "Division result: 0\n",
      "Trying to divide by zero!\n",
      "I'm not dead!\n"
     ]
    }
   ],
   "source": [
    "def div(a, b):\n",
    "    if b == 0:\n",
    "        raise ZeroDivisionError(\"Trying to divide by zero!\")\n",
    "\n",
    "    return a / b\n",
    "\n",
    "try:\n",
    "    print(\"Division result: {}\".format(div(1, 2)))\n",
    "    print(\"Division result: {}\".format(div(1, 0)))\n",
    "    print(\"Division result: {}\".format(div(1, 3)))\n",
    "except ZeroDivisionError as err:\n",
    "    print(err)\n",
    "    \n",
    "print(\"I'm not dead!\")"
   ]
  },
  {
   "cell_type": "markdown",
   "metadata": {},
   "source": [
    "What's happened:\n",
    "* We've now wrapped our calls to `div()` in a `try...except` block.\n",
    "* When an exception was raised, the program immediately jumped to the first `except` block that matched the type of the raised exception. We say that an exception has been _handled_.\n",
    "* After that, execution continued (note how it printed the message about not being dead)\n",
    "* Finally, note how `div(1, 3)` line has not been invoked -- because an exception has been raised, the execution continued in the `except` block. Python does not \"go back\" after handling the exception!"
   ]
  },
  {
   "cell_type": "markdown",
   "metadata": {},
   "source": [
    "### Exceptions are the \"Pythonic Way\"\n",
    "\n",
    "This is the preferred way to signal and check for errors in Python. Virtually all errors (\"exceptional situations\") are reported by raising an exception.\n",
    "\n",
    "Actually, we didn't need to explicitly check for `b=0` -- Python itself raises an exception if we try to divide by zero:"
   ]
  },
  {
   "cell_type": "code",
   "execution_count": 11,
   "metadata": {},
   "outputs": [
    {
     "ename": "ZeroDivisionError",
     "evalue": "integer division or modulo by zero",
     "output_type": "error",
     "traceback": [
      "\u001b[0;31m---------------------------------------------------------------------------\u001b[0m",
      "\u001b[0;31mZeroDivisionError\u001b[0m                         Traceback (most recent call last)",
      "\u001b[0;32m<ipython-input-11-b710d87c980c>\u001b[0m in \u001b[0;36m<module>\u001b[0;34m()\u001b[0m\n\u001b[0;32m----> 1\u001b[0;31m \u001b[0;36m1\u001b[0m \u001b[0;34m/\u001b[0m \u001b[0;36m0\u001b[0m\u001b[0;34m\u001b[0m\u001b[0m\n\u001b[0m",
      "\u001b[0;31mZeroDivisionError\u001b[0m: integer division or modulo by zero"
     ]
    }
   ],
   "source": [
    "1 / 0"
   ]
  },
  {
   "cell_type": "markdown",
   "metadata": {},
   "source": [
    "or another example, indexing past the end of a list:"
   ]
  },
  {
   "cell_type": "code",
   "execution_count": 12,
   "metadata": {},
   "outputs": [
    {
     "ename": "IndexError",
     "evalue": "list index out of range",
     "output_type": "error",
     "traceback": [
      "\u001b[0;31m---------------------------------------------------------------------------\u001b[0m",
      "\u001b[0;31mIndexError\u001b[0m                                Traceback (most recent call last)",
      "\u001b[0;32m<ipython-input-12-efde83a4e591>\u001b[0m in \u001b[0;36m<module>\u001b[0;34m()\u001b[0m\n\u001b[1;32m      1\u001b[0m \u001b[0ma\u001b[0m \u001b[0;34m=\u001b[0m \u001b[0;34m[\u001b[0m\u001b[0;34m\"a\"\u001b[0m\u001b[0;34m,\u001b[0m \u001b[0;34m\"b\"\u001b[0m\u001b[0;34m,\u001b[0m \u001b[0;34m\"c\"\u001b[0m\u001b[0;34m]\u001b[0m\u001b[0;34m\u001b[0m\u001b[0m\n\u001b[0;32m----> 2\u001b[0;31m \u001b[0ma\u001b[0m\u001b[0;34m[\u001b[0m\u001b[0;36m4\u001b[0m\u001b[0;34m]\u001b[0m\u001b[0;34m\u001b[0m\u001b[0m\n\u001b[0m",
      "\u001b[0;31mIndexError\u001b[0m: list index out of range"
     ]
    }
   ],
   "source": [
    "a = [\"a\", \"b\", \"c\"]\n",
    "a[4]"
   ]
  },
  {
   "cell_type": "markdown",
   "metadata": {},
   "source": [
    "We can have multiple `except` blocks, to handle different kinds of exceptions:"
   ]
  },
  {
   "cell_type": "code",
   "execution_count": 13,
   "metadata": {},
   "outputs": [
    {
     "name": "stdout",
     "output_type": "stream",
     "text": [
      "list index out of range\n",
      "moving on!\n"
     ]
    }
   ],
   "source": [
    "arr = [0, 1, 2, 3]\n",
    "i, j = 1, 5\n",
    "try:\n",
    "\n",
    "    print(arr[i] / arr[j])\n",
    "\n",
    "except ZeroDivisionError as err:\n",
    "    print(err)\n",
    "except IndexError as err:\n",
    "    print(err)\n",
    "    \n",
    "print(\"moving on!\")"
   ]
  },
  {
   "cell_type": "markdown",
   "metadata": {},
   "source": [
    "Compare that to:"
   ]
  },
  {
   "cell_type": "code",
   "execution_count": 14,
   "metadata": {},
   "outputs": [
    {
     "name": "stdout",
     "output_type": "stream",
     "text": [
      "list index out of range\n",
      "moving on!\n"
     ]
    }
   ],
   "source": [
    "arr = [0, 1, 2, 3]\n",
    "i, j = 1, 5\n",
    "\n",
    "if i < 0 or i >= len(arr) or j < 0 or j >= len(arr):\n",
    "    print(\"list index out of range\")\n",
    "elif arr[j] == 0:\n",
    "    print(\"division by zero\")\n",
    "else:\n",
    "    print(arr[i] / arr[j])\n",
    "\n",
    "print(\"moving on!\")"
   ]
  },
  {
   "cell_type": "markdown",
   "metadata": {},
   "source": [
    "Note:\n",
    "* The code using exceptions is _cleaner_ -- it neatly separates the part that does work (divides two numbers) from the part that handles exceptional situations.\n",
    "* The code using exceptions is _shorter_ -- shorter coe, fewer bugs.\n",
    "* The philosophical approach to errors is fundamentally different:\n",
    "  1. the implementation with `if` statements tries to _avoid_ even trying to break the rules (dividing by zero, indexing out of bounds, ...)\n",
    "  1. the implementation with exceptions detects when the rules were attempted to be broken and reacts to that situation."
   ]
  },
  {
   "cell_type": "markdown",
   "metadata": {},
   "source": [
    "## It's Easier to Ask for Forgiveness than Permission\n",
    "\n",
    "What we've done above is an example of the [***EAFP***](https://docs.python.org/3.6/glossary.html) coding style:\n",
    "\n",
    ">   It's **E**asier to **A**sk for **F**orgiveness, than **P**ermission.\n",
    ">\n",
    "\n",
    "that is core to well-written, readable, Python code."
   ]
  },
  {
   "cell_type": "markdown",
   "metadata": {},
   "source": [
    "How do you know what exceptions you could (should) be catching?\n",
    "* The documentation of (typically) tells you which exceptions any given function may raise.\n",
    "* Look at Python's [list of built-in exceptions](https://docs.python.org/3/library/exceptions.html)\n",
    "* Try it!"
   ]
  },
  {
   "cell_type": "markdown",
   "metadata": {},
   "source": [
    "## Group Work\n",
    "\n",
    "Now back to our program: let's change it so that instead of the many if statements, we use exceptions."
   ]
  },
  {
   "cell_type": "markdown",
   "metadata": {
    "slideshow": {
     "slide_type": "subslide"
    }
   },
   "source": [
    "## Implementation"
   ]
  },
  {
   "cell_type": "code",
   "execution_count": 15,
   "metadata": {},
   "outputs": [
    {
     "ename": "IOError",
     "evalue": "[Errno 2] No such file or directory: 'prog8.py'",
     "output_type": "error",
     "traceback": [
      "\u001b[0;31m---------------------------------------------------------------------------\u001b[0m",
      "\u001b[0;31mIOError\u001b[0m                                   Traceback (most recent call last)",
      "\u001b[0;32m<ipython-input-15-496b204d9aa3>\u001b[0m in \u001b[0;36m<module>\u001b[0;34m()\u001b[0m\n\u001b[0;32m----> 1\u001b[0;31m \u001b[0mshow_code_listing\u001b[0m\u001b[0;34m(\u001b[0m\u001b[0;34m\"prog8.py\"\u001b[0m\u001b[0;34m)\u001b[0m\u001b[0;34m\u001b[0m\u001b[0m\n\u001b[0m",
      "\u001b[0;32m<ipython-input-6-f0bade44ca9c>\u001b[0m in \u001b[0;36mshow_code_listing\u001b[0;34m(fn)\u001b[0m\n\u001b[1;32m      1\u001b[0m \u001b[0;32mdef\u001b[0m \u001b[0mshow_code_listing\u001b[0m\u001b[0;34m(\u001b[0m\u001b[0mfn\u001b[0m\u001b[0;34m)\u001b[0m\u001b[0;34m:\u001b[0m\u001b[0;34m\u001b[0m\u001b[0m\n\u001b[1;32m      2\u001b[0m     \u001b[0;32mfrom\u001b[0m \u001b[0mIPython\u001b[0m\u001b[0;34m.\u001b[0m\u001b[0mdisplay\u001b[0m \u001b[0;32mimport\u001b[0m \u001b[0mdisplay\u001b[0m\u001b[0;34m,\u001b[0m \u001b[0mMarkdown\u001b[0m\u001b[0;34m\u001b[0m\u001b[0m\n\u001b[0;32m----> 3\u001b[0;31m     \u001b[0;32mreturn\u001b[0m \u001b[0mMarkdown\u001b[0m\u001b[0;34m(\u001b[0m \u001b[0;34m'```python\\n{}\\n```'\u001b[0m\u001b[0;34m.\u001b[0m\u001b[0mformat\u001b[0m\u001b[0;34m(\u001b[0m\u001b[0mopen\u001b[0m\u001b[0;34m(\u001b[0m\u001b[0mfn\u001b[0m\u001b[0;34m)\u001b[0m\u001b[0;34m.\u001b[0m\u001b[0mread\u001b[0m\u001b[0;34m(\u001b[0m\u001b[0;34m)\u001b[0m\u001b[0;34m)\u001b[0m\u001b[0;34m)\u001b[0m\u001b[0;34m\u001b[0m\u001b[0m\n\u001b[0m\u001b[1;32m      4\u001b[0m \u001b[0;34m\u001b[0m\u001b[0m\n\u001b[1;32m      5\u001b[0m \u001b[0;32mdef\u001b[0m \u001b[0mexecute_and_show\u001b[0m\u001b[0;34m(\u001b[0m\u001b[0mcmdline\u001b[0m\u001b[0;34m)\u001b[0m\u001b[0;34m:\u001b[0m\u001b[0;34m\u001b[0m\u001b[0m\n",
      "\u001b[0;31mIOError\u001b[0m: [Errno 2] No such file or directory: 'prog8.py'"
     ]
    }
   ],
   "source": [
    "show_code_listing(\"prog8.py\")"
   ]
  },
  {
   "cell_type": "markdown",
   "metadata": {
    "slideshow": {
     "slide_type": "subslide"
    }
   },
   "source": [
    "Discusion:\n",
    "* This is _much_ cleaner now! Just a quick glance gives you an idea what this code does!\n",
    "* Exceptions are \"caught\" in a [`try-except` block](https://docs.python.org/3/tutorial/errors.html#handling-exceptions).\n",
    "* There was no need for the `number_or_exit()` function any more, or the messy loop, etc.!\n",
    "* The code is now much more [_Pythonic_](http://docs.python-guide.org/en/latest/writing/style/)."
   ]
  },
  {
   "cell_type": "markdown",
   "metadata": {},
   "source": [
    "Remember:\n",
    "\n",
    ">   It's **E**asier to **A**sk for **F**orgiveness, than **P**ermission.\n",
    ">\n",
    "\n",
    "This is the Pythonic Way!"
   ]
  },
  {
   "cell_type": "markdown",
   "metadata": {
    "slideshow": {
     "slide_type": "slide"
    },
    "variables": {
     " execute_and_show('./prog9.py 1.5 2.5 3.5 4.5') ": "<pre><code class=\"cm-s-ipython language-bash\">    $./prog9.py 1.5 2.5 3.5 4.5\n    59.0625\n</code></pre>\n"
    }
   },
   "source": [
    "## Problem 6: Product of all arguments\n",
    "\n",
    "Now let's extend the program to compute the _product_ of all arguments given on the command line. Example:\n",
    "{{ execute_and_show('./prog9.py 1.5 2.5 3.5 4.5') }}"
   ]
  },
  {
   "cell_type": "markdown",
   "metadata": {
    "slideshow": {
     "slide_type": "subslide"
    }
   },
   "source": [
    "## Implementation"
   ]
  },
  {
   "cell_type": "code",
   "execution_count": 16,
   "metadata": {},
   "outputs": [
    {
     "data": {
      "text/markdown": [
       "```python\n",
       "#!/usr/bin/env python\n",
       "\n",
       "import sys\n",
       "\n",
       "def exit_with_msg(msg):\n",
       "    \"\"\" Prints a usage message and exits the program. \"\"\"\n",
       "    print(\"{}\\n\\nUsage: {} <arg1> <arg2>\".format(msg, sys.argv[0]))\n",
       "    exit(0)\n",
       "\n",
       "#### The main program begins here\n",
       "\n",
       "try:\n",
       "    prod = 1\n",
       "    for arg in sys.argv[1:]:\n",
       "        prod *= float(arg)\n",
       "    print(prod)\n",
       "except ValueError as e:\n",
       "    exit_with_msg(\"Error: {}. All arguments must be numbers.\".format(e))\n",
       "\n",
       "```"
      ],
      "text/plain": [
       "<IPython.core.display.Markdown object>"
      ]
     },
     "execution_count": 16,
     "metadata": {},
     "output_type": "execute_result"
    }
   ],
   "source": [
    "show_code_listing(\"prog9.py\")"
   ]
  },
  {
   "cell_type": "markdown",
   "metadata": {},
   "source": [
    "Discusion:\n",
    "* The change was pretty straightforward; just a `for`-loop over all arguments\n",
    "* No need to catch the `IndexError` exception any more"
   ]
  },
  {
   "cell_type": "markdown",
   "metadata": {
    "slideshow": {
     "slide_type": "subslide"
    }
   },
   "source": [
    "## Implementation v2\n",
    "\n",
    "Let's take a slightly different approach. Note we can view this as a two-part problem:\n",
    "\n",
    "1. Converting the list of command line arguments from strings to floats\n",
    "1. Summing up the resulting list.\n",
    "\n",
    "So another solution could be:"
   ]
  },
  {
   "cell_type": "code",
   "execution_count": 17,
   "metadata": {},
   "outputs": [
    {
     "data": {
      "text/markdown": [
       "```python\n",
       "#!/usr/bin/env python\n",
       "\n",
       "import sys\n",
       "\n",
       "def exit_with_msg(msg):\n",
       "    \"\"\" Prints a usage message and exits the program. \"\"\"\n",
       "    print(\"{}\\n\\nUsage: {} <arg1> <arg2>\".format(msg, sys.argv[0]))\n",
       "    exit(0)\n",
       "\n",
       "def to_floats(lst):\n",
       "    \"\"\" Returns a list of strings corresponding to a list of floats \"\"\"\n",
       "    vals = []\n",
       "    for arg in lst:\n",
       "        vals.append( float(arg) )\n",
       "    return vals\n",
       "\n",
       "def prod(lst):\n",
       "    \"\"\" Computes and returns the product of a list \"\"\"\n",
       "    res = 1.\n",
       "    for x in lst: res *= x\n",
       "    return res\n",
       "\n",
       "#### The main program begins here\n",
       "\n",
       "try:\n",
       "    float_list = to_floats( sys.argv[1:] )\n",
       "    print ( prod( float_list ) )\n",
       "except ValueError as e:\n",
       "    exit_with_msg(\"Error: {}. All arguments must be numbers.\".format(e))\n",
       "\n",
       "```"
      ],
      "text/plain": [
       "<IPython.core.display.Markdown object>"
      ]
     },
     "execution_count": 17,
     "metadata": {},
     "output_type": "execute_result"
    }
   ],
   "source": [
    "show_code_listing(\"prog10.py\")"
   ]
  },
  {
   "cell_type": "markdown",
   "metadata": {},
   "source": [
    "Discusion:\n",
    "* We've created two functions: `to_floats`, to solve the conversion, and `prod`, to compute the product.\n",
    "* In `to_floats()`, we used the `append` function to add new items to the list.\n",
    "* In many ways, this code is _worse_ than the implementation we've had before (longer, likely a bit slower), but it lets us illustrate..."
   ]
  },
  {
   "cell_type": "markdown",
   "metadata": {},
   "source": [
    "## List Comprehensions\n",
    "\n",
    "Converting the list of command line arguments from strings to floats is example of a _transformation_: take one list, apply some operatio to each elements (potentially including filtering), and return a new list.\n",
    "\n",
    "Python has a very succint and efficient construct for writing out such transformations: _list comprehensions_.\n",
    "\n",
    "These are best understood by looking at a few examples:"
   ]
  },
  {
   "cell_type": "code",
   "execution_count": 18,
   "metadata": {},
   "outputs": [
    {
     "name": "stdout",
     "output_type": "stream",
     "text": [
      "Input list: [0, 1, 2, 3, 4, 5, 6, 7, 8, 9, 10]\n",
      "Squares of all elements: [0, 1, 4, 9, 16, 25, 36, 49, 64, 81, 100]\n",
      "Odd elements: [1, 3, 5, 7, 9]\n",
      "Squares of even elements: [0, 4, 16, 36, 64, 100]\n"
     ]
    }
   ],
   "source": [
    "lst = [0, 1, 2, 3, 4, 5, 6, 7, 8, 9, 10]\n",
    "print(\"Input list: %s\" % lst)\n",
    "\n",
    "squares = [ x**2 for x in lst ]\n",
    "print(\"Squares of all elements: %s\" % squares)\n",
    "\n",
    "odd = [ x for x in lst if x % 2 == 1]\n",
    "print(\"Odd elements: %s\" % odd)\n",
    "\n",
    "even_squares = [ x**2 for x in lst if x % 2 == 0 ]\n",
    "print(\"Squares of even elements: %s\" % even_squares)"
   ]
  },
  {
   "cell_type": "markdown",
   "metadata": {},
   "source": [
    "### Group Work\n",
    "\n",
    "Let us now rewrite our example (just the `to_floats` function) to use a comprehension instead."
   ]
  },
  {
   "cell_type": "markdown",
   "metadata": {
    "slideshow": {
     "slide_type": "subslide"
    }
   },
   "source": [
    "## Implementation v3"
   ]
  },
  {
   "cell_type": "code",
   "execution_count": 19,
   "metadata": {
    "scrolled": false
   },
   "outputs": [
    {
     "data": {
      "text/markdown": [
       "```python\n",
       "#!/usr/bin/env python\n",
       "\n",
       "import sys\n",
       "\n",
       "def exit_with_msg(msg):\n",
       "    \"\"\" Prints a usage message and exits the program. \"\"\"\n",
       "    print(\"{}\\n\\nUsage: {} <arg1> <arg2>\".format(msg, sys.argv[0]))\n",
       "    exit(0)\n",
       "\n",
       "def to_floats(lst):\n",
       "    \"\"\" Returns a list of strings corresponding to a list of floats \"\"\"\n",
       "    return [ float(arg) for arg in lst ]\n",
       "\n",
       "def prod(lst):\n",
       "    \"\"\" Computes and returns the product of a list \"\"\"\n",
       "    res = 1.\n",
       "    for x in lst: res *= x\n",
       "    return res\n",
       "\n",
       "#### The main program begins here\n",
       "\n",
       "try:\n",
       "    float_list = to_floats( sys.argv[1:] )\n",
       "    print ( prod( float_list ) )\n",
       "except ValueError as e:\n",
       "    exit_with_msg(\"Error: {}. All arguments must be numbers.\".format(e))\n",
       "\n",
       "```"
      ],
      "text/plain": [
       "<IPython.core.display.Markdown object>"
      ]
     },
     "execution_count": 19,
     "metadata": {},
     "output_type": "execute_result"
    }
   ],
   "source": [
    "show_code_listing(\"prog11.py\")"
   ]
  },
  {
   "cell_type": "markdown",
   "metadata": {},
   "source": [
    "Note:\n",
    "* Comprehensions are a concept Python adopted from [functional programming](https://en.wikipedia.org/wiki/Functional_programming) languages."
   ]
  },
  {
   "cell_type": "markdown",
   "metadata": {
    "variables": {
     "execute_and_show('cat ./mjutils.py')": "<pre><code class=\"cm-s-ipython language-bash\">    $cat ./mjutils.py\n    &quot;&quot;&quot;\n    My first module with functions that I find useful.\n    &quot;&quot;&quot;\n\n    def add(a, b):\n        &quot;&quot;&quot; Adds two numbers, a + b &quot;&quot;&quot;\n        return a + b\n\n    def sub(a, b):\n        &quot;&quot;&quot; Subtracts two numbers, a - b &quot;&quot;&quot;\n        return a - b\n</code></pre>\n"
    }
   },
   "source": [
    "## Introducing Modules\n",
    "\n",
    "(paraphrasing from https://docs.python.org/3/tutorial/modules.html):\n",
    "\n",
    "As your program gets longer, you may want to split it into several files for easier maintenance. You may also want to use a handy function that you’ve written in several programs without copying its definition into each program.\n",
    "\n",
    "To support this, Python has a way to put definitions in a file and use them in a script or in an interactive session. Such a file is called a **module**; definitions from a module can be **imported** into other modules or into the main program.\n",
    "\n",
    "For example, if I have a file named `mjutils.py`, {{execute_and_show('cat ./mjutils.py')}}, I could use in another Python program (or in a Jupyter notebook) as:\n",
    "```python\n",
    "import mjutils\n",
    "mjutils.add(3, 4)\n",
    "```"
   ]
  },
  {
   "cell_type": "markdown",
   "metadata": {
    "slideshow": {
     "slide_type": "slide"
    }
   },
   "source": [
    "## Problem 8: Let's Make our Program a Module\n",
    "\n",
    "The two functions we've written -- `to_float` and `prod` -- seem to be generally useful. For example, if we write a utility that _sums_ the list of numbers given to it on the command line, we'll still want to use something like `to_float` to convert from string to floats.\n",
    "\n",
    "### Group Work\n",
    "\n",
    "So let's split off these two functions into their own module, named 'utils'. Then our program will look like:"
   ]
  },
  {
   "cell_type": "code",
   "execution_count": 20,
   "metadata": {},
   "outputs": [
    {
     "data": {
      "text/markdown": [
       "```python\n",
       "#!/usr/bin/env python\n",
       "\n",
       "import sys\n",
       "import utils\n",
       "\n",
       "def exit_with_msg(msg):\n",
       "    \"\"\" Prints a usage message and exits the program. \"\"\"\n",
       "    print(\"{}\\n\\nUsage: {} <arg1> <arg2>\".format(msg, sys.argv[0]))\n",
       "    exit(0)\n",
       "\n",
       "#### The main program begins here\n",
       "\n",
       "try:\n",
       "    float_list = utils.to_floats( sys.argv[1:] )\n",
       "    print ( utils.prod( float_list ) )\n",
       "except ValueError as e:\n",
       "    exit_with_msg(\"Error: {}. All arguments must be numbers.\".format(e))\n",
       "\n",
       "```"
      ],
      "text/plain": [
       "<IPython.core.display.Markdown object>"
      ]
     },
     "execution_count": 20,
     "metadata": {},
     "output_type": "execute_result"
    }
   ],
   "source": [
    "show_code_listing(\"prog12.py\")"
   ]
  },
  {
   "cell_type": "markdown",
   "metadata": {
    "slideshow": {
     "slide_type": "subslide"
    }
   },
   "source": [
    "## Implementation of the module"
   ]
  },
  {
   "cell_type": "code",
   "execution_count": 21,
   "metadata": {},
   "outputs": [
    {
     "data": {
      "text/markdown": [
       "```python\n",
       "\"\"\" A module with useful functions \"\"\"\n",
       "\n",
       "def to_floats(lst):\n",
       "    \"\"\" Returns a list of strings corresponding to a list of floats \"\"\"\n",
       "    return [ float(arg) for arg in lst ]\n",
       "\n",
       "def prod(lst):\n",
       "    \"\"\" Computes and returns the product of a list \"\"\"\n",
       "    res = 1.\n",
       "    for x in lst: res *= x\n",
       "    return res\n",
       "\n",
       "```"
      ],
      "text/plain": [
       "<IPython.core.display.Markdown object>"
      ]
     },
     "execution_count": 21,
     "metadata": {},
     "output_type": "execute_result"
    }
   ],
   "source": [
    "show_code_listing(\"utils.py\")"
   ]
  },
  {
   "cell_type": "markdown",
   "metadata": {},
   "source": [
    "And that's all (well... most :)) there is to it!"
   ]
  },
  {
   "cell_type": "markdown",
   "metadata": {},
   "source": [
    "### Modules: Enabling Code Re-use\n",
    "\n",
    "Modules (and collections of modules -- packages) are a way by which Python supports and encourages ***code re-use***. They allow you to create (and share!) collections of useful routines. Virtuall all useful Python routines, as well as the libraries you're familiar with -- numpy, scipy, matplotlib -- are nothing else but Python packages.\n",
    "\n",
    "In research, your typical workflow will be very similar to what we've done here:\n",
    "1. Solving a problem (either as a .py script, or in a Jupyter notebook)\n",
    "1. Noticing that elements of your solution are more broadly useful.\n",
    "1. Moving them to a module, and changing the code to use the module instead."
   ]
  },
  {
   "cell_type": "markdown",
   "metadata": {
    "collapsed": true,
    "slideshow": {
     "slide_type": "slide"
    }
   },
   "source": [
    "## Object Oriented Programming\n",
    "\n",
    "Finally, let's refresh our memory of [object oriented programming](https://en.wikipedia.org/wiki/Object-oriented_programming), or 'OOP', that was introduced in ASTR 300.\n",
    "\n",
    "Terminology:\n",
    "* What is an ***object***? A collection of logically related data and functions that manipulate those data (called ***methods***).\n",
    "* What is a ***class***? Classes can be thought of as blueprints for creating objects. It specifies which data the object should contain, and what methods will there be to manipulate those data. But a class does not cleare the object itself.\n",
    "\n",
    "A real-world analogy may be that of a _car_ (a class), and a 2015 Ford Mustang (an _instance_ of a car -- the object).\n",
    "\n",
    "An example in Python:"
   ]
  },
  {
   "cell_type": "code",
   "execution_count": 22,
   "metadata": {},
   "outputs": [
    {
     "name": "stdout",
     "output_type": "stream",
     "text": [
      "('Ford', 'Mustang', 4, 7900.0, 20000.0)\n",
      "('Hyundai', 'Elantra', 4, 5500.0, 20000.0)\n"
     ]
    }
   ],
   "source": [
    "class Car:\n",
    "    \"\"\"A car for sale by Jeffco Car Dealership.\n",
    "\n",
    "    Attributes:\n",
    "        wheels: An integer representing the number of wheels the car has.\n",
    "        miles: The integral number of miles driven on the car.\n",
    "        make: The make of the car as a string.\n",
    "        model: The model of the car as a string.\n",
    "        year: The integral year the car was built.\n",
    "    \"\"\"\n",
    "\n",
    "    def __init__(self, wheels, miles, make, model, year):\n",
    "        \"\"\"Return a new Car object.\"\"\"\n",
    "        self.wheels = wheels\n",
    "        self.miles = miles\n",
    "        self.make = make\n",
    "        self.model = model\n",
    "        self.year = year\n",
    "\n",
    "    def sale_price(self):\n",
    "        \"\"\"Return the sale price for this car as a float amount.\"\"\"\n",
    "        return 5000.0 * self.wheels\n",
    "\n",
    "    def purchase_price(self):\n",
    "        \"\"\"Return the price for which we would pay to purchase the car.\"\"\"\n",
    "        return 8000 - (.10 * self.miles)\n",
    "\n",
    "mustang = Car(4, 1000, 'Ford', 'Mustang', 2015)\n",
    "elantra = Car(4, 25000, 'Hyundai', 'Elantra', 2011)\n",
    "\n",
    "print(mustang.make, mustang.model, mustang.wheels, mustang.purchase_price(), mustang.sale_price())\n",
    "print(elantra.make, elantra.model, elantra.wheels, elantra.purchase_price(), elantra.sale_price())"
   ]
  },
  {
   "cell_type": "markdown",
   "metadata": {},
   "source": [
    "Things to note:\n",
    "* We define classes with the 'class' keyword.\n",
    "* Functions defined within a class are known as `methods`\n",
    "\n",
    "\n",
    "* We create objects (instances of classes) by \"calling\" the class as if it was a function. Note how we can create many different objects of a same class.\n",
    "* We access the data within the object using a `<object>.<field>` notation\n",
    "* We invoke methods using the same notation.\n",
    "\n",
    "\n",
    "* All methods defined in the class take a special first argument, by convention named `self`. This is where the data for a particular object instance is stored.\n",
    "* There's a special method named `__init__`. This method is called when the object is being created; it is called a `constructor` (it constructs the object).\n",
    "\n",
    "\n",
    "* There are also many other elements to OOP (key being inheritance), that we don't have time to go over today -- check your ASTR 300 notes or the 'Learning Python' book."
   ]
  },
  {
   "cell_type": "markdown",
   "metadata": {
    "slideshow": {
     "slide_type": "slide"
    }
   },
   "source": [
    "## Everything is an object in Python\n",
    "\n",
    "Objects/classes are **immensly useful** when building organized, reusable, code.\n",
    "\n",
    "In Python, though you may not think about it, _every_ value is an object. For example, all integers are istances of a class `int`; think of an integer as an \"instance of class `int` with an internal state corresponding to the specific integer it represents\". Floating point numbers are instances of a class `float`, lists are instances of class `list`, strings are instances of class `str`, all `numpy` arrays you've encoutered are objects, etc, etc. ***Everything is an object in Python.***"
   ]
  },
  {
   "cell_type": "markdown",
   "metadata": {
    "slideshow": {
     "slide_type": "slide"
    }
   },
   "source": [
    "## Homework: Write a Calculator module\n",
    "\n",
    "Problem: write a Python module named `calc` with a class `Calculator` that will emulate a simple calculator capabile of addition, subtraction, multiplication, division, and clearing the state (setting it to zero). It must have methods for all these operations, named `add()`, `sub()`, `mul()`, `div()`, and `clr()`, respectivelly.\n",
    "\n",
    "Write the `Calculator` class to that it implemets the [_method chaining_](https://en.wikipedia.org/wiki/Method_chaining) programming pattern.\n",
    "\n",
    "Finally, make sure the class and all of its methods are properly documented with documentation strings (\"docstrings\") following [proper conventions](https://www.python.org/dev/peps/pep-0257/).\n",
    "\n",
    "This module (and the class it contains) should work as a drop-in for the following program:"
   ]
  },
  {
   "cell_type": "code",
   "execution_count": 23,
   "metadata": {},
   "outputs": [
    {
     "data": {
      "text/markdown": [
       "```python\n",
       "#!/usr/bin/env python\n",
       "\n",
       "from calc import Calculator\n",
       "\n",
       "def assertAlmostEqual(a, b):\n",
       "\t\"\"\" A function that tests the approximate equality of two floating point numbers. \"\"\"\n",
       "\tassert round(a-b, 7) == 0, \"{} is not equal to {}.\".format(a, b)\n",
       "\n",
       "c1 = Calculator()\t# Create an instance of a calculator\n",
       "c2 = Calculator(50)\t# Create another calculator, initialized with 50\n",
       "\n",
       "# Test individual methods, and that the two instances properly\n",
       "# track their own state.\n",
       "c1.add(2);           assertAlmostEqual(c1.result(), 2)\n",
       "c1.mul(4);           assertAlmostEqual(c1.result(), 8)\n",
       "c2.add(50);          assertAlmostEqual(c2.result(), 100)\n",
       "c1.div(8);           assertAlmostEqual(c1.result(), 1)\n",
       "c1.sub(-3.);         assertAlmostEqual(c1.result(), 4)\n",
       "c2.div(c1.result()); assertAlmostEqual(c2.result(), 25)\n",
       "\n",
       "print (\"All tests passed! You have a working calculator!\")\n",
       "\n",
       "```"
      ],
      "text/plain": [
       "<IPython.core.display.Markdown object>"
      ]
     },
     "execution_count": 23,
     "metadata": {},
     "output_type": "execute_result"
    }
   ],
   "source": [
    "show_code_listing('test_calc.py')"
   ]
  },
  {
   "cell_type": "markdown",
   "metadata": {},
   "source": [
    "## Solution"
   ]
  }
 ],
 "metadata": {
  "celltoolbar": "Slideshow",
  "kernelspec": {
   "display_name": "Python 2",
   "language": "python",
   "name": "python2"
  },
  "language_info": {
   "codemirror_mode": {
    "name": "ipython",
    "version": 2
   },
   "file_extension": ".py",
   "mimetype": "text/x-python",
   "name": "python",
   "nbconvert_exporter": "python",
   "pygments_lexer": "ipython2",
   "version": "2.7.13"
  },
  "livereveal": {
   "scroll": true,
   "start_slideshow_at": "selected"
  }
 },
 "nbformat": 4,
 "nbformat_minor": 2
}
